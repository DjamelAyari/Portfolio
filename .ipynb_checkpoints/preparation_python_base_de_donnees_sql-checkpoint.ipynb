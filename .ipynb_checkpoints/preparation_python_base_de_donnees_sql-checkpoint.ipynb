{
 "cells": [
  {
   "cell_type": "markdown",
   "id": "f4e0c16f",
   "metadata": {},
   "source": [
    "# <center>Code de préparation en Pyhon de la base de données SQL</center>"
   ]
  },
  {
   "cell_type": "markdown",
   "id": "798ae5a0",
   "metadata": {},
   "source": [
    "Voici le script détailé des étapes réalisées pour effectuer la préparation des données pour pouvoir créer une base de données immobilières."
   ]
  },
  {
   "cell_type": "markdown",
   "id": "fb7555a2",
   "metadata": {},
   "source": [
    "## Importation des librairies nécessaire"
   ]
  },
  {
   "cell_type": "code",
   "execution_count": null,
   "id": "2c73a191",
   "metadata": {},
   "outputs": [],
   "source": [
    "import pandas as pd\n",
    "import numpy as np"
   ]
  },
  {
   "cell_type": "markdown",
   "id": "6933b33d",
   "metadata": {},
   "source": [
    "## Importation de mes données Excel dans un dataframe nommé \"df\""
   ]
  },
  {
   "cell_type": "code",
   "execution_count": null,
   "id": "d4660185",
   "metadata": {},
   "outputs": [],
   "source": [
    "original = pd.read_excel(\"DAN-P3-data.xlsx\")\n",
    "\n",
    "df = original.copy()"
   ]
  },
  {
   "cell_type": "markdown",
   "id": "8d29a89c",
   "metadata": {},
   "source": [
    "## Appel du nom des colonnes pour voir leurs noms"
   ]
  },
  {
   "cell_type": "code",
   "execution_count": null,
   "id": "25947545",
   "metadata": {},
   "outputs": [],
   "source": [
    "df.columns"
   ]
  },
  {
   "cell_type": "markdown",
   "id": "9b2f4c80",
   "metadata": {},
   "source": [
    "## Retrait des colonnes inutiles"
   ]
  },
  {
   "cell_type": "code",
   "execution_count": null,
   "id": "a8a5fb9f",
   "metadata": {},
   "outputs": [],
   "source": [
    "df = df[[\"Date mutation\", \"Nature mutation\", \"Valeur fonciere\",\n",
    "         \"Type local\", \"Surface reelle bati\", \"Nombre pieces principales\", \n",
    "            \"Surface Carrez du 1er lot\", \"Nature culture\", \"Surface terrain\",\n",
    "            \"No voie\", \"B/T/Q\", \"Type de voie\", \"Voie\", \"Code postal\", \"Commune\", \n",
    "            \"Code departement\"]].copy()"
   ]
  },
  {
   "cell_type": "markdown",
   "id": "3e0e380d",
   "metadata": {},
   "source": [
    "## Duplication de \"df\" pour créer \"localite\" et \"mutation\" + retrait des colonnes inutiles"
   ]
  },
  {
   "cell_type": "code",
   "execution_count": null,
   "id": "a643c193",
   "metadata": {},
   "outputs": [],
   "source": [
    "localite = df.copy()\n",
    "\n",
    "localite.drop([\"Date mutation\", \"Nature mutation\", \"Valeur fonciere\",\"Type local\", \"Surface reelle bati\", \n",
    "               \"Nombre pieces principales\", \"Surface Carrez du 1er lot\", \"Nature culture\", \"Surface terrain\"], axis = 1, \n",
    "              inplace = True)"
   ]
  },
  {
   "cell_type": "code",
   "execution_count": null,
   "id": "8c9d24a6",
   "metadata": {},
   "outputs": [],
   "source": [
    "mutation = df.copy()\n",
    "\n",
    "mutation.drop([\"No voie\", \"B/T/Q\", \"Type de voie\", \"Voie\", \"Code postal\", \"Commune\", \"Code departement\", \"Type local\", \n",
    "               \"Surface reelle bati\", \"Nombre pieces principales\", \"Surface Carrez du 1er lot\", \"Nature culture\", \n",
    "               \"Surface terrain\"], axis = 1, inplace = True)"
   ]
  },
  {
   "cell_type": "markdown",
   "id": "f7723f03",
   "metadata": {},
   "source": [
    "## Retrait des doublons pour \"localite\" et \"df\""
   ]
  },
  {
   "cell_type": "code",
   "execution_count": null,
   "id": "7e5d7c82",
   "metadata": {},
   "outputs": [],
   "source": [
    "localite = localite.drop_duplicates()\n",
    "\n",
    "mutation = mutation.drop_duplicates(subset=[\"Date mutation\", \"Nature mutation\", \"Valeur fonciere\"])"
   ]
  },
  {
   "cell_type": "markdown",
   "id": "9e9cd0e7",
   "metadata": {},
   "source": [
    "## Creation d'un index pour \"localite\" et \"df\""
   ]
  },
  {
   "cell_type": "code",
   "execution_count": null,
   "id": "e54e9497",
   "metadata": {},
   "outputs": [],
   "source": [
    "localite.index = np.arange(1, len(localite)+1)\n",
    "localite.reset_index(inplace=True)\n",
    "localite = localite.rename(columns = {'index':'id_localite'})"
   ]
  },
  {
   "cell_type": "code",
   "execution_count": null,
   "id": "27499af4",
   "metadata": {},
   "outputs": [],
   "source": [
    "mutation.index = np.arange(1, len(mutation)+1)\n",
    "mutation.reset_index(inplace=True)\n",
    "mutation = mutation.rename(columns = {'index':'id_mutation'})"
   ]
  },
  {
   "cell_type": "code",
   "execution_count": null,
   "id": "e8e0cdb3",
   "metadata": {},
   "outputs": [],
   "source": [
    "df.index = np.arange(1, len(df)+1)\n",
    "df.reset_index(inplace=True)\n",
    "df = df.rename(columns = {'index':'id_biens'})"
   ]
  },
  {
   "cell_type": "markdown",
   "id": "331ddefa",
   "metadata": {},
   "source": [
    "## Jointure de \"localite\" et \"df\" via les colonnes de \"localite\""
   ]
  },
  {
   "cell_type": "code",
   "execution_count": null,
   "id": "54c46ff3",
   "metadata": {},
   "outputs": [],
   "source": [
    "df = pd.merge(localite, df, on=[\"No voie\", \"B/T/Q\", \"Type de voie\", \"Voie\", \"Code postal\", \"Commune\", \"Code departement\"], \n",
    "              how='inner')"
   ]
  },
  {
   "cell_type": "markdown",
   "id": "0166984f",
   "metadata": {},
   "source": [
    "## Jointure sur les colonnes de biens car une mutation concerne un biens"
   ]
  },
  {
   "cell_type": "code",
   "execution_count": null,
   "id": "1729946c",
   "metadata": {},
   "outputs": [],
   "source": [
    "mutation = pd.merge(df, mutation, on=[\"Date mutation\", \"Nature mutation\", \"Valeur fonciere\"], how='inner')\n",
    "\n",
    "mutation = mutation.drop_duplicates(subset=[\"Date mutation\", \"Nature mutation\", \"Valeur fonciere\"])\n",
    "\n",
    "mutation.drop([\"id_localite\",\"Type local\", \"Surface reelle bati\", \"Nombre pieces principales\", \"Surface Carrez du 1er lot\", \n",
    "               \"Nature culture\", \"Surface terrain\",\"No voie\", \"B/T/Q\", \"Type de voie\", \"Voie\", \"Code postal\", \"Commune\", \n",
    "               \"Code departement\"], axis = 1, inplace = True)\n",
    "\n",
    "df.drop([\"Date mutation\", \"Nature mutation\", \"Valeur fonciere\",\"No voie\", \"B/T/Q\", \"Type de voie\", \"Voie\", \"Code postal\", \n",
    "         \"Commune\", \"Code departement\"], axis = 1, inplace = True)\n",
    "\n",
    "df = df.drop_duplicates(subset=[\"Type local\", \"Surface reelle bati\", \"Nombre pieces principales\", \n",
    "                                \"Surface Carrez du 1er lot\", \"Nature culture\", \"Surface terrain\"])"
   ]
  },
  {
   "cell_type": "markdown",
   "id": "ce28ca8e",
   "metadata": {},
   "source": [
    "## Renommage de \"df\" en \"biens\" \n",
    "\n",
    "### (df renommé \"biens\", car il est relié à \"localite\")"
   ]
  },
  {
   "cell_type": "code",
   "execution_count": null,
   "id": "cd0a6de4",
   "metadata": {},
   "outputs": [],
   "source": [
    "biens = df.copy()"
   ]
  },
  {
   "cell_type": "markdown",
   "id": "267ab338",
   "metadata": {},
   "source": [
    "## Renommer les colonnes"
   ]
  },
  {
   "cell_type": "code",
   "execution_count": null,
   "id": "c87d39d8",
   "metadata": {},
   "outputs": [],
   "source": [
    "mutation.rename(columns={'Date mutation': 'date_mutation'}, inplace=True)\n",
    "mutation.rename(columns={'Nature mutation': 'nature_mutation'}, inplace=True)\n",
    "mutation.rename(columns={'Valeur fonciere': 'valeur_fonciere'}, inplace=True)"
   ]
  },
  {
   "cell_type": "code",
   "execution_count": null,
   "id": "895de9db",
   "metadata": {},
   "outputs": [],
   "source": [
    "biens.rename(columns={'Type local': 'type_local'}, inplace=True)\n",
    "biens.rename(columns={'Surface reelle bati': 'surface_reelle_bati'}, inplace=True)\n",
    "biens.rename(columns={'Nombre pieces principales': 'nombre_pieces_principales'}, inplace=True)\n",
    "biens.rename(columns={'Surface Carrez du 1er lot': 'surface_carrez'}, inplace=True)\n",
    "biens.rename(columns={'Nature culture': 'nature_culture'}, inplace=True)\n",
    "biens.rename(columns={'Surface terrain': 'surface_terrain'}, inplace=True)"
   ]
  },
  {
   "cell_type": "code",
   "execution_count": null,
   "id": "4d1f6aa6",
   "metadata": {},
   "outputs": [],
   "source": [
    "localite.rename(columns={'No voie': 'n_voie'}, inplace=True)\n",
    "localite.rename(columns={'B/T/Q': 'indice_repetition'}, inplace=True)\n",
    "localite.rename(columns={'Type de voie': 'type_de_voie'}, inplace=True)\n",
    "localite.rename(columns={'Voie': 'voie'}, inplace=True)\n",
    "localite.rename(columns={'Code postal': 'code_postale'}, inplace=True)\n",
    "localite.rename(columns={'Commune': 'commune'}, inplace=True)\n",
    "localite.rename(columns={'Code departement': 'departements'}, inplace=True)"
   ]
  },
  {
   "cell_type": "markdown",
   "id": "e73ec489",
   "metadata": {},
   "source": [
    "## Corriger la syntax\n",
    "\n",
    "### Recherche ici à retirer surtout les aphostrophes présentes dans certaines colonnes, car elles crées des erreurs"
   ]
  },
  {
   "cell_type": "code",
   "execution_count": null,
   "id": "55552725",
   "metadata": {},
   "outputs": [],
   "source": [
    "localite[\"voie\"] = localite[\"voie\"].str.replace('[^\\w\\s]','')\n",
    "localite[\"commune\"] = localite[\"commune\"].str.replace('[^\\w\\s]','')"
   ]
  },
  {
   "cell_type": "markdown",
   "id": "62325e23",
   "metadata": {},
   "source": [
    "## Changement de place de l'ordre de mes colonnes"
   ]
  },
  {
   "cell_type": "code",
   "execution_count": null,
   "id": "44a7ee49",
   "metadata": {},
   "outputs": [],
   "source": [
    "mutation = mutation[['id_mutation', 'date_mutation', 'nature_mutation', 'valeur_fonciere', 'id_biens']]"
   ]
  },
  {
   "cell_type": "code",
   "execution_count": null,
   "id": "6b02e8ff",
   "metadata": {},
   "outputs": [],
   "source": [
    "biens = biens[['id_biens', 'type_local', 'surface_reelle_bati', 'nombre_pieces_principales', 'surface_carrez', \n",
    "               'nature_culture', 'surface_terrain', 'id_localite']]"
   ]
  },
  {
   "cell_type": "code",
   "execution_count": null,
   "id": "ca7e0232",
   "metadata": {},
   "outputs": [],
   "source": [
    "localite = localite[['id_localite', 'n_voie', 'indice_repetition', 'type_de_voie', 'voie', 'code_postale', 'commune', \n",
    "                     'departements']]"
   ]
  },
  {
   "cell_type": "markdown",
   "id": "9d842ba1",
   "metadata": {},
   "source": [
    "## Enregistrer et Convertir en CSV"
   ]
  },
  {
   "cell_type": "code",
   "execution_count": null,
   "id": "7d84d347",
   "metadata": {},
   "outputs": [],
   "source": [
    "mutation.to_csv(r'C:\\Users\\DjamelAyari\\OneDrive\\DATA SCIENCE\\OCR\\Data Analyst\\Projet 3\\CSV\\mutation.csv', index = False)\n",
    "biens.to_csv(r'C:\\Users\\DjamelAyari\\OneDrive\\DATA SCIENCE\\OCR\\Data Analyst\\Projet 3\\CSV\\biens.csv', index = False)\n",
    "localite.to_csv(r'C:\\Users\\DjamelAyari\\OneDrive\\DATA SCIENCE\\OCR\\Data Analyst\\Projet 3\\CSV\\localite.csv', index = False)"
   ]
  }
 ],
 "metadata": {
  "kernelspec": {
   "display_name": "Python 3 (ipykernel)",
   "language": "python",
   "name": "python3"
  },
  "language_info": {
   "codemirror_mode": {
    "name": "ipython",
    "version": 3
   },
   "file_extension": ".py",
   "mimetype": "text/x-python",
   "name": "python",
   "nbconvert_exporter": "python",
   "pygments_lexer": "ipython3",
   "version": "3.9.12"
  },
  "latex_envs": {
   "LaTeX_envs_menu_present": true,
   "autoclose": false,
   "autocomplete": true,
   "bibliofile": "biblio.bib",
   "cite_by": "apalike",
   "current_citInitial": 1,
   "eqLabelWithNumbers": true,
   "eqNumInitial": 1,
   "hotkeys": {
    "equation": "Ctrl-E",
    "itemize": "Ctrl-I"
   },
   "labels_anchors": false,
   "latex_user_defs": false,
   "report_style_numbering": false,
   "user_envs_cfg": false
  }
 },
 "nbformat": 4,
 "nbformat_minor": 5
}
