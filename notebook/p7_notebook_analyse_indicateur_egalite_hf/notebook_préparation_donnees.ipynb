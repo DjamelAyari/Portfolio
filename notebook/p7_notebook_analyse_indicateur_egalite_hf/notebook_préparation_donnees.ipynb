{
 "cells": [
  {
   "cell_type": "markdown",
   "id": "221d21a8",
   "metadata": {},
   "source": [
    "# <center>Préparation des données projet 7</center>"
   ]
  },
  {
   "cell_type": "markdown",
   "id": "a32bb4f2",
   "metadata": {},
   "source": [
    "## <center>Importation des librairies</center>"
   ]
  },
  {
   "cell_type": "code",
   "execution_count": 74,
   "id": "a52a0d6c",
   "metadata": {},
   "outputs": [],
   "source": [
    "import pandas as pd\n",
    "import numpy as np\n",
    "import seaborn as sns\n",
    "import matplotlib.pyplot as plt"
   ]
  },
  {
   "cell_type": "markdown",
   "id": "2421c7c0",
   "metadata": {},
   "source": [
    "## <center>Importation des dataset</center>"
   ]
  },
  {
   "cell_type": "code",
   "execution_count": 2,
   "id": "be3fc571",
   "metadata": {},
   "outputs": [],
   "source": [
    "ip = pd.read_excel(\"Table info_pro.xlsx\")\n",
    "r = pd.read_excel(\"Table remuneration.xlsx\")\n",
    "s = pd.read_excel(\"Table Salari‚s.xlsx\")"
   ]
  },
  {
   "cell_type": "markdown",
   "id": "9e942401",
   "metadata": {},
   "source": [
    "## <center>Exploratory Data Analysis</center>"
   ]
  },
  {
   "cell_type": "code",
   "execution_count": 3,
   "id": "b10d80c6",
   "metadata": {},
   "outputs": [
    {
     "name": "stdout",
     "output_type": "stream",
     "text": [
      "ip shape = (256, 6)\n",
      "r shape = (256, 7)\n",
      "s shape = (256, 7)\n"
     ]
    }
   ],
   "source": [
    "print(\"ip shape =\", ip.shape)\n",
    "print(\"r shape =\", r.shape)\n",
    "print(\"s shape =\", s.shape)"
   ]
  },
  {
   "cell_type": "code",
   "execution_count": 4,
   "id": "593abf6d",
   "metadata": {},
   "outputs": [
    {
     "data": {
      "text/html": [
       "<div>\n",
       "<style scoped>\n",
       "    .dataframe tbody tr th:only-of-type {\n",
       "        vertical-align: middle;\n",
       "    }\n",
       "\n",
       "    .dataframe tbody tr th {\n",
       "        vertical-align: top;\n",
       "    }\n",
       "\n",
       "    .dataframe thead th {\n",
       "        text-align: right;\n",
       "    }\n",
       "</style>\n",
       "<table border=\"1\" class=\"dataframe\">\n",
       "  <thead>\n",
       "    <tr style=\"text-align: right;\">\n",
       "      <th></th>\n",
       "      <th>id_salarié</th>\n",
       "      <th>Ancienneté_an</th>\n",
       "      <th>Distance domicile/Travail</th>\n",
       "      <th>Service</th>\n",
       "      <th>Work_accident</th>\n",
       "      <th>Niveau de satisfaction</th>\n",
       "    </tr>\n",
       "  </thead>\n",
       "  <tbody>\n",
       "    <tr>\n",
       "      <th>0</th>\n",
       "      <td>16000206-8278</td>\n",
       "      <td>12.6</td>\n",
       "      <td>59</td>\n",
       "      <td>Marketing</td>\n",
       "      <td>Non</td>\n",
       "      <td>67</td>\n",
       "    </tr>\n",
       "    <tr>\n",
       "      <th>1</th>\n",
       "      <td>16011205-0331</td>\n",
       "      <td>11.8</td>\n",
       "      <td>31</td>\n",
       "      <td>Commercial</td>\n",
       "      <td>Oui</td>\n",
       "      <td>66</td>\n",
       "    </tr>\n",
       "    <tr>\n",
       "      <th>2</th>\n",
       "      <td>16020327-1465</td>\n",
       "      <td>11.9</td>\n",
       "      <td>65</td>\n",
       "      <td>RH</td>\n",
       "      <td>Non</td>\n",
       "      <td>59</td>\n",
       "    </tr>\n",
       "    <tr>\n",
       "      <th>3</th>\n",
       "      <td>16020701-3376</td>\n",
       "      <td>10.2</td>\n",
       "      <td>59</td>\n",
       "      <td>Compta Finances</td>\n",
       "      <td>Non</td>\n",
       "      <td>60</td>\n",
       "    </tr>\n",
       "    <tr>\n",
       "      <th>4</th>\n",
       "      <td>16020725-8401</td>\n",
       "      <td>7.9</td>\n",
       "      <td>59</td>\n",
       "      <td>Consultant</td>\n",
       "      <td>Non</td>\n",
       "      <td>34</td>\n",
       "    </tr>\n",
       "    <tr>\n",
       "      <th>5</th>\n",
       "      <td>16021124-8356</td>\n",
       "      <td>8.6</td>\n",
       "      <td>34</td>\n",
       "      <td>RH</td>\n",
       "      <td>Oui</td>\n",
       "      <td>84</td>\n",
       "    </tr>\n",
       "    <tr>\n",
       "      <th>6</th>\n",
       "      <td>16021125-4271</td>\n",
       "      <td>14.9</td>\n",
       "      <td>36</td>\n",
       "      <td>Commercial</td>\n",
       "      <td>Non</td>\n",
       "      <td>62</td>\n",
       "    </tr>\n",
       "    <tr>\n",
       "      <th>7</th>\n",
       "      <td>16030220-7121</td>\n",
       "      <td>6.3</td>\n",
       "      <td>23</td>\n",
       "      <td>Consultant</td>\n",
       "      <td>Non</td>\n",
       "      <td>69</td>\n",
       "    </tr>\n",
       "    <tr>\n",
       "      <th>8</th>\n",
       "      <td>16030828-8604</td>\n",
       "      <td>18.2</td>\n",
       "      <td>23</td>\n",
       "      <td>Commercial</td>\n",
       "      <td>Oui</td>\n",
       "      <td>54</td>\n",
       "    </tr>\n",
       "    <tr>\n",
       "      <th>9</th>\n",
       "      <td>16031007-1667</td>\n",
       "      <td>23.1</td>\n",
       "      <td>49</td>\n",
       "      <td>Commercial</td>\n",
       "      <td>Oui</td>\n",
       "      <td>31</td>\n",
       "    </tr>\n",
       "  </tbody>\n",
       "</table>\n",
       "</div>"
      ],
      "text/plain": [
       "      id_salarié  Ancienneté_an  Distance domicile/Travail          Service  \\\n",
       "0  16000206-8278           12.6                         59        Marketing   \n",
       "1  16011205-0331           11.8                         31       Commercial   \n",
       "2  16020327-1465           11.9                         65               RH   \n",
       "3  16020701-3376           10.2                         59  Compta Finances   \n",
       "4  16020725-8401            7.9                         59       Consultant   \n",
       "5  16021124-8356            8.6                         34               RH   \n",
       "6  16021125-4271           14.9                         36       Commercial   \n",
       "7  16030220-7121            6.3                         23       Consultant   \n",
       "8  16030828-8604           18.2                         23       Commercial   \n",
       "9  16031007-1667           23.1                         49       Commercial   \n",
       "\n",
       "  Work_accident  Niveau de satisfaction  \n",
       "0           Non                      67  \n",
       "1           Oui                      66  \n",
       "2           Non                      59  \n",
       "3           Non                      60  \n",
       "4           Non                      34  \n",
       "5           Oui                      84  \n",
       "6           Non                      62  \n",
       "7           Non                      69  \n",
       "8           Oui                      54  \n",
       "9           Oui                      31  "
      ]
     },
     "execution_count": 4,
     "metadata": {},
     "output_type": "execute_result"
    }
   ],
   "source": [
    "ip.head(10)"
   ]
  },
  {
   "cell_type": "code",
   "execution_count": 5,
   "id": "0ca68f4b",
   "metadata": {},
   "outputs": [
    {
     "data": {
      "text/html": [
       "<div>\n",
       "<style scoped>\n",
       "    .dataframe tbody tr th:only-of-type {\n",
       "        vertical-align: middle;\n",
       "    }\n",
       "\n",
       "    .dataframe tbody tr th {\n",
       "        vertical-align: top;\n",
       "    }\n",
       "\n",
       "    .dataframe thead th {\n",
       "        text-align: right;\n",
       "    }\n",
       "</style>\n",
       "<table border=\"1\" class=\"dataframe\">\n",
       "  <thead>\n",
       "    <tr style=\"text-align: right;\">\n",
       "      <th></th>\n",
       "      <th>id_salarié</th>\n",
       "      <th>Contrat</th>\n",
       "      <th>Durée hebdo</th>\n",
       "      <th>Salaire base mensuel</th>\n",
       "      <th>%variable_moyen</th>\n",
       "      <th>Augmentation</th>\n",
       "      <th>Promotion</th>\n",
       "    </tr>\n",
       "  </thead>\n",
       "  <tbody>\n",
       "    <tr>\n",
       "      <th>0</th>\n",
       "      <td>16990924-2829</td>\n",
       "      <td>CDI</td>\n",
       "      <td>35</td>\n",
       "      <td>9873.5000</td>\n",
       "      <td>13</td>\n",
       "      <td>0.0</td>\n",
       "      <td>0.0</td>\n",
       "    </tr>\n",
       "    <tr>\n",
       "      <th>1</th>\n",
       "      <td>16990414-3527</td>\n",
       "      <td>CDI</td>\n",
       "      <td>35</td>\n",
       "      <td>4296.7167</td>\n",
       "      <td>39</td>\n",
       "      <td>0.0</td>\n",
       "      <td>1.0</td>\n",
       "    </tr>\n",
       "    <tr>\n",
       "      <th>2</th>\n",
       "      <td>16981206-3817</td>\n",
       "      <td>CDI</td>\n",
       "      <td>35</td>\n",
       "      <td>3705.2167</td>\n",
       "      <td>29</td>\n",
       "      <td>1.0</td>\n",
       "      <td>1.0</td>\n",
       "    </tr>\n",
       "    <tr>\n",
       "      <th>3</th>\n",
       "      <td>16970415-1050</td>\n",
       "      <td>CDI</td>\n",
       "      <td>35</td>\n",
       "      <td>1697.1500</td>\n",
       "      <td>17</td>\n",
       "      <td>1.0</td>\n",
       "      <td>0.0</td>\n",
       "    </tr>\n",
       "    <tr>\n",
       "      <th>4</th>\n",
       "      <td>16960906-7989</td>\n",
       "      <td>CDD</td>\n",
       "      <td>35</td>\n",
       "      <td>2848.3000</td>\n",
       "      <td>15</td>\n",
       "      <td>1.0</td>\n",
       "      <td>0.0</td>\n",
       "    </tr>\n",
       "    <tr>\n",
       "      <th>5</th>\n",
       "      <td>16960628-0338</td>\n",
       "      <td>CDI</td>\n",
       "      <td>35</td>\n",
       "      <td>5464.5500</td>\n",
       "      <td>34</td>\n",
       "      <td>0.0</td>\n",
       "      <td>0.0</td>\n",
       "    </tr>\n",
       "    <tr>\n",
       "      <th>6</th>\n",
       "      <td>16960619-9017</td>\n",
       "      <td>CDI</td>\n",
       "      <td>35</td>\n",
       "      <td>9999.3833</td>\n",
       "      <td>27</td>\n",
       "      <td>0.0</td>\n",
       "      <td>1.0</td>\n",
       "    </tr>\n",
       "    <tr>\n",
       "      <th>7</th>\n",
       "      <td>16951117-9468</td>\n",
       "      <td>CDI</td>\n",
       "      <td>24</td>\n",
       "      <td>3116.8800</td>\n",
       "      <td>37</td>\n",
       "      <td>0.0</td>\n",
       "      <td>1.0</td>\n",
       "    </tr>\n",
       "    <tr>\n",
       "      <th>8</th>\n",
       "      <td>16950828-2259</td>\n",
       "      <td>CDI</td>\n",
       "      <td>24</td>\n",
       "      <td>5462.0800</td>\n",
       "      <td>39</td>\n",
       "      <td>0.0</td>\n",
       "      <td>1.0</td>\n",
       "    </tr>\n",
       "    <tr>\n",
       "      <th>9</th>\n",
       "      <td>16950514-2464</td>\n",
       "      <td>CDI</td>\n",
       "      <td>35</td>\n",
       "      <td>2769.4333</td>\n",
       "      <td>33</td>\n",
       "      <td>0.0</td>\n",
       "      <td>0.0</td>\n",
       "    </tr>\n",
       "  </tbody>\n",
       "</table>\n",
       "</div>"
      ],
      "text/plain": [
       "      id_salarié Contrat  Durée hebdo  Salaire base mensuel  %variable_moyen  \\\n",
       "0  16990924-2829     CDI           35             9873.5000               13   \n",
       "1  16990414-3527     CDI           35             4296.7167               39   \n",
       "2  16981206-3817     CDI           35             3705.2167               29   \n",
       "3  16970415-1050     CDI           35             1697.1500               17   \n",
       "4  16960906-7989     CDD           35             2848.3000               15   \n",
       "5  16960628-0338     CDI           35             5464.5500               34   \n",
       "6  16960619-9017     CDI           35             9999.3833               27   \n",
       "7  16951117-9468     CDI           24             3116.8800               37   \n",
       "8  16950828-2259     CDI           24             5462.0800               39   \n",
       "9  16950514-2464     CDI           35             2769.4333               33   \n",
       "\n",
       "   Augmentation  Promotion  \n",
       "0           0.0        0.0  \n",
       "1           0.0        1.0  \n",
       "2           1.0        1.0  \n",
       "3           1.0        0.0  \n",
       "4           1.0        0.0  \n",
       "5           0.0        0.0  \n",
       "6           0.0        1.0  \n",
       "7           0.0        1.0  \n",
       "8           0.0        1.0  \n",
       "9           0.0        0.0  "
      ]
     },
     "execution_count": 5,
     "metadata": {},
     "output_type": "execute_result"
    }
   ],
   "source": [
    "r.head(10)"
   ]
  },
  {
   "cell_type": "code",
   "execution_count": 6,
   "id": "c7821bda",
   "metadata": {},
   "outputs": [
    {
     "data": {
      "text/html": [
       "<div>\n",
       "<style scoped>\n",
       "    .dataframe tbody tr th:only-of-type {\n",
       "        vertical-align: middle;\n",
       "    }\n",
       "\n",
       "    .dataframe tbody tr th {\n",
       "        vertical-align: top;\n",
       "    }\n",
       "\n",
       "    .dataframe thead th {\n",
       "        text-align: right;\n",
       "    }\n",
       "</style>\n",
       "<table border=\"1\" class=\"dataframe\">\n",
       "  <thead>\n",
       "    <tr style=\"text-align: right;\">\n",
       "      <th></th>\n",
       "      <th>id_salarié</th>\n",
       "      <th>Sexe</th>\n",
       "      <th>Prénom/Nom</th>\n",
       "      <th>Telephone</th>\n",
       "      <th>Date_naissance</th>\n",
       "      <th>Etat Civil</th>\n",
       "      <th>Enfants</th>\n",
       "    </tr>\n",
       "  </thead>\n",
       "  <tbody>\n",
       "    <tr>\n",
       "      <th>0</th>\n",
       "      <td>16920105-1209</td>\n",
       "      <td>F</td>\n",
       "      <td>Solenne Delannoy</td>\n",
       "      <td>607958599</td>\n",
       "      <td>1955-07-07</td>\n",
       "      <td>Célibataire</td>\n",
       "      <td>1</td>\n",
       "    </tr>\n",
       "    <tr>\n",
       "      <th>1</th>\n",
       "      <td>16661123-8764</td>\n",
       "      <td>H</td>\n",
       "      <td>Nicolas Jaccoud</td>\n",
       "      <td>660029842</td>\n",
       "      <td>1970-09-22</td>\n",
       "      <td>Célibataire</td>\n",
       "      <td>3</td>\n",
       "    </tr>\n",
       "    <tr>\n",
       "      <th>2</th>\n",
       "      <td>16230718-4297</td>\n",
       "      <td>F</td>\n",
       "      <td>Alexandra Auguste</td>\n",
       "      <td>629910592</td>\n",
       "      <td>1965-03-01</td>\n",
       "      <td>Marié</td>\n",
       "      <td>1</td>\n",
       "    </tr>\n",
       "    <tr>\n",
       "      <th>3</th>\n",
       "      <td>16130305-6954</td>\n",
       "      <td>F</td>\n",
       "      <td>Marie-Claire Besnard</td>\n",
       "      <td>685888970</td>\n",
       "      <td>1963-09-02</td>\n",
       "      <td>NaN</td>\n",
       "      <td>1</td>\n",
       "    </tr>\n",
       "    <tr>\n",
       "      <th>4</th>\n",
       "      <td>16360125-5924</td>\n",
       "      <td>F</td>\n",
       "      <td>Marie Berengar</td>\n",
       "      <td>624840475</td>\n",
       "      <td>1959-04-02</td>\n",
       "      <td>Marié</td>\n",
       "      <td>3</td>\n",
       "    </tr>\n",
       "    <tr>\n",
       "      <th>5</th>\n",
       "      <td>16520612-7770</td>\n",
       "      <td>F</td>\n",
       "      <td>Marie-Madeleine Frère</td>\n",
       "      <td>697029629</td>\n",
       "      <td>1960-12-18</td>\n",
       "      <td>Célibataire</td>\n",
       "      <td>2</td>\n",
       "    </tr>\n",
       "    <tr>\n",
       "      <th>6</th>\n",
       "      <td>16860412-1965</td>\n",
       "      <td>H</td>\n",
       "      <td>Côme Martin</td>\n",
       "      <td>647351913</td>\n",
       "      <td>1975-10-18</td>\n",
       "      <td>Marié</td>\n",
       "      <td>1</td>\n",
       "    </tr>\n",
       "    <tr>\n",
       "      <th>7</th>\n",
       "      <td>16551001-4151</td>\n",
       "      <td>F</td>\n",
       "      <td>Agathe Berengar</td>\n",
       "      <td>608137743</td>\n",
       "      <td>1970-11-03</td>\n",
       "      <td>Marié</td>\n",
       "      <td>2</td>\n",
       "    </tr>\n",
       "    <tr>\n",
       "      <th>8</th>\n",
       "      <td>16220420-6227</td>\n",
       "      <td>H</td>\n",
       "      <td>Christophe Mallette</td>\n",
       "      <td>683794378</td>\n",
       "      <td>1975-02-05</td>\n",
       "      <td>NaN</td>\n",
       "      <td>0</td>\n",
       "    </tr>\n",
       "    <tr>\n",
       "      <th>9</th>\n",
       "      <td>16550904-2932</td>\n",
       "      <td>F</td>\n",
       "      <td>Julie Botrel</td>\n",
       "      <td>661890256</td>\n",
       "      <td>1969-05-14</td>\n",
       "      <td>Célibataire</td>\n",
       "      <td>3</td>\n",
       "    </tr>\n",
       "  </tbody>\n",
       "</table>\n",
       "</div>"
      ],
      "text/plain": [
       "      id_salarié Sexe             Prénom/Nom  Telephone Date_naissance  \\\n",
       "0  16920105-1209    F       Solenne Delannoy  607958599     1955-07-07   \n",
       "1  16661123-8764    H        Nicolas Jaccoud  660029842     1970-09-22   \n",
       "2  16230718-4297    F      Alexandra Auguste  629910592     1965-03-01   \n",
       "3  16130305-6954    F   Marie-Claire Besnard  685888970     1963-09-02   \n",
       "4  16360125-5924    F         Marie Berengar  624840475     1959-04-02   \n",
       "5  16520612-7770    F  Marie-Madeleine Frère  697029629     1960-12-18   \n",
       "6  16860412-1965    H            Côme Martin  647351913     1975-10-18   \n",
       "7  16551001-4151    F        Agathe Berengar  608137743     1970-11-03   \n",
       "8  16220420-6227    H    Christophe Mallette  683794378     1975-02-05   \n",
       "9  16550904-2932    F           Julie Botrel  661890256     1969-05-14   \n",
       "\n",
       "    Etat Civil  Enfants  \n",
       "0  Célibataire        1  \n",
       "1  Célibataire        3  \n",
       "2        Marié        1  \n",
       "3          NaN        1  \n",
       "4        Marié        3  \n",
       "5  Célibataire        2  \n",
       "6        Marié        1  \n",
       "7        Marié        2  \n",
       "8          NaN        0  \n",
       "9  Célibataire        3  "
      ]
     },
     "execution_count": 6,
     "metadata": {},
     "output_type": "execute_result"
    }
   ],
   "source": [
    "s.head(10)"
   ]
  },
  {
   "cell_type": "code",
   "execution_count": 7,
   "id": "71f93421",
   "metadata": {},
   "outputs": [
    {
     "data": {
      "text/plain": [
       "id_salarié                   0\n",
       "Ancienneté_an                0\n",
       "Distance domicile/Travail    0\n",
       "Service                      0\n",
       "Work_accident                0\n",
       "Niveau de satisfaction       0\n",
       "dtype: int64"
      ]
     },
     "execution_count": 7,
     "metadata": {},
     "output_type": "execute_result"
    }
   ],
   "source": [
    "ip.isnull().sum()"
   ]
  },
  {
   "cell_type": "code",
   "execution_count": 8,
   "id": "38a0cbb4",
   "metadata": {},
   "outputs": [
    {
     "data": {
      "text/plain": [
       "id_salarié               0\n",
       "Contrat                  0\n",
       "Durée hebdo              0\n",
       "Salaire base mensuel     0\n",
       "%variable_moyen          0\n",
       "Augmentation            15\n",
       "Promotion               15\n",
       "dtype: int64"
      ]
     },
     "execution_count": 8,
     "metadata": {},
     "output_type": "execute_result"
    }
   ],
   "source": [
    "r.isnull().sum()"
   ]
  },
  {
   "cell_type": "code",
   "execution_count": 9,
   "id": "5370ac8d",
   "metadata": {},
   "outputs": [
    {
     "data": {
      "text/plain": [
       "id_salarié         0\n",
       "Sexe               0\n",
       "Prénom/Nom         0\n",
       "Telephone          0\n",
       "Date_naissance     0\n",
       "Etat Civil        82\n",
       "Enfants            0\n",
       "dtype: int64"
      ]
     },
     "execution_count": 9,
     "metadata": {},
     "output_type": "execute_result"
    }
   ],
   "source": [
    "s.isnull().sum()"
   ]
  },
  {
   "cell_type": "markdown",
   "id": "792194f7",
   "metadata": {},
   "source": [
    "*J'ai 3 dataset, chacun a une colonne \"id_salarié\", je peux donc les regrouper grâce à cette colonne.*\n",
    "\n",
    "*Il faut d'abord que je vérifie l'unicité des clé primaires.*"
   ]
  },
  {
   "cell_type": "markdown",
   "id": "d70148cb",
   "metadata": {},
   "source": [
    "### Unicité des clés primaires"
   ]
  },
  {
   "cell_type": "code",
   "execution_count": 10,
   "id": "398bec85",
   "metadata": {},
   "outputs": [
    {
     "data": {
      "text/plain": [
       "0"
      ]
     },
     "execution_count": 10,
     "metadata": {},
     "output_type": "execute_result"
    }
   ],
   "source": [
    "ip.duplicated().sum()"
   ]
  },
  {
   "cell_type": "code",
   "execution_count": 11,
   "id": "b4982e32",
   "metadata": {},
   "outputs": [
    {
     "data": {
      "text/plain": [
       "0"
      ]
     },
     "execution_count": 11,
     "metadata": {},
     "output_type": "execute_result"
    }
   ],
   "source": [
    "ip[\"id_salarié\"].duplicated().sum()"
   ]
  },
  {
   "cell_type": "code",
   "execution_count": 12,
   "id": "b2b8110e",
   "metadata": {},
   "outputs": [
    {
     "data": {
      "text/plain": [
       "0"
      ]
     },
     "execution_count": 12,
     "metadata": {},
     "output_type": "execute_result"
    }
   ],
   "source": [
    "r.duplicated().sum()"
   ]
  },
  {
   "cell_type": "code",
   "execution_count": 13,
   "id": "0e5d3ac1",
   "metadata": {},
   "outputs": [
    {
     "data": {
      "text/plain": [
       "0"
      ]
     },
     "execution_count": 13,
     "metadata": {},
     "output_type": "execute_result"
    }
   ],
   "source": [
    "r[\"id_salarié\"].duplicated().sum()"
   ]
  },
  {
   "cell_type": "code",
   "execution_count": 14,
   "id": "813a88e7",
   "metadata": {},
   "outputs": [
    {
     "data": {
      "text/plain": [
       "0"
      ]
     },
     "execution_count": 14,
     "metadata": {},
     "output_type": "execute_result"
    }
   ],
   "source": [
    "s.duplicated().sum()"
   ]
  },
  {
   "cell_type": "code",
   "execution_count": 15,
   "id": "93370737",
   "metadata": {},
   "outputs": [
    {
     "data": {
      "text/plain": [
       "0"
      ]
     },
     "execution_count": 15,
     "metadata": {},
     "output_type": "execute_result"
    }
   ],
   "source": [
    "s[\"id_salarié\"].duplicated().sum()"
   ]
  },
  {
   "cell_type": "code",
   "execution_count": 16,
   "id": "1e5831d5",
   "metadata": {},
   "outputs": [
    {
     "data": {
      "text/plain": [
       "0"
      ]
     },
     "execution_count": 16,
     "metadata": {},
     "output_type": "execute_result"
    }
   ],
   "source": [
    "s[\"Prénom/Nom\"].duplicated().sum()"
   ]
  },
  {
   "cell_type": "markdown",
   "id": "741d6edf",
   "metadata": {},
   "source": [
    "*Il n'y a pas de doublons, chaque lignes de mes 3 dataset est unique, je vais pouvoir créer un seul dataset.*"
   ]
  },
  {
   "cell_type": "markdown",
   "id": "7152ed97",
   "metadata": {},
   "source": [
    "### Rassemblement"
   ]
  },
  {
   "cell_type": "code",
   "execution_count": 17,
   "id": "2ca34f1f",
   "metadata": {},
   "outputs": [],
   "source": [
    "df = ip.merge(r, how='left', on='id_salarié')"
   ]
  },
  {
   "cell_type": "code",
   "execution_count": 18,
   "id": "56d943c2",
   "metadata": {},
   "outputs": [
    {
     "data": {
      "text/plain": [
       "(256, 12)"
      ]
     },
     "execution_count": 18,
     "metadata": {},
     "output_type": "execute_result"
    }
   ],
   "source": [
    "df.shape"
   ]
  },
  {
   "cell_type": "code",
   "execution_count": 19,
   "id": "fb62d8fc",
   "metadata": {},
   "outputs": [],
   "source": [
    "df = df.merge(s, how='left', on='id_salarié')"
   ]
  },
  {
   "cell_type": "code",
   "execution_count": 20,
   "id": "6756e0c7",
   "metadata": {},
   "outputs": [
    {
     "data": {
      "text/plain": [
       "(256, 18)"
      ]
     },
     "execution_count": 20,
     "metadata": {},
     "output_type": "execute_result"
    }
   ],
   "source": [
    "df.shape"
   ]
  },
  {
   "cell_type": "code",
   "execution_count": 21,
   "id": "d18c190e",
   "metadata": {},
   "outputs": [
    {
     "data": {
      "text/html": [
       "<div>\n",
       "<style scoped>\n",
       "    .dataframe tbody tr th:only-of-type {\n",
       "        vertical-align: middle;\n",
       "    }\n",
       "\n",
       "    .dataframe tbody tr th {\n",
       "        vertical-align: top;\n",
       "    }\n",
       "\n",
       "    .dataframe thead th {\n",
       "        text-align: right;\n",
       "    }\n",
       "</style>\n",
       "<table border=\"1\" class=\"dataframe\">\n",
       "  <thead>\n",
       "    <tr style=\"text-align: right;\">\n",
       "      <th></th>\n",
       "      <th>id_salarié</th>\n",
       "      <th>Ancienneté_an</th>\n",
       "      <th>Distance domicile/Travail</th>\n",
       "      <th>Service</th>\n",
       "      <th>Work_accident</th>\n",
       "      <th>Niveau de satisfaction</th>\n",
       "      <th>Contrat</th>\n",
       "      <th>Durée hebdo</th>\n",
       "      <th>Salaire base mensuel</th>\n",
       "      <th>%variable_moyen</th>\n",
       "      <th>Augmentation</th>\n",
       "      <th>Promotion</th>\n",
       "      <th>Sexe</th>\n",
       "      <th>Prénom/Nom</th>\n",
       "      <th>Telephone</th>\n",
       "      <th>Date_naissance</th>\n",
       "      <th>Etat Civil</th>\n",
       "      <th>Enfants</th>\n",
       "    </tr>\n",
       "  </thead>\n",
       "  <tbody>\n",
       "    <tr>\n",
       "      <th>0</th>\n",
       "      <td>16000206-8278</td>\n",
       "      <td>12.6</td>\n",
       "      <td>59</td>\n",
       "      <td>Marketing</td>\n",
       "      <td>Non</td>\n",
       "      <td>67</td>\n",
       "      <td>CDI</td>\n",
       "      <td>35</td>\n",
       "      <td>6583.8500</td>\n",
       "      <td>13</td>\n",
       "      <td>1.0</td>\n",
       "      <td>1.0</td>\n",
       "      <td>F</td>\n",
       "      <td>Pascale Duclos</td>\n",
       "      <td>677289138</td>\n",
       "      <td>1958-12-07</td>\n",
       "      <td>NaN</td>\n",
       "      <td>2</td>\n",
       "    </tr>\n",
       "    <tr>\n",
       "      <th>1</th>\n",
       "      <td>16011205-0331</td>\n",
       "      <td>11.8</td>\n",
       "      <td>31</td>\n",
       "      <td>Commercial</td>\n",
       "      <td>Oui</td>\n",
       "      <td>66</td>\n",
       "      <td>CDI</td>\n",
       "      <td>24</td>\n",
       "      <td>4974.3200</td>\n",
       "      <td>32</td>\n",
       "      <td>0.0</td>\n",
       "      <td>1.0</td>\n",
       "      <td>F</td>\n",
       "      <td>Nicole Affré</td>\n",
       "      <td>640934749</td>\n",
       "      <td>1957-04-23</td>\n",
       "      <td>Célibataire</td>\n",
       "      <td>2</td>\n",
       "    </tr>\n",
       "    <tr>\n",
       "      <th>2</th>\n",
       "      <td>16020327-1465</td>\n",
       "      <td>11.9</td>\n",
       "      <td>65</td>\n",
       "      <td>RH</td>\n",
       "      <td>Non</td>\n",
       "      <td>59</td>\n",
       "      <td>CDI</td>\n",
       "      <td>32</td>\n",
       "      <td>8860.8000</td>\n",
       "      <td>19</td>\n",
       "      <td>1.0</td>\n",
       "      <td>1.0</td>\n",
       "      <td>F</td>\n",
       "      <td>Marie-Claire Bachelet</td>\n",
       "      <td>609243379</td>\n",
       "      <td>1973-08-19</td>\n",
       "      <td>Célibataire</td>\n",
       "      <td>3</td>\n",
       "    </tr>\n",
       "    <tr>\n",
       "      <th>3</th>\n",
       "      <td>16020701-3376</td>\n",
       "      <td>10.2</td>\n",
       "      <td>59</td>\n",
       "      <td>Compta Finances</td>\n",
       "      <td>Non</td>\n",
       "      <td>60</td>\n",
       "      <td>CDI</td>\n",
       "      <td>35</td>\n",
       "      <td>8328.0167</td>\n",
       "      <td>14</td>\n",
       "      <td>1.0</td>\n",
       "      <td>0.0</td>\n",
       "      <td>F</td>\n",
       "      <td>Claire Chagnon</td>\n",
       "      <td>683289092</td>\n",
       "      <td>1981-10-09</td>\n",
       "      <td>Célibataire</td>\n",
       "      <td>1</td>\n",
       "    </tr>\n",
       "    <tr>\n",
       "      <th>4</th>\n",
       "      <td>16020725-8401</td>\n",
       "      <td>7.9</td>\n",
       "      <td>59</td>\n",
       "      <td>Consultant</td>\n",
       "      <td>Non</td>\n",
       "      <td>34</td>\n",
       "      <td>CDI</td>\n",
       "      <td>35</td>\n",
       "      <td>7304.2667</td>\n",
       "      <td>17</td>\n",
       "      <td>1.0</td>\n",
       "      <td>0.0</td>\n",
       "      <td>F</td>\n",
       "      <td>Séverine Gaumont</td>\n",
       "      <td>684333280</td>\n",
       "      <td>1979-04-26</td>\n",
       "      <td>Marié</td>\n",
       "      <td>0</td>\n",
       "    </tr>\n",
       "  </tbody>\n",
       "</table>\n",
       "</div>"
      ],
      "text/plain": [
       "      id_salarié  Ancienneté_an  Distance domicile/Travail          Service  \\\n",
       "0  16000206-8278           12.6                         59        Marketing   \n",
       "1  16011205-0331           11.8                         31       Commercial   \n",
       "2  16020327-1465           11.9                         65               RH   \n",
       "3  16020701-3376           10.2                         59  Compta Finances   \n",
       "4  16020725-8401            7.9                         59       Consultant   \n",
       "\n",
       "  Work_accident  Niveau de satisfaction Contrat  Durée hebdo  \\\n",
       "0           Non                      67     CDI           35   \n",
       "1           Oui                      66     CDI           24   \n",
       "2           Non                      59     CDI           32   \n",
       "3           Non                      60     CDI           35   \n",
       "4           Non                      34     CDI           35   \n",
       "\n",
       "   Salaire base mensuel  %variable_moyen  Augmentation  Promotion Sexe  \\\n",
       "0             6583.8500               13           1.0        1.0    F   \n",
       "1             4974.3200               32           0.0        1.0    F   \n",
       "2             8860.8000               19           1.0        1.0    F   \n",
       "3             8328.0167               14           1.0        0.0    F   \n",
       "4             7304.2667               17           1.0        0.0    F   \n",
       "\n",
       "              Prénom/Nom  Telephone Date_naissance   Etat Civil  Enfants  \n",
       "0         Pascale Duclos  677289138     1958-12-07          NaN        2  \n",
       "1           Nicole Affré  640934749     1957-04-23  Célibataire        2  \n",
       "2  Marie-Claire Bachelet  609243379     1973-08-19  Célibataire        3  \n",
       "3         Claire Chagnon  683289092     1981-10-09  Célibataire        1  \n",
       "4       Séverine Gaumont  684333280     1979-04-26        Marié        0  "
      ]
     },
     "execution_count": 21,
     "metadata": {},
     "output_type": "execute_result"
    }
   ],
   "source": [
    "df.head()"
   ]
  },
  {
   "cell_type": "code",
   "execution_count": 22,
   "id": "a13a631e",
   "metadata": {},
   "outputs": [
    {
     "data": {
      "text/plain": [
       "id_salarié                    0\n",
       "Ancienneté_an                 0\n",
       "Distance domicile/Travail     0\n",
       "Service                       0\n",
       "Work_accident                 0\n",
       "Niveau de satisfaction        0\n",
       "Contrat                       0\n",
       "Durée hebdo                   0\n",
       "Salaire base mensuel          0\n",
       "%variable_moyen               0\n",
       "Augmentation                 15\n",
       "Promotion                    15\n",
       "Sexe                          0\n",
       "Prénom/Nom                    0\n",
       "Telephone                     0\n",
       "Date_naissance                0\n",
       "Etat Civil                   82\n",
       "Enfants                       0\n",
       "dtype: int64"
      ]
     },
     "execution_count": 22,
     "metadata": {},
     "output_type": "execute_result"
    }
   ],
   "source": [
    "df.isnull().sum()"
   ]
  },
  {
   "cell_type": "markdown",
   "id": "7425119b",
   "metadata": {},
   "source": [
    "*Le rassemblement c'est bien passé, je vais maintenant regarder plus en détails les valeurs manquantes.*"
   ]
  },
  {
   "cell_type": "markdown",
   "id": "e6d08abc",
   "metadata": {},
   "source": [
    "### Valeurs manquantes"
   ]
  },
  {
   "cell_type": "code",
   "execution_count": 23,
   "id": "322d9d6d",
   "metadata": {},
   "outputs": [
    {
     "data": {
      "text/plain": [
       "id_salarié                    0\n",
       "Ancienneté_an                 0\n",
       "Distance domicile/Travail     0\n",
       "Service                       0\n",
       "Work_accident                 0\n",
       "Niveau de satisfaction        0\n",
       "Contrat                       0\n",
       "Durée hebdo                   0\n",
       "Salaire base mensuel          0\n",
       "%variable_moyen               0\n",
       "Augmentation                 15\n",
       "Promotion                    15\n",
       "Sexe                          0\n",
       "Prénom/Nom                    0\n",
       "Telephone                     0\n",
       "Date_naissance                0\n",
       "Etat Civil                   82\n",
       "Enfants                       0\n",
       "dtype: int64"
      ]
     },
     "execution_count": 23,
     "metadata": {},
     "output_type": "execute_result"
    }
   ],
   "source": [
    "df.isnull().sum()"
   ]
  },
  {
   "cell_type": "markdown",
   "id": "9da00eb9",
   "metadata": {},
   "source": [
    "#### Etat Civil"
   ]
  },
  {
   "cell_type": "code",
   "execution_count": 24,
   "id": "f2d4527a",
   "metadata": {},
   "outputs": [
    {
     "data": {
      "text/plain": [
       "Marié          7\n",
       "Célibataire    4\n",
       "Name: Etat Civil, dtype: int64"
      ]
     },
     "execution_count": 24,
     "metadata": {},
     "output_type": "execute_result"
    }
   ],
   "source": [
    "na = df.loc[df.isnull().any(axis=1)]\n",
    "na = pd.DataFrame(na)\n",
    "na[\"Etat Civil\"].value_counts()"
   ]
  },
  {
   "cell_type": "markdown",
   "id": "8790395f",
   "metadata": {},
   "source": [
    "*La mention de l'état civil n'est pas vraiment importante du fait que j'ai toutes la valeurs pour la colonne \"Sexe\".*"
   ]
  },
  {
   "cell_type": "markdown",
   "id": "86c77a56",
   "metadata": {},
   "source": [
    "#### Augmentation et Promotion"
   ]
  },
  {
   "cell_type": "markdown",
   "id": "8b89d4c0",
   "metadata": {},
   "source": [
    "*Pour les colonnes \"Augmentation\" et \"Promotion\" à voir en fonction des indicateurs choisies dans le diagnostic.*\n",
    "\n",
    "*Peut-être que le fait de ne pas avoir de valeurs dans ces deux colonnes veut dire qu'il n' y a tout simplement pas eu de promotion ou d'augmentation par exemple car la personne n'est pas assez ancienne dans l'entreprise, ou bien que c'est un CDD...*"
   ]
  },
  {
   "cell_type": "code",
   "execution_count": 25,
   "id": "c5138b73",
   "metadata": {},
   "outputs": [
    {
     "data": {
      "text/plain": [
       "1.0    43\n",
       "0.0    35\n",
       "Name: Augmentation, dtype: int64"
      ]
     },
     "execution_count": 25,
     "metadata": {},
     "output_type": "execute_result"
    }
   ],
   "source": [
    "na[\"Augmentation\"].value_counts()"
   ]
  },
  {
   "cell_type": "code",
   "execution_count": 26,
   "id": "0f66102b",
   "metadata": {},
   "outputs": [
    {
     "name": "stdout",
     "output_type": "stream",
     "text": [
      "CDD    15\n",
      "Name: Contrat, dtype: int64\n"
     ]
    },
    {
     "data": {
      "text/plain": [
       "15"
      ]
     },
     "execution_count": 26,
     "metadata": {},
     "output_type": "execute_result"
    }
   ],
   "source": [
    "na_augmentation = na[na[\"Augmentation\"].isnull()]\n",
    "na_augmentation = pd.DataFrame(na_augmentation)\n",
    "print(na_augmentation[\"Contrat\"].value_counts())\n",
    "len(na_augmentation)"
   ]
  },
  {
   "cell_type": "code",
   "execution_count": 27,
   "id": "a1bc6e83",
   "metadata": {},
   "outputs": [
    {
     "data": {
      "text/plain": [
       "0.0    40\n",
       "1.0    38\n",
       "Name: Promotion, dtype: int64"
      ]
     },
     "execution_count": 27,
     "metadata": {},
     "output_type": "execute_result"
    }
   ],
   "source": [
    "na[\"Promotion\"].value_counts()"
   ]
  },
  {
   "cell_type": "code",
   "execution_count": 28,
   "id": "11364b98",
   "metadata": {},
   "outputs": [
    {
     "name": "stdout",
     "output_type": "stream",
     "text": [
      "CDD    15\n",
      "Name: Contrat, dtype: int64\n"
     ]
    },
    {
     "data": {
      "text/plain": [
       "15"
      ]
     },
     "execution_count": 28,
     "metadata": {},
     "output_type": "execute_result"
    }
   ],
   "source": [
    "na_promotion= na[na[\"Promotion\"].isnull()]\n",
    "na_promotion = pd.DataFrame(na_promotion)\n",
    "print(na_promotion[\"Contrat\"].value_counts())\n",
    "len(na_promotion)"
   ]
  },
  {
   "cell_type": "code",
   "execution_count": 29,
   "id": "f5b04890",
   "metadata": {},
   "outputs": [
    {
     "data": {
      "text/plain": [
       "Int64Index([18, 23, 68, 111, 113, 130, 169, 173, 187, 189, 199, 203, 207, 209,\n",
       "            229],\n",
       "           dtype='int64')"
      ]
     },
     "execution_count": 29,
     "metadata": {},
     "output_type": "execute_result"
    }
   ],
   "source": [
    "na_augmentation.index"
   ]
  },
  {
   "cell_type": "code",
   "execution_count": 30,
   "id": "c87e98f1",
   "metadata": {},
   "outputs": [
    {
     "data": {
      "text/plain": [
       "Int64Index([18, 23, 68, 111, 113, 130, 169, 173, 187, 189, 199, 203, 207, 209,\n",
       "            229],\n",
       "           dtype='int64')"
      ]
     },
     "execution_count": 30,
     "metadata": {},
     "output_type": "execute_result"
    }
   ],
   "source": [
    "na_promotion.index"
   ]
  },
  {
   "cell_type": "markdown",
   "id": "e684fb72",
   "metadata": {},
   "source": [
    "*En explorant un peu plus les colonnes \"Augmentation\" et \"Promotion\", l'on voit que:*\n",
    "\n",
    "*-Il y a 15 valeurs maquantes*\n",
    "\n",
    "*-Ces valeurs maquantes correspondent toutes à des CDD, donc l'absence de promotions ou d'aumentations est normale.*\n",
    "\n",
    "*-Les index sont identiques pour les deux colonnes.*\n",
    "\n",
    "*-En regardant les differentes valeurs il n'y en a que 2 types 1.0 ou 0.0 ce qui doit surment signifier oui ou non.*"
   ]
  },
  {
   "cell_type": "markdown",
   "id": "562d3dbc",
   "metadata": {},
   "source": [
    "***Actions pour les valeurs manquantes.***\n",
    "\n",
    "Etat Civil\n",
    "\n",
    "*Les valeurs manquantes pour l'état civil sont au nombre de 82 sur 256 lignes cela fait environ 30% de la colonne.*\n",
    "\n",
    "*De plus travaillant sur l'égalité homme/femme, l'état civil n'est pas important.*\n",
    "\n",
    "*Je vais donc supprimer la colonne \"Etat Civil\".*\n",
    "\n",
    "Promotion et Augmentation\n",
    "\n",
    "*Les valeurs manquantes pour ces colonnes existent du fait de la nature de contrat du salarié.*\n",
    "\n",
    "*Il faut donc conserver ces valeurs et les remplacer par 0.0.*"
   ]
  },
  {
   "cell_type": "code",
   "execution_count": 31,
   "id": "e8028cdc",
   "metadata": {},
   "outputs": [],
   "source": [
    "df.drop([\"Etat Civil\"], axis = 1, inplace = True)"
   ]
  },
  {
   "cell_type": "code",
   "execution_count": 32,
   "id": "6a163180",
   "metadata": {},
   "outputs": [
    {
     "data": {
      "text/plain": [
       "Index(['id_salarié', 'Ancienneté_an', 'Distance domicile/Travail', 'Service',\n",
       "       'Work_accident', 'Niveau de satisfaction', 'Contrat', 'Durée hebdo',\n",
       "       'Salaire base mensuel', '%variable_moyen', 'Augmentation', 'Promotion',\n",
       "       'Sexe', 'Prénom/Nom', 'Telephone', 'Date_naissance', 'Enfants'],\n",
       "      dtype='object')"
      ]
     },
     "execution_count": 32,
     "metadata": {},
     "output_type": "execute_result"
    }
   ],
   "source": [
    "df.columns"
   ]
  },
  {
   "cell_type": "code",
   "execution_count": 33,
   "id": "8e042ea8",
   "metadata": {},
   "outputs": [
    {
     "data": {
      "text/plain": [
       "id_salarié                           object\n",
       "Ancienneté_an                       float64\n",
       "Distance domicile/Travail             int64\n",
       "Service                              object\n",
       "Work_accident                        object\n",
       "Niveau de satisfaction                int64\n",
       "Contrat                              object\n",
       "Durée hebdo                           int64\n",
       "Salaire base mensuel                float64\n",
       "%variable_moyen                       int64\n",
       "Augmentation                        float64\n",
       "Promotion                           float64\n",
       "Sexe                                 object\n",
       "Prénom/Nom                           object\n",
       "Telephone                             int64\n",
       "Date_naissance               datetime64[ns]\n",
       "Enfants                               int64\n",
       "dtype: object"
      ]
     },
     "execution_count": 33,
     "metadata": {},
     "output_type": "execute_result"
    }
   ],
   "source": [
    "df.dtypes"
   ]
  },
  {
   "cell_type": "code",
   "execution_count": 34,
   "id": "4ae2575f",
   "metadata": {},
   "outputs": [],
   "source": [
    "df[\"Augmentation\"].fillna(value=0.0, inplace = True)\n",
    "df[\"Promotion\"].fillna(value=0.0, inplace = True)"
   ]
  },
  {
   "cell_type": "code",
   "execution_count": 35,
   "id": "311c593f",
   "metadata": {},
   "outputs": [
    {
     "data": {
      "text/plain": [
       "id_salarié                   0\n",
       "Ancienneté_an                0\n",
       "Distance domicile/Travail    0\n",
       "Service                      0\n",
       "Work_accident                0\n",
       "Niveau de satisfaction       0\n",
       "Contrat                      0\n",
       "Durée hebdo                  0\n",
       "Salaire base mensuel         0\n",
       "%variable_moyen              0\n",
       "Augmentation                 0\n",
       "Promotion                    0\n",
       "Sexe                         0\n",
       "Prénom/Nom                   0\n",
       "Telephone                    0\n",
       "Date_naissance               0\n",
       "Enfants                      0\n",
       "dtype: int64"
      ]
     },
     "execution_count": 35,
     "metadata": {},
     "output_type": "execute_result"
    }
   ],
   "source": [
    "df.isnull().sum()"
   ]
  },
  {
   "cell_type": "code",
   "execution_count": 36,
   "id": "57d3f74b",
   "metadata": {},
   "outputs": [
    {
     "data": {
      "text/plain": [
       "Index(['id_salarié', 'Ancienneté_an', 'Distance domicile/Travail', 'Service',\n",
       "       'Work_accident', 'Niveau de satisfaction', 'Contrat', 'Durée hebdo',\n",
       "       'Salaire base mensuel', '%variable_moyen', 'Augmentation', 'Promotion',\n",
       "       'Sexe', 'Prénom/Nom', 'Telephone', 'Date_naissance', 'Enfants'],\n",
       "      dtype='object')"
      ]
     },
     "execution_count": 36,
     "metadata": {},
     "output_type": "execute_result"
    }
   ],
   "source": [
    "df.columns"
   ]
  },
  {
   "cell_type": "code",
   "execution_count": 37,
   "id": "2f9ba016",
   "metadata": {},
   "outputs": [
    {
     "data": {
      "text/html": [
       "<div>\n",
       "<style scoped>\n",
       "    .dataframe tbody tr th:only-of-type {\n",
       "        vertical-align: middle;\n",
       "    }\n",
       "\n",
       "    .dataframe tbody tr th {\n",
       "        vertical-align: top;\n",
       "    }\n",
       "\n",
       "    .dataframe thead th {\n",
       "        text-align: right;\n",
       "    }\n",
       "</style>\n",
       "<table border=\"1\" class=\"dataframe\">\n",
       "  <thead>\n",
       "    <tr style=\"text-align: right;\">\n",
       "      <th></th>\n",
       "      <th>Ancienneté_an</th>\n",
       "      <th>Distance domicile/Travail</th>\n",
       "      <th>Niveau de satisfaction</th>\n",
       "      <th>Durée hebdo</th>\n",
       "      <th>Salaire base mensuel</th>\n",
       "      <th>%variable_moyen</th>\n",
       "      <th>Augmentation</th>\n",
       "      <th>Promotion</th>\n",
       "      <th>Telephone</th>\n",
       "      <th>Enfants</th>\n",
       "    </tr>\n",
       "  </thead>\n",
       "  <tbody>\n",
       "    <tr>\n",
       "      <th>count</th>\n",
       "      <td>256.000000</td>\n",
       "      <td>256.000000</td>\n",
       "      <td>256.000000</td>\n",
       "      <td>256.000000</td>\n",
       "      <td>256.000000</td>\n",
       "      <td>256.000000</td>\n",
       "      <td>256.000000</td>\n",
       "      <td>256.000000</td>\n",
       "      <td>2.560000e+02</td>\n",
       "      <td>256.000000</td>\n",
       "    </tr>\n",
       "    <tr>\n",
       "      <th>mean</th>\n",
       "      <td>13.160938</td>\n",
       "      <td>38.433594</td>\n",
       "      <td>50.687500</td>\n",
       "      <td>33.871094</td>\n",
       "      <td>5326.530626</td>\n",
       "      <td>20.027344</td>\n",
       "      <td>0.488281</td>\n",
       "      <td>0.488281</td>\n",
       "      <td>6.511928e+08</td>\n",
       "      <td>1.460938</td>\n",
       "    </tr>\n",
       "    <tr>\n",
       "      <th>std</th>\n",
       "      <td>7.020684</td>\n",
       "      <td>19.834301</td>\n",
       "      <td>27.837413</td>\n",
       "      <td>3.203397</td>\n",
       "      <td>2505.493530</td>\n",
       "      <td>11.529809</td>\n",
       "      <td>0.500842</td>\n",
       "      <td>0.500842</td>\n",
       "      <td>2.915357e+07</td>\n",
       "      <td>1.123038</td>\n",
       "    </tr>\n",
       "    <tr>\n",
       "      <th>min</th>\n",
       "      <td>0.300000</td>\n",
       "      <td>3.000000</td>\n",
       "      <td>1.000000</td>\n",
       "      <td>24.000000</td>\n",
       "      <td>1059.760000</td>\n",
       "      <td>0.000000</td>\n",
       "      <td>0.000000</td>\n",
       "      <td>0.000000</td>\n",
       "      <td>6.003126e+08</td>\n",
       "      <td>0.000000</td>\n",
       "    </tr>\n",
       "    <tr>\n",
       "      <th>25%</th>\n",
       "      <td>7.375000</td>\n",
       "      <td>22.000000</td>\n",
       "      <td>30.000000</td>\n",
       "      <td>35.000000</td>\n",
       "      <td>3111.918325</td>\n",
       "      <td>10.000000</td>\n",
       "      <td>0.000000</td>\n",
       "      <td>0.000000</td>\n",
       "      <td>6.251080e+08</td>\n",
       "      <td>0.000000</td>\n",
       "    </tr>\n",
       "    <tr>\n",
       "      <th>50%</th>\n",
       "      <td>12.750000</td>\n",
       "      <td>40.500000</td>\n",
       "      <td>50.500000</td>\n",
       "      <td>35.000000</td>\n",
       "      <td>5084.625000</td>\n",
       "      <td>19.000000</td>\n",
       "      <td>0.000000</td>\n",
       "      <td>0.000000</td>\n",
       "      <td>6.514391e+08</td>\n",
       "      <td>1.000000</td>\n",
       "    </tr>\n",
       "    <tr>\n",
       "      <th>75%</th>\n",
       "      <td>19.300000</td>\n",
       "      <td>57.000000</td>\n",
       "      <td>73.000000</td>\n",
       "      <td>35.000000</td>\n",
       "      <td>7407.020850</td>\n",
       "      <td>30.000000</td>\n",
       "      <td>1.000000</td>\n",
       "      <td>1.000000</td>\n",
       "      <td>6.783984e+08</td>\n",
       "      <td>2.000000</td>\n",
       "    </tr>\n",
       "    <tr>\n",
       "      <th>max</th>\n",
       "      <td>25.000000</td>\n",
       "      <td>70.000000</td>\n",
       "      <td>100.000000</td>\n",
       "      <td>35.000000</td>\n",
       "      <td>9999.383300</td>\n",
       "      <td>40.000000</td>\n",
       "      <td>1.000000</td>\n",
       "      <td>1.000000</td>\n",
       "      <td>6.991239e+08</td>\n",
       "      <td>3.000000</td>\n",
       "    </tr>\n",
       "  </tbody>\n",
       "</table>\n",
       "</div>"
      ],
      "text/plain": [
       "       Ancienneté_an  Distance domicile/Travail  Niveau de satisfaction  \\\n",
       "count     256.000000                 256.000000              256.000000   \n",
       "mean       13.160938                  38.433594               50.687500   \n",
       "std         7.020684                  19.834301               27.837413   \n",
       "min         0.300000                   3.000000                1.000000   \n",
       "25%         7.375000                  22.000000               30.000000   \n",
       "50%        12.750000                  40.500000               50.500000   \n",
       "75%        19.300000                  57.000000               73.000000   \n",
       "max        25.000000                  70.000000              100.000000   \n",
       "\n",
       "       Durée hebdo  Salaire base mensuel  %variable_moyen  Augmentation  \\\n",
       "count   256.000000            256.000000       256.000000    256.000000   \n",
       "mean     33.871094           5326.530626        20.027344      0.488281   \n",
       "std       3.203397           2505.493530        11.529809      0.500842   \n",
       "min      24.000000           1059.760000         0.000000      0.000000   \n",
       "25%      35.000000           3111.918325        10.000000      0.000000   \n",
       "50%      35.000000           5084.625000        19.000000      0.000000   \n",
       "75%      35.000000           7407.020850        30.000000      1.000000   \n",
       "max      35.000000           9999.383300        40.000000      1.000000   \n",
       "\n",
       "        Promotion     Telephone     Enfants  \n",
       "count  256.000000  2.560000e+02  256.000000  \n",
       "mean     0.488281  6.511928e+08    1.460938  \n",
       "std      0.500842  2.915357e+07    1.123038  \n",
       "min      0.000000  6.003126e+08    0.000000  \n",
       "25%      0.000000  6.251080e+08    0.000000  \n",
       "50%      0.000000  6.514391e+08    1.000000  \n",
       "75%      1.000000  6.783984e+08    2.000000  \n",
       "max      1.000000  6.991239e+08    3.000000  "
      ]
     },
     "execution_count": 37,
     "metadata": {},
     "output_type": "execute_result"
    }
   ],
   "source": [
    "df.describe()"
   ]
  },
  {
   "cell_type": "code",
   "execution_count": 38,
   "id": "88d8a4ae",
   "metadata": {},
   "outputs": [
    {
     "data": {
      "text/plain": [
       "Consultant         69\n",
       "Commercial         52\n",
       "RH                 43\n",
       "Compta Finances    41\n",
       "Marketing          36\n",
       "R&D                15\n",
       "Name: Service, dtype: int64"
      ]
     },
     "execution_count": 38,
     "metadata": {},
     "output_type": "execute_result"
    }
   ],
   "source": [
    "df[\"Service\"].value_counts()"
   ]
  },
  {
   "cell_type": "code",
   "execution_count": 39,
   "id": "080d11a5",
   "metadata": {},
   "outputs": [
    {
     "data": {
      "text/plain": [
       "Oui    129\n",
       "Non    127\n",
       "Name: Work_accident, dtype: int64"
      ]
     },
     "execution_count": 39,
     "metadata": {},
     "output_type": "execute_result"
    }
   ],
   "source": [
    "df[\"Work_accident\"].value_counts()"
   ]
  },
  {
   "cell_type": "code",
   "execution_count": 40,
   "id": "916bcab0",
   "metadata": {},
   "outputs": [
    {
     "data": {
      "text/plain": [
       "CDI    240\n",
       "CDD     16\n",
       "Name: Contrat, dtype: int64"
      ]
     },
     "execution_count": 40,
     "metadata": {},
     "output_type": "execute_result"
    }
   ],
   "source": [
    "df[\"Contrat\"].value_counts()"
   ]
  },
  {
   "cell_type": "code",
   "execution_count": 41,
   "id": "c998599d",
   "metadata": {},
   "outputs": [
    {
     "data": {
      "text/plain": [
       "H    131\n",
       "F    125\n",
       "Name: Sexe, dtype: int64"
      ]
     },
     "execution_count": 41,
     "metadata": {},
     "output_type": "execute_result"
    }
   ],
   "source": [
    "df[\"Sexe\"].value_counts()"
   ]
  },
  {
   "cell_type": "markdown",
   "id": "e8c7cba6",
   "metadata": {},
   "source": [
    "## <center>Respect du RGPD</center>"
   ]
  },
  {
   "cell_type": "markdown",
   "id": "223df0fb",
   "metadata": {},
   "source": [
    "### <center>Les grands principes de protection des données personnelles</center>"
   ]
  },
  {
   "cell_type": "markdown",
   "id": "3326554d",
   "metadata": {},
   "source": [
    "Les 5 grands principes des règles de protection des données personnelles sont les suivants :\n",
    "    \n",
    "Le principe de finalité: le responsable d'un fichier ne peut enregistrer et utiliser des informations sur des personnes physiques que dans un but bien précis, légal et légitime ;\n",
    "    \n",
    "Le principe de proportionnalité et de pertinence: les informations enregistrées doivent être pertinentes et strictement nécessaires au regard de la finalité du fichier ;\n",
    "    \n",
    "Le principe d'une durée de conservation limitée: il n'est pas possible de conserver des informations sur des personnes physiques dans un fichier pour une durée indéfinie. Une durée deconservation précise doit être fixée, en fonction du type d'information enregistrée et de la finalité du fichier ;\n",
    "\n",
    "Le principe de sécurité et de confidentialité: le responsable du fichier doit garantir la sécurité et la confidentialité des informations qu'il détient. Il doit en particulier veiller à ce que seules les personnes autorisées aient accès à ces informations ;\n",
    "\n",
    "Les droits des personnes"
   ]
  },
  {
   "cell_type": "markdown",
   "id": "fa5a1761",
   "metadata": {},
   "source": [
    "***"
   ]
  },
  {
   "cell_type": "markdown",
   "id": "7dee3de1",
   "metadata": {},
   "source": [
    "Le principe de finalité --> est respecté car il est question ici d'un regroupement de données dans le but de répondre à une demande gouvernamentales obligatoire.\n",
    "\n",
    "Le principe de proportionnalité et de pertinence --> quelles sont les données réellement nécessaire par exemple la date de naissance, les noms prénom, etat civil et nombres d'enfants ne le sont pas.\n",
    "\n",
    "Le principe d'une durée de conservation limitée --> Ces données ne seront conservées que pendant 1 an, jusqu'au prochain calcul de l'index.\n",
    "\n",
    "Le principe de sécurité et de confidentialité --> Les données sont stockées et utilisées en interne et anonymisées.\n",
    "\n",
    "Les droits des personnes --> informer les personnes concernés de la collecte des données, pouvoir répondre dans les délais (1 mois) concernants les demandes faits par les personnes dont les données ont été collectées (demandes de suppressions / modifications / consultations)"
   ]
  },
  {
   "cell_type": "markdown",
   "id": "a955117a",
   "metadata": {},
   "source": [
    "***"
   ]
  },
  {
   "cell_type": "markdown",
   "id": "61f24ee0",
   "metadata": {},
   "source": [
    "Remplir le registre de traitement"
   ]
  },
  {
   "cell_type": "markdown",
   "id": "436fb937",
   "metadata": {},
   "source": [
    "***"
   ]
  },
  {
   "cell_type": "markdown",
   "id": "72e107d6",
   "metadata": {},
   "source": [
    "### <center>Anonymisation des données personnelles</center>"
   ]
  },
  {
   "cell_type": "markdown",
   "id": "dc2d49e0",
   "metadata": {},
   "source": [
    "*Je vais maintenant procéder à l'anonymisation des données*\n",
    "\n",
    "*Il faut que je supprime les données personnelles inutiles:*\n",
    "\n",
    "*-Nom et Prénom*\n",
    "\n",
    "*-Téléphone*\n",
    "\n",
    "*-Date de naissance*\n",
    "\n",
    "*-Etat Civil (déjà fait plus haut)*\n",
    "\n",
    "*-Enfant*"
   ]
  },
  {
   "cell_type": "code",
   "execution_count": 42,
   "id": "353d568a",
   "metadata": {},
   "outputs": [],
   "source": [
    "df.drop(['Prénom/Nom', 'Telephone', 'Date_naissance', 'Enfants'], axis = 1, inplace = True)"
   ]
  },
  {
   "cell_type": "code",
   "execution_count": 43,
   "id": "1c226317",
   "metadata": {},
   "outputs": [
    {
     "data": {
      "text/plain": [
       "Index(['id_salarié', 'Ancienneté_an', 'Distance domicile/Travail', 'Service',\n",
       "       'Work_accident', 'Niveau de satisfaction', 'Contrat', 'Durée hebdo',\n",
       "       'Salaire base mensuel', '%variable_moyen', 'Augmentation', 'Promotion',\n",
       "       'Sexe'],\n",
       "      dtype='object')"
      ]
     },
     "execution_count": 43,
     "metadata": {},
     "output_type": "execute_result"
    }
   ],
   "source": [
    "df.columns"
   ]
  },
  {
   "cell_type": "markdown",
   "id": "c05c5bd3",
   "metadata": {},
   "source": [
    "## <center>Graphiques</center>"
   ]
  },
  {
   "cell_type": "markdown",
   "id": "0855b80c",
   "metadata": {},
   "source": [
    "Les différentes indicateurs utilisés sont:\n",
    "\n",
    "- Embauche\n",
    "\n",
    "- Promotion\n",
    "\n",
    "- Conditions de travail\n",
    "\n",
    "- Rémunération effective\n",
    "\n",
    "- Articulation des temps"
   ]
  },
  {
   "cell_type": "code",
   "execution_count": 50,
   "id": "26911b6d",
   "metadata": {},
   "outputs": [],
   "source": [
    "dfcopy = df.copy()"
   ]
  },
  {
   "cell_type": "markdown",
   "id": "dbd836a6",
   "metadata": {},
   "source": [
    "### Embauche (Quelle est la répartition des h/f par CDI et par CDD ?)"
   ]
  },
  {
   "cell_type": "code",
   "execution_count": 58,
   "id": "58681317",
   "metadata": {},
   "outputs": [
    {
     "data": {
      "text/html": [
       "<div>\n",
       "<style scoped>\n",
       "    .dataframe tbody tr th:only-of-type {\n",
       "        vertical-align: middle;\n",
       "    }\n",
       "\n",
       "    .dataframe tbody tr th {\n",
       "        vertical-align: top;\n",
       "    }\n",
       "\n",
       "    .dataframe thead th {\n",
       "        text-align: right;\n",
       "    }\n",
       "</style>\n",
       "<table border=\"1\" class=\"dataframe\">\n",
       "  <thead>\n",
       "    <tr style=\"text-align: right;\">\n",
       "      <th>Sexe</th>\n",
       "      <th>F</th>\n",
       "      <th>H</th>\n",
       "    </tr>\n",
       "    <tr>\n",
       "      <th>Contrat</th>\n",
       "      <th></th>\n",
       "      <th></th>\n",
       "    </tr>\n",
       "  </thead>\n",
       "  <tbody>\n",
       "    <tr>\n",
       "      <th>CDD</th>\n",
       "      <td>11</td>\n",
       "      <td>5</td>\n",
       "    </tr>\n",
       "    <tr>\n",
       "      <th>CDI</th>\n",
       "      <td>114</td>\n",
       "      <td>126</td>\n",
       "    </tr>\n",
       "  </tbody>\n",
       "</table>\n",
       "</div>"
      ],
      "text/plain": [
       "Sexe       F    H\n",
       "Contrat          \n",
       "CDD       11    5\n",
       "CDI      114  126"
      ]
     },
     "execution_count": 58,
     "metadata": {},
     "output_type": "execute_result"
    }
   ],
   "source": [
    "embauche = pd.crosstab(dfcopy[\"Contrat\"], dfcopy[\"Sexe\"], values=dfcopy[\"Sexe\"], rownames=None, colnames=None, aggfunc=\"count\")\n",
    "embauche"
   ]
  },
  {
   "cell_type": "code",
   "execution_count": 124,
   "id": "6e9881f8",
   "metadata": {},
   "outputs": [
    {
     "data": {
      "text/plain": [
       "<AxesSubplot:xlabel='Contrat'>"
      ]
     },
     "execution_count": 124,
     "metadata": {},
     "output_type": "execute_result"
    },
    {
     "data": {
      "image/png": "[encoded data removed]",
      "text/plain": [
       "<Figure size 432x288 with 1 Axes>"
      ]
     },
     "metadata": {
      "needs_background": "light"
     },
     "output_type": "display_data"
    }
   ],
   "source": [
    "embauche.plot(kind='bar', color=['pink', 'blue'])"
   ]
  },
  {
   "cell_type": "markdown",
   "id": "92c0d619",
   "metadata": {},
   "source": [
    "### Embauche (Quelle est la répartition des embauche h/f en nombre ?) XXX"
   ]
  },
  {
   "cell_type": "code",
   "execution_count": 129,
   "id": "0efbb3dc",
   "metadata": {},
   "outputs": [
    {
     "data": {
      "text/plain": [
       "<AxesSubplot:xlabel='Sexe', ylabel='count'>"
      ]
     },
     "execution_count": 129,
     "metadata": {},
     "output_type": "execute_result"
    },
    {
     "data": {
      "image/png": "[encoded data removed]",
      "text/plain": [
       "<Figure size 432x288 with 1 Axes>"
      ]
     },
     "metadata": {
      "needs_background": "light"
     },
     "output_type": "display_data"
    }
   ],
   "source": [
    "sns.countplot(x=\"Sexe\", data=dfcopy)"
   ]
  },
  {
   "cell_type": "code",
   "execution_count": 141,
   "id": "70e1adad",
   "metadata": {},
   "outputs": [
    {
     "data": {
      "text/plain": [
       "(array([125.,   0.,   0.,   0.,   0.,   0.,   0.,   0.,   0., 131.]),\n",
       " array([0. , 0.1, 0.2, 0.3, 0.4, 0.5, 0.6, 0.7, 0.8, 0.9, 1. ]),\n",
       " <BarContainer object of 10 artists>)"
      ]
     },
     "execution_count": 141,
     "metadata": {},
     "output_type": "execute_result"
    },
    {
     "data": {
      "image/png": "[encoded data removed]",
      "text/plain": [
       "<Figure size 432x288 with 1 Axes>"
      ]
     },
     "metadata": {
      "needs_background": "light"
     },
     "output_type": "display_data"
    }
   ],
   "source": [
    "plt.hist(dfcopy[\"Sexe\"])"
   ]
  },
  {
   "cell_type": "markdown",
   "id": "8e8a8946",
   "metadata": {},
   "source": [
    "### Embauche (Quelle est la répartition par service des h/f ?)"
   ]
  },
  {
   "cell_type": "code",
   "execution_count": 130,
   "id": "72d028fa",
   "metadata": {},
   "outputs": [
    {
     "data": {
      "text/plain": [
       "<seaborn.axisgrid.FacetGrid at 0x1e7d2422490>"
      ]
     },
     "execution_count": 130,
     "metadata": {},
     "output_type": "execute_result"
    },
    {
     "data": {
      "image/png": "[encoded data removed]",
      "text/plain": [
       "<Figure size 403.5x360 with 1 Axes>"
      ]
     },
     "metadata": {
      "needs_background": "light"
     },
     "output_type": "display_data"
    }
   ],
   "source": [
    "sns.displot(data=dfcopy, x=\"Service\", hue=\"Sexe\", multiple=\"stack\")"
   ]
  },
  {
   "cell_type": "code",
   "execution_count": 131,
   "id": "2498ed2b",
   "metadata": {},
   "outputs": [
    {
     "data": {
      "text/html": [
       "<div>\n",
       "<style scoped>\n",
       "    .dataframe tbody tr th:only-of-type {\n",
       "        vertical-align: middle;\n",
       "    }\n",
       "\n",
       "    .dataframe tbody tr th {\n",
       "        vertical-align: top;\n",
       "    }\n",
       "\n",
       "    .dataframe thead th {\n",
       "        text-align: right;\n",
       "    }\n",
       "</style>\n",
       "<table border=\"1\" class=\"dataframe\">\n",
       "  <thead>\n",
       "    <tr style=\"text-align: right;\">\n",
       "      <th>Sexe</th>\n",
       "      <th>F</th>\n",
       "      <th>H</th>\n",
       "    </tr>\n",
       "    <tr>\n",
       "      <th>Service</th>\n",
       "      <th></th>\n",
       "      <th></th>\n",
       "    </tr>\n",
       "  </thead>\n",
       "  <tbody>\n",
       "    <tr>\n",
       "      <th>Commercial</th>\n",
       "      <td>29</td>\n",
       "      <td>23</td>\n",
       "    </tr>\n",
       "    <tr>\n",
       "      <th>Compta Finances</th>\n",
       "      <td>24</td>\n",
       "      <td>17</td>\n",
       "    </tr>\n",
       "    <tr>\n",
       "      <th>Consultant</th>\n",
       "      <td>30</td>\n",
       "      <td>39</td>\n",
       "    </tr>\n",
       "    <tr>\n",
       "      <th>Marketing</th>\n",
       "      <td>15</td>\n",
       "      <td>21</td>\n",
       "    </tr>\n",
       "    <tr>\n",
       "      <th>R&amp;D</th>\n",
       "      <td>3</td>\n",
       "      <td>12</td>\n",
       "    </tr>\n",
       "    <tr>\n",
       "      <th>RH</th>\n",
       "      <td>24</td>\n",
       "      <td>19</td>\n",
       "    </tr>\n",
       "  </tbody>\n",
       "</table>\n",
       "</div>"
      ],
      "text/plain": [
       "Sexe              F   H\n",
       "Service                \n",
       "Commercial       29  23\n",
       "Compta Finances  24  17\n",
       "Consultant       30  39\n",
       "Marketing        15  21\n",
       "R&D               3  12\n",
       "RH               24  19"
      ]
     },
     "execution_count": 131,
     "metadata": {},
     "output_type": "execute_result"
    }
   ],
   "source": [
    "service = pd.crosstab(dfcopy[\"Service\"], dfcopy[\"Sexe\"], values=dfcopy[\"Sexe\"], rownames=None, colnames=None, aggfunc=\"count\")\n",
    "service"
   ]
  },
  {
   "cell_type": "code",
   "execution_count": 132,
   "id": "4122b3b8",
   "metadata": {},
   "outputs": [
    {
     "data": {
      "text/plain": [
       "<AxesSubplot:xlabel='Service', ylabel='count'>"
      ]
     },
     "execution_count": 132,
     "metadata": {},
     "output_type": "execute_result"
    },
    {
     "data": {
      "image/png": "[encoded data removed]",
      "text/plain": [
       "<Figure size 432x288 with 1 Axes>"
      ]
     },
     "metadata": {
      "needs_background": "light"
     },
     "output_type": "display_data"
    }
   ],
   "source": [
    "sns.countplot(x=\"Service\", hue=\"Sexe\", data=dfcopy)"
   ]
  },
  {
   "cell_type": "markdown",
   "id": "e1a8e4ee",
   "metadata": {},
   "source": [
    "### Promotion (Quelle est la répartition des h/f par promotions ?)"
   ]
  },
  {
   "cell_type": "code",
   "execution_count": 60,
   "id": "c1992c25",
   "metadata": {},
   "outputs": [
    {
     "data": {
      "text/html": [
       "<div>\n",
       "<style scoped>\n",
       "    .dataframe tbody tr th:only-of-type {\n",
       "        vertical-align: middle;\n",
       "    }\n",
       "\n",
       "    .dataframe tbody tr th {\n",
       "        vertical-align: top;\n",
       "    }\n",
       "\n",
       "    .dataframe thead th {\n",
       "        text-align: right;\n",
       "    }\n",
       "</style>\n",
       "<table border=\"1\" class=\"dataframe\">\n",
       "  <thead>\n",
       "    <tr style=\"text-align: right;\">\n",
       "      <th>Sexe</th>\n",
       "      <th>F</th>\n",
       "      <th>H</th>\n",
       "    </tr>\n",
       "    <tr>\n",
       "      <th>Promotion</th>\n",
       "      <th></th>\n",
       "      <th></th>\n",
       "    </tr>\n",
       "  </thead>\n",
       "  <tbody>\n",
       "    <tr>\n",
       "      <th>0.0</th>\n",
       "      <td>63</td>\n",
       "      <td>68</td>\n",
       "    </tr>\n",
       "    <tr>\n",
       "      <th>1.0</th>\n",
       "      <td>62</td>\n",
       "      <td>63</td>\n",
       "    </tr>\n",
       "  </tbody>\n",
       "</table>\n",
       "</div>"
      ],
      "text/plain": [
       "Sexe        F   H\n",
       "Promotion        \n",
       "0.0        63  68\n",
       "1.0        62  63"
      ]
     },
     "execution_count": 60,
     "metadata": {},
     "output_type": "execute_result"
    }
   ],
   "source": [
    "promotion = pd.crosstab(dfcopy[\"Promotion\"], dfcopy[\"Sexe\"], values=dfcopy[\"Sexe\"], rownames=None, colnames=None, aggfunc=\"count\")\n",
    "promotion"
   ]
  },
  {
   "cell_type": "code",
   "execution_count": 125,
   "id": "c3230978",
   "metadata": {},
   "outputs": [
    {
     "data": {
      "text/plain": [
       "<AxesSubplot:xlabel='Promotion'>"
      ]
     },
     "execution_count": 125,
     "metadata": {},
     "output_type": "execute_result"
    },
    {
     "data": {
      "image/png": "[encoded data removed]",
      "text/plain": [
       "<Figure size 432x288 with 1 Axes>"
      ]
     },
     "metadata": {
      "needs_background": "light"
     },
     "output_type": "display_data"
    }
   ],
   "source": [
    "promotion.plot(kind='bar', color=['pink', 'blue'])"
   ]
  },
  {
   "cell_type": "markdown",
   "id": "5f6913bd",
   "metadata": {},
   "source": [
    "### Conditions de travail (Quelle est la répartition des h/f par durée hebdomadaire de travail ?)"
   ]
  },
  {
   "cell_type": "code",
   "execution_count": 62,
   "id": "1380b6ff",
   "metadata": {},
   "outputs": [
    {
     "data": {
      "text/html": [
       "<div>\n",
       "<style scoped>\n",
       "    .dataframe tbody tr th:only-of-type {\n",
       "        vertical-align: middle;\n",
       "    }\n",
       "\n",
       "    .dataframe tbody tr th {\n",
       "        vertical-align: top;\n",
       "    }\n",
       "\n",
       "    .dataframe thead th {\n",
       "        text-align: right;\n",
       "    }\n",
       "</style>\n",
       "<table border=\"1\" class=\"dataframe\">\n",
       "  <thead>\n",
       "    <tr style=\"text-align: right;\">\n",
       "      <th>Sexe</th>\n",
       "      <th>F</th>\n",
       "      <th>H</th>\n",
       "    </tr>\n",
       "    <tr>\n",
       "      <th>Durée hebdo</th>\n",
       "      <th></th>\n",
       "      <th></th>\n",
       "    </tr>\n",
       "  </thead>\n",
       "  <tbody>\n",
       "    <tr>\n",
       "      <th>24</th>\n",
       "      <td>11.0</td>\n",
       "      <td>11.0</td>\n",
       "    </tr>\n",
       "    <tr>\n",
       "      <th>28</th>\n",
       "      <td>NaN</td>\n",
       "      <td>5.0</td>\n",
       "    </tr>\n",
       "    <tr>\n",
       "      <th>32</th>\n",
       "      <td>3.0</td>\n",
       "      <td>1.0</td>\n",
       "    </tr>\n",
       "    <tr>\n",
       "      <th>35</th>\n",
       "      <td>111.0</td>\n",
       "      <td>114.0</td>\n",
       "    </tr>\n",
       "  </tbody>\n",
       "</table>\n",
       "</div>"
      ],
      "text/plain": [
       "Sexe             F      H\n",
       "Durée hebdo              \n",
       "24            11.0   11.0\n",
       "28             NaN    5.0\n",
       "32             3.0    1.0\n",
       "35           111.0  114.0"
      ]
     },
     "execution_count": 62,
     "metadata": {},
     "output_type": "execute_result"
    }
   ],
   "source": [
    "cdt = pd.crosstab(dfcopy[\"Durée hebdo\"], dfcopy[\"Sexe\"], values=dfcopy[\"Sexe\"], rownames=None, colnames=None, aggfunc=\"count\")\n",
    "cdt"
   ]
  },
  {
   "cell_type": "code",
   "execution_count": 126,
   "id": "9b9997d0",
   "metadata": {},
   "outputs": [
    {
     "data": {
      "text/plain": [
       "<AxesSubplot:xlabel='Durée hebdo'>"
      ]
     },
     "execution_count": 126,
     "metadata": {},
     "output_type": "execute_result"
    },
    {
     "data": {
      "image/png": "[encoded data removed]",
      "text/plain": [
       "<Figure size 432x288 with 1 Axes>"
      ]
     },
     "metadata": {
      "needs_background": "light"
     },
     "output_type": "display_data"
    }
   ],
   "source": [
    "cdt.plot(kind='bar', color=['pink', 'blue'])"
   ]
  },
  {
   "cell_type": "markdown",
   "id": "3d5a552f",
   "metadata": {},
   "source": [
    "### Conditions de travail (Quelle est la répartition des h/f par accident de travail ?)"
   ]
  },
  {
   "cell_type": "code",
   "execution_count": 133,
   "id": "fbd61ec9",
   "metadata": {},
   "outputs": [
    {
     "data": {
      "text/html": [
       "<div>\n",
       "<style scoped>\n",
       "    .dataframe tbody tr th:only-of-type {\n",
       "        vertical-align: middle;\n",
       "    }\n",
       "\n",
       "    .dataframe tbody tr th {\n",
       "        vertical-align: top;\n",
       "    }\n",
       "\n",
       "    .dataframe thead th {\n",
       "        text-align: right;\n",
       "    }\n",
       "</style>\n",
       "<table border=\"1\" class=\"dataframe\">\n",
       "  <thead>\n",
       "    <tr style=\"text-align: right;\">\n",
       "      <th>Sexe</th>\n",
       "      <th>F</th>\n",
       "      <th>H</th>\n",
       "    </tr>\n",
       "    <tr>\n",
       "      <th>Work_accident</th>\n",
       "      <th></th>\n",
       "      <th></th>\n",
       "    </tr>\n",
       "  </thead>\n",
       "  <tbody>\n",
       "    <tr>\n",
       "      <th>Non</th>\n",
       "      <td>62</td>\n",
       "      <td>65</td>\n",
       "    </tr>\n",
       "    <tr>\n",
       "      <th>Oui</th>\n",
       "      <td>63</td>\n",
       "      <td>66</td>\n",
       "    </tr>\n",
       "  </tbody>\n",
       "</table>\n",
       "</div>"
      ],
      "text/plain": [
       "Sexe            F   H\n",
       "Work_accident        \n",
       "Non            62  65\n",
       "Oui            63  66"
      ]
     },
     "execution_count": 133,
     "metadata": {},
     "output_type": "execute_result"
    }
   ],
   "source": [
    "adt = pd.crosstab(dfcopy[\"Work_accident\"], dfcopy[\"Sexe\"], values=dfcopy[\"Sexe\"], rownames=None, colnames=None, aggfunc=\"count\")\n",
    "adt"
   ]
  },
  {
   "cell_type": "code",
   "execution_count": 134,
   "id": "ca12f689",
   "metadata": {},
   "outputs": [
    {
     "data": {
      "text/plain": [
       "<AxesSubplot:xlabel='Work_accident'>"
      ]
     },
     "execution_count": 134,
     "metadata": {},
     "output_type": "execute_result"
    },
    {
     "data": {
      "image/png": "[encoded data removed]",
      "text/plain": [
       "<Figure size 432x288 with 1 Axes>"
      ]
     },
     "metadata": {
      "needs_background": "light"
     },
     "output_type": "display_data"
    }
   ],
   "source": [
    "adt.plot(kind='bar', color=['pink', 'blue'])"
   ]
  },
  {
   "cell_type": "markdown",
   "id": "c3db7978",
   "metadata": {},
   "source": [
    "### Rémunération effective (obligatoire) (Quelle est la répartition h/f par salaire ?)"
   ]
  },
  {
   "cell_type": "code",
   "execution_count": 128,
   "id": "37729295",
   "metadata": {},
   "outputs": [
    {
     "data": {
      "text/plain": [
       "<seaborn.axisgrid.FacetGrid at 0x1e7d23acf70>"
      ]
     },
     "execution_count": 128,
     "metadata": {},
     "output_type": "execute_result"
    },
    {
     "data": {
      "image/png": "[encoded data removed]",
      "text/plain": [
       "<Figure size 403.5x360 with 1 Axes>"
      ]
     },
     "metadata": {
      "needs_background": "light"
     },
     "output_type": "display_data"
    }
   ],
   "source": [
    "sns.displot(data=dfcopy, x=\"Salaire base mensuel\", hue=\"Sexe\", multiple=\"stack\")"
   ]
  },
  {
   "cell_type": "code",
   "execution_count": 102,
   "id": "c0742950",
   "metadata": {},
   "outputs": [],
   "source": [
    "def salaire_range(salaire):\n",
    "    step = [\n",
    "        {'range': (1000,1999), 'val': '1000'},\n",
    "        {'range': (2000,2999), 'val': '2000'},\n",
    "        {'range': (3000,3999), 'val': '3000'},\n",
    "        {'range': (4000,4999),'val': '4000'},\n",
    "        {'range': (5000,5999),'val': '5000'},\n",
    "        {'range': (6000,6999),'val': '6000'},\n",
    "        {'range': (7000,7999),'val': '7000'},\n",
    "        {'range': (8000,8999),'val': '8000'},\n",
    "        {'range': (9000,9999),'val': '9000'},\n",
    "        {'range': (10000,10999),'val': '10000'}]\n",
    "\n",
    "    for i in step:\n",
    "        if i['range'][0] <= salaire <= i['range'][1]:\n",
    "            return i['val']\n",
    "\n",
    "dfcopy['salaire_range'] = dfcopy['Salaire base mensuel'].apply(salaire_range)"
   ]
  },
  {
   "cell_type": "code",
   "execution_count": 113,
   "id": "efd88244",
   "metadata": {},
   "outputs": [
    {
     "data": {
      "text/plain": [
       "<AxesSubplot:xlabel='salaire_range', ylabel='count'>"
      ]
     },
     "execution_count": 113,
     "metadata": {},
     "output_type": "execute_result"
    },
    {
     "data": {
      "image/png": "[encoded data removed]",
      "text/plain": [
       "<Figure size 432x288 with 1 Axes>"
      ]
     },
     "metadata": {
      "needs_background": "light"
     },
     "output_type": "display_data"
    }
   ],
   "source": [
    "sns.countplot(x=\"salaire_range\", hue=\"Sexe\", data=dfcopy)"
   ]
  },
  {
   "cell_type": "markdown",
   "id": "c1121403",
   "metadata": {},
   "source": [
    "### Articulation des temps (Quelle est la répartition h/f par distance domicile travail (cela représente du temps passé dans les transports) ?)"
   ]
  },
  {
   "cell_type": "code",
   "execution_count": 67,
   "id": "741aeaa6",
   "metadata": {},
   "outputs": [
    {
     "data": {
      "text/plain": [
       "<seaborn.axisgrid.FacetGrid at 0x1e7cee5f790>"
      ]
     },
     "execution_count": 67,
     "metadata": {},
     "output_type": "execute_result"
    },
    {
     "data": {
      "image/png": "[encoded data removed]",
      "text/plain": [
       "<Figure size 403.5x360 with 1 Axes>"
      ]
     },
     "metadata": {
      "needs_background": "light"
     },
     "output_type": "display_data"
    }
   ],
   "source": [
    "sns.displot(data=dfcopy, x=\"Distance domicile/Travail\", hue=\"Sexe\", multiple=\"stack\")"
   ]
  },
  {
   "cell_type": "code",
   "execution_count": 145,
   "id": "0d17b9f6",
   "metadata": {},
   "outputs": [],
   "source": [
    "def time_range(temps):\n",
    "    step = [\n",
    "        {'range': (1,9), 'val': '1-9'},\n",
    "        {'range': (10,19), 'val': '10-19'},\n",
    "        {'range': (20,29), 'val': '20-29'},\n",
    "        {'range': (30,39),'val': '30-39'},\n",
    "        {'range': (40,49),'val': '40-49'},\n",
    "        {'range': (50,59),'val': '50-59'},\n",
    "        {'range': (60,69),'val': '60-69'},\n",
    "        {'range': (70,79),'val': '70-79'}]\n",
    "\n",
    "    for i in step:\n",
    "        if i['range'][0] <= temps <= i['range'][1]:\n",
    "            return i['val']\n",
    "\n",
    "dfcopy['time_range'] = dfcopy['Distance domicile/Travail'].apply(time_range)"
   ]
  },
  {
   "cell_type": "code",
   "execution_count": 147,
   "id": "eb0d2548",
   "metadata": {},
   "outputs": [
    {
     "data": {
      "text/html": [
       "<div>\n",
       "<style scoped>\n",
       "    .dataframe tbody tr th:only-of-type {\n",
       "        vertical-align: middle;\n",
       "    }\n",
       "\n",
       "    .dataframe tbody tr th {\n",
       "        vertical-align: top;\n",
       "    }\n",
       "\n",
       "    .dataframe thead th {\n",
       "        text-align: right;\n",
       "    }\n",
       "</style>\n",
       "<table border=\"1\" class=\"dataframe\">\n",
       "  <thead>\n",
       "    <tr style=\"text-align: right;\">\n",
       "      <th>Sexe</th>\n",
       "      <th>F</th>\n",
       "      <th>H</th>\n",
       "    </tr>\n",
       "    <tr>\n",
       "      <th>time_range</th>\n",
       "      <th></th>\n",
       "      <th></th>\n",
       "    </tr>\n",
       "  </thead>\n",
       "  <tbody>\n",
       "    <tr>\n",
       "      <th>1-9</th>\n",
       "      <td>10</td>\n",
       "      <td>16</td>\n",
       "    </tr>\n",
       "    <tr>\n",
       "      <th>10-19</th>\n",
       "      <td>13</td>\n",
       "      <td>19</td>\n",
       "    </tr>\n",
       "    <tr>\n",
       "      <th>20-29</th>\n",
       "      <td>15</td>\n",
       "      <td>18</td>\n",
       "    </tr>\n",
       "    <tr>\n",
       "      <th>30-39</th>\n",
       "      <td>19</td>\n",
       "      <td>16</td>\n",
       "    </tr>\n",
       "    <tr>\n",
       "      <th>40-49</th>\n",
       "      <td>24</td>\n",
       "      <td>22</td>\n",
       "    </tr>\n",
       "    <tr>\n",
       "      <th>50-59</th>\n",
       "      <td>22</td>\n",
       "      <td>11</td>\n",
       "    </tr>\n",
       "    <tr>\n",
       "      <th>60-69</th>\n",
       "      <td>20</td>\n",
       "      <td>28</td>\n",
       "    </tr>\n",
       "    <tr>\n",
       "      <th>70-79</th>\n",
       "      <td>2</td>\n",
       "      <td>1</td>\n",
       "    </tr>\n",
       "  </tbody>\n",
       "</table>\n",
       "</div>"
      ],
      "text/plain": [
       "Sexe         F   H\n",
       "time_range        \n",
       "1-9         10  16\n",
       "10-19       13  19\n",
       "20-29       15  18\n",
       "30-39       19  16\n",
       "40-49       24  22\n",
       "50-59       22  11\n",
       "60-69       20  28\n",
       "70-79        2   1"
      ]
     },
     "execution_count": 147,
     "metadata": {},
     "output_type": "execute_result"
    }
   ],
   "source": [
    "ddt = pd.crosstab(dfcopy[\"time_range\"], dfcopy[\"Sexe\"], values=dfcopy[\"Sexe\"], rownames=None, colnames=None, aggfunc=\"count\")\n",
    "ddt"
   ]
  },
  {
   "cell_type": "code",
   "execution_count": 149,
   "id": "d82d8bd0",
   "metadata": {},
   "outputs": [
    {
     "data": {
      "text/plain": [
       "<AxesSubplot:xlabel='time_range'>"
      ]
     },
     "execution_count": 149,
     "metadata": {},
     "output_type": "execute_result"
    },
    {
     "data": {
      "image/png": "[encoded data removed]",
      "text/plain": [
       "<Figure size 432x288 with 1 Axes>"
      ]
     },
     "metadata": {
      "needs_background": "light"
     },
     "output_type": "display_data"
    }
   ],
   "source": [
    "ddt.plot(kind='bar', color=['pink', 'blue'])"
   ]
  },
  {
   "cell_type": "code",
   "execution_count": 142,
   "id": "396c500e",
   "metadata": {},
   "outputs": [
    {
     "data": {
      "text/plain": [
       "count    256.000000\n",
       "mean      38.433594\n",
       "std       19.834301\n",
       "min        3.000000\n",
       "25%       22.000000\n",
       "50%       40.500000\n",
       "75%       57.000000\n",
       "max       70.000000\n",
       "Name: Distance domicile/Travail, dtype: float64"
      ]
     },
     "execution_count": 142,
     "metadata": {},
     "output_type": "execute_result"
    }
   ],
   "source": [
    "dfcopy[\"Distance domicile/Travail\"].describe()"
   ]
  },
  {
   "cell_type": "code",
   "execution_count": null,
   "id": "1fe48764",
   "metadata": {},
   "outputs": [],
   "source": []
  },
  {
   "cell_type": "code",
   "execution_count": 143,
   "id": "42da2d70",
   "metadata": {},
   "outputs": [
    {
     "data": {
      "text/plain": [
       "Index(['id_salarié', 'Ancienneté_an', 'Distance domicile/Travail', 'Service',\n",
       "       'Work_accident', 'Niveau de satisfaction', 'Contrat', 'Durée hebdo',\n",
       "       'Salaire base mensuel', '%variable_moyen', 'Augmentation', 'Promotion',\n",
       "       'Sexe', 'salaire_range'],\n",
       "      dtype='object')"
      ]
     },
     "execution_count": 143,
     "metadata": {},
     "output_type": "execute_result"
    }
   ],
   "source": [
    "dfcopy.columns"
   ]
  },
  {
   "cell_type": "code",
   "execution_count": 150,
   "id": "99a61198",
   "metadata": {},
   "outputs": [
    {
     "data": {
      "text/plain": [
       "id_salarié                    object\n",
       "Ancienneté_an                float64\n",
       "Distance domicile/Travail      int64\n",
       "Service                       object\n",
       "Work_accident                 object\n",
       "Niveau de satisfaction         int64\n",
       "Contrat                       object\n",
       "Durée hebdo                    int64\n",
       "Salaire base mensuel         float64\n",
       "%variable_moyen                int64\n",
       "Augmentation                 float64\n",
       "Promotion                    float64\n",
       "Sexe                          object\n",
       "salaire_range                 object\n",
       "time_range                    object\n",
       "dtype: object"
      ]
     },
     "execution_count": 150,
     "metadata": {},
     "output_type": "execute_result"
    }
   ],
   "source": [
    "dfcopy.dtypes"
   ]
  },
  {
   "cell_type": "code",
   "execution_count": 179,
   "id": "fc3dd39c",
   "metadata": {},
   "outputs": [
    {
     "data": {
      "text/html": [
       "<div>\n",
       "<style scoped>\n",
       "    .dataframe tbody tr th:only-of-type {\n",
       "        vertical-align: middle;\n",
       "    }\n",
       "\n",
       "    .dataframe tbody tr th {\n",
       "        vertical-align: top;\n",
       "    }\n",
       "\n",
       "    .dataframe thead th {\n",
       "        text-align: right;\n",
       "    }\n",
       "</style>\n",
       "<table border=\"1\" class=\"dataframe\">\n",
       "  <thead>\n",
       "    <tr style=\"text-align: right;\">\n",
       "      <th></th>\n",
       "      <th>id_salarié</th>\n",
       "      <th>Sexe</th>\n",
       "      <th>Prénom/Nom</th>\n",
       "      <th>Telephone</th>\n",
       "      <th>Date_naissance</th>\n",
       "      <th>Etat Civil</th>\n",
       "      <th>Enfants</th>\n",
       "    </tr>\n",
       "  </thead>\n",
       "  <tbody>\n",
       "    <tr>\n",
       "      <th>0</th>\n",
       "      <td>16920105-1209</td>\n",
       "      <td>F</td>\n",
       "      <td>Solenne Delannoy</td>\n",
       "      <td>607958599</td>\n",
       "      <td>1955-07-07</td>\n",
       "      <td>Célibataire</td>\n",
       "      <td>1</td>\n",
       "    </tr>\n",
       "    <tr>\n",
       "      <th>1</th>\n",
       "      <td>16661123-8764</td>\n",
       "      <td>H</td>\n",
       "      <td>Nicolas Jaccoud</td>\n",
       "      <td>660029842</td>\n",
       "      <td>1970-09-22</td>\n",
       "      <td>Célibataire</td>\n",
       "      <td>3</td>\n",
       "    </tr>\n",
       "    <tr>\n",
       "      <th>2</th>\n",
       "      <td>16230718-4297</td>\n",
       "      <td>F</td>\n",
       "      <td>Alexandra Auguste</td>\n",
       "      <td>629910592</td>\n",
       "      <td>1965-03-01</td>\n",
       "      <td>Marié</td>\n",
       "      <td>1</td>\n",
       "    </tr>\n",
       "    <tr>\n",
       "      <th>3</th>\n",
       "      <td>16130305-6954</td>\n",
       "      <td>F</td>\n",
       "      <td>Marie-Claire Besnard</td>\n",
       "      <td>685888970</td>\n",
       "      <td>1963-09-02</td>\n",
       "      <td>NaN</td>\n",
       "      <td>1</td>\n",
       "    </tr>\n",
       "    <tr>\n",
       "      <th>4</th>\n",
       "      <td>16360125-5924</td>\n",
       "      <td>F</td>\n",
       "      <td>Marie Berengar</td>\n",
       "      <td>624840475</td>\n",
       "      <td>1959-04-02</td>\n",
       "      <td>Marié</td>\n",
       "      <td>3</td>\n",
       "    </tr>\n",
       "  </tbody>\n",
       "</table>\n",
       "</div>"
      ],
      "text/plain": [
       "      id_salarié Sexe            Prénom/Nom  Telephone Date_naissance  \\\n",
       "0  16920105-1209    F      Solenne Delannoy  607958599     1955-07-07   \n",
       "1  16661123-8764    H       Nicolas Jaccoud  660029842     1970-09-22   \n",
       "2  16230718-4297    F     Alexandra Auguste  629910592     1965-03-01   \n",
       "3  16130305-6954    F  Marie-Claire Besnard  685888970     1963-09-02   \n",
       "4  16360125-5924    F        Marie Berengar  624840475     1959-04-02   \n",
       "\n",
       "    Etat Civil  Enfants  \n",
       "0  Célibataire        1  \n",
       "1  Célibataire        3  \n",
       "2        Marié        1  \n",
       "3          NaN        1  \n",
       "4        Marié        3  "
      ]
     },
     "execution_count": 179,
     "metadata": {},
     "output_type": "execute_result"
    }
   ],
   "source": [
    "hashtest = s.copy()\n",
    "hashtest.head(5)"
   ]
  },
  {
   "cell_type": "code",
   "execution_count": 180,
   "id": "e40d9012",
   "metadata": {},
   "outputs": [],
   "source": [
    "import hashlib"
   ]
  },
  {
   "cell_type": "code",
   "execution_count": 181,
   "id": "f8a24bf0",
   "metadata": {},
   "outputs": [
    {
     "name": "stdout",
     "output_type": "stream",
     "text": [
      "757c25e8eee82174ab28d154fb1f3d30\n"
     ]
    }
   ],
   "source": [
    "result = hashlib.md5(\"ezezeze\".encode())\n",
    "  \n",
    "print(result.hexdigest())"
   ]
  },
  {
   "cell_type": "code",
   "execution_count": 182,
   "id": "1556689b",
   "metadata": {},
   "outputs": [],
   "source": [
    "# Apply hashing function to the column\n",
    "hashtest['Prénom/Nom'] = hashtest['Prénom/Nom'].apply(\n",
    "    lambda x: \n",
    "        hashlib.sha256(x.encode()).hexdigest()\n",
    ")"
   ]
  },
  {
   "cell_type": "code",
   "execution_count": 185,
   "id": "145ce030",
   "metadata": {},
   "outputs": [],
   "source": [
    "hashtest['Telephone'] = hashtest['Telephone'].astype(str)"
   ]
  },
  {
   "cell_type": "code",
   "execution_count": 186,
   "id": "4c969314",
   "metadata": {},
   "outputs": [],
   "source": [
    "# Apply hashing function to the column\n",
    "hashtest['Telephone'] = hashtest['Telephone'].apply(\n",
    "    lambda x: \n",
    "        hashlib.sha256(x.encode()).hexdigest()\n",
    ")"
   ]
  },
  {
   "cell_type": "code",
   "execution_count": 189,
   "id": "cfe76b74",
   "metadata": {},
   "outputs": [],
   "source": [
    "hashtest['Date_naissance'] = hashtest['Date_naissance'].astype(str)"
   ]
  },
  {
   "cell_type": "code",
   "execution_count": 190,
   "id": "fd6478a2",
   "metadata": {},
   "outputs": [],
   "source": [
    "# Apply hashing function to the column\n",
    "hashtest['Date_naissance'] = hashtest['Date_naissance'].apply(\n",
    "    lambda x: \n",
    "        hashlib.sha256(x.encode()).hexdigest()\n",
    ")"
   ]
  },
  {
   "cell_type": "code",
   "execution_count": 194,
   "id": "c2ddfea2",
   "metadata": {},
   "outputs": [],
   "source": [
    "hashtest['Enfants'] = hashtest['Enfants'].astype(str)"
   ]
  },
  {
   "cell_type": "code",
   "execution_count": 195,
   "id": "46fb363c",
   "metadata": {},
   "outputs": [],
   "source": [
    "# Apply hashing function to the column\n",
    "hashtest['Enfants'] = hashtest['Enfants'].apply(\n",
    "    lambda x: \n",
    "        hashlib.sha256(x.encode()).hexdigest()\n",
    ")"
   ]
  },
  {
   "cell_type": "code",
   "execution_count": 196,
   "id": "65eed4c9",
   "metadata": {},
   "outputs": [
    {
     "data": {
      "text/html": [
       "<div>\n",
       "<style scoped>\n",
       "    .dataframe tbody tr th:only-of-type {\n",
       "        vertical-align: middle;\n",
       "    }\n",
       "\n",
       "    .dataframe tbody tr th {\n",
       "        vertical-align: top;\n",
       "    }\n",
       "\n",
       "    .dataframe thead th {\n",
       "        text-align: right;\n",
       "    }\n",
       "</style>\n",
       "<table border=\"1\" class=\"dataframe\">\n",
       "  <thead>\n",
       "    <tr style=\"text-align: right;\">\n",
       "      <th></th>\n",
       "      <th>id_salarié</th>\n",
       "      <th>Sexe</th>\n",
       "      <th>Prénom/Nom</th>\n",
       "      <th>Telephone</th>\n",
       "      <th>Date_naissance</th>\n",
       "      <th>Etat Civil</th>\n",
       "      <th>Enfants</th>\n",
       "    </tr>\n",
       "  </thead>\n",
       "  <tbody>\n",
       "    <tr>\n",
       "      <th>0</th>\n",
       "      <td>16920105-1209</td>\n",
       "      <td>F</td>\n",
       "      <td>22ea22c4215786ee0c7ea0142bdd1d29d7b3273bec93d3...</td>\n",
       "      <td>b331e59aef3935634a37712bf39c9c77521d1d2b4de928...</td>\n",
       "      <td>abbd4e8ad27a87aadc77a0ed1f7deba715a3736bd468d6...</td>\n",
       "      <td>Célibataire</td>\n",
       "      <td>6b86b273ff34fce19d6b804eff5a3f5747ada4eaa22f1d...</td>\n",
       "    </tr>\n",
       "    <tr>\n",
       "      <th>1</th>\n",
       "      <td>16661123-8764</td>\n",
       "      <td>H</td>\n",
       "      <td>3f92af4256b483576aa763b9e9075e20fc1ca9633a78ec...</td>\n",
       "      <td>3ccf74c022592117052250064447acb14c573a46fbcd79...</td>\n",
       "      <td>88ec8141913632729eab9fc241d9c2fb51f970bc122d16...</td>\n",
       "      <td>Célibataire</td>\n",
       "      <td>4e07408562bedb8b60ce05c1decfe3ad16b72230967de0...</td>\n",
       "    </tr>\n",
       "    <tr>\n",
       "      <th>2</th>\n",
       "      <td>16230718-4297</td>\n",
       "      <td>F</td>\n",
       "      <td>d6f00cd2b22cf196396dc4d6db457348a9b3eb7fa32788...</td>\n",
       "      <td>23eca70594aab389c02d61f0eccd53bd7215ad39f0dd83...</td>\n",
       "      <td>f5392bb659cf90b454d59cd7dcb8cb3170ca2864f0e6f4...</td>\n",
       "      <td>Marié</td>\n",
       "      <td>6b86b273ff34fce19d6b804eff5a3f5747ada4eaa22f1d...</td>\n",
       "    </tr>\n",
       "    <tr>\n",
       "      <th>3</th>\n",
       "      <td>16130305-6954</td>\n",
       "      <td>F</td>\n",
       "      <td>eea7745b9935c0197bab078e5eb9f0ce697cf14d8f1ee4...</td>\n",
       "      <td>93e5fd953fe769c9db171ba8bc95ecd61b25bc9470c832...</td>\n",
       "      <td>2713282d090878db6a5d2f99e667cdf279d09b9ca6ba62...</td>\n",
       "      <td>NaN</td>\n",
       "      <td>6b86b273ff34fce19d6b804eff5a3f5747ada4eaa22f1d...</td>\n",
       "    </tr>\n",
       "    <tr>\n",
       "      <th>4</th>\n",
       "      <td>16360125-5924</td>\n",
       "      <td>F</td>\n",
       "      <td>3eff923b05fd50e47c359fe4396be5267ac900aae2859f...</td>\n",
       "      <td>dfeaae6db1a71cf816dcfa1acd557d10f5113da2781c73...</td>\n",
       "      <td>1eb9cfe4dae8708250cfa5659651eeef3d583d456188b2...</td>\n",
       "      <td>Marié</td>\n",
       "      <td>4e07408562bedb8b60ce05c1decfe3ad16b72230967de0...</td>\n",
       "    </tr>\n",
       "    <tr>\n",
       "      <th>...</th>\n",
       "      <td>...</td>\n",
       "      <td>...</td>\n",
       "      <td>...</td>\n",
       "      <td>...</td>\n",
       "      <td>...</td>\n",
       "      <td>...</td>\n",
       "      <td>...</td>\n",
       "    </tr>\n",
       "    <tr>\n",
       "      <th>251</th>\n",
       "      <td>16081104-1011</td>\n",
       "      <td>F</td>\n",
       "      <td>db5f069aeb61add5994719830143e5d0a36e96abf082b4...</td>\n",
       "      <td>38377d4fdaa34dfe5d0815f3c793f827710c55ecf855c5...</td>\n",
       "      <td>5c222cf55c6cc4fd8387abb53878ddfcdaf32bb4512d10...</td>\n",
       "      <td>Marié</td>\n",
       "      <td>4e07408562bedb8b60ce05c1decfe3ad16b72230967de0...</td>\n",
       "    </tr>\n",
       "    <tr>\n",
       "      <th>252</th>\n",
       "      <td>16670913-0147</td>\n",
       "      <td>F</td>\n",
       "      <td>a4076e0b3373933a35331a21e6ef649351603288d3d105...</td>\n",
       "      <td>994ed8aa18f7b5848089f419b8e1e42855d8c69a85a40b...</td>\n",
       "      <td>f3dca6b732311cd18f7e0665f42f752f6996fcb8e29fd2...</td>\n",
       "      <td>Célibataire</td>\n",
       "      <td>6b86b273ff34fce19d6b804eff5a3f5747ada4eaa22f1d...</td>\n",
       "    </tr>\n",
       "    <tr>\n",
       "      <th>253</th>\n",
       "      <td>16730918-6273</td>\n",
       "      <td>F</td>\n",
       "      <td>1f5ad8ecd7b949c50bb2a5be2e87163925fee68fd36f74...</td>\n",
       "      <td>ccb8af82611410899be983ffda32259a88bfbf878dde82...</td>\n",
       "      <td>2db01e91388e515734d29b5740d67410ff33f751c0252a...</td>\n",
       "      <td>Marié</td>\n",
       "      <td>6b86b273ff34fce19d6b804eff5a3f5747ada4eaa22f1d...</td>\n",
       "    </tr>\n",
       "    <tr>\n",
       "      <th>254</th>\n",
       "      <td>16770802-4604</td>\n",
       "      <td>F</td>\n",
       "      <td>9959bd318844485a8dd11a89c586e7778d85f0ab89043d...</td>\n",
       "      <td>7e48046b9cdecf18a9413c9a9e7f504dbf7fde2ddcca51...</td>\n",
       "      <td>2f91214347f70eed15e2621f3de46183ca13eb76194ee7...</td>\n",
       "      <td>Marié</td>\n",
       "      <td>d4735e3a265e16eee03f59718b9b5d03019c07d8b6c51f...</td>\n",
       "    </tr>\n",
       "    <tr>\n",
       "      <th>255</th>\n",
       "      <td>16451016-1336</td>\n",
       "      <td>H</td>\n",
       "      <td>6d03634c6e7e74b37a3cb3784716adb9eaf3a808096325...</td>\n",
       "      <td>330e3b6a52802e8cf31b258f0502c5eaa493d1d07ccfc3...</td>\n",
       "      <td>ff5e0d00ce668fcc44867a091f2cbd8ad65fea4d092bdd...</td>\n",
       "      <td>Marié</td>\n",
       "      <td>d4735e3a265e16eee03f59718b9b5d03019c07d8b6c51f...</td>\n",
       "    </tr>\n",
       "  </tbody>\n",
       "</table>\n",
       "<p>256 rows × 7 columns</p>\n",
       "</div>"
      ],
      "text/plain": [
       "        id_salarié Sexe                                         Prénom/Nom  \\\n",
       "0    16920105-1209    F  22ea22c4215786ee0c7ea0142bdd1d29d7b3273bec93d3...   \n",
       "1    16661123-8764    H  3f92af4256b483576aa763b9e9075e20fc1ca9633a78ec...   \n",
       "2    16230718-4297    F  d6f00cd2b22cf196396dc4d6db457348a9b3eb7fa32788...   \n",
       "3    16130305-6954    F  eea7745b9935c0197bab078e5eb9f0ce697cf14d8f1ee4...   \n",
       "4    16360125-5924    F  3eff923b05fd50e47c359fe4396be5267ac900aae2859f...   \n",
       "..             ...  ...                                                ...   \n",
       "251  16081104-1011    F  db5f069aeb61add5994719830143e5d0a36e96abf082b4...   \n",
       "252  16670913-0147    F  a4076e0b3373933a35331a21e6ef649351603288d3d105...   \n",
       "253  16730918-6273    F  1f5ad8ecd7b949c50bb2a5be2e87163925fee68fd36f74...   \n",
       "254  16770802-4604    F  9959bd318844485a8dd11a89c586e7778d85f0ab89043d...   \n",
       "255  16451016-1336    H  6d03634c6e7e74b37a3cb3784716adb9eaf3a808096325...   \n",
       "\n",
       "                                             Telephone  \\\n",
       "0    b331e59aef3935634a37712bf39c9c77521d1d2b4de928...   \n",
       "1    3ccf74c022592117052250064447acb14c573a46fbcd79...   \n",
       "2    23eca70594aab389c02d61f0eccd53bd7215ad39f0dd83...   \n",
       "3    93e5fd953fe769c9db171ba8bc95ecd61b25bc9470c832...   \n",
       "4    dfeaae6db1a71cf816dcfa1acd557d10f5113da2781c73...   \n",
       "..                                                 ...   \n",
       "251  38377d4fdaa34dfe5d0815f3c793f827710c55ecf855c5...   \n",
       "252  994ed8aa18f7b5848089f419b8e1e42855d8c69a85a40b...   \n",
       "253  ccb8af82611410899be983ffda32259a88bfbf878dde82...   \n",
       "254  7e48046b9cdecf18a9413c9a9e7f504dbf7fde2ddcca51...   \n",
       "255  330e3b6a52802e8cf31b258f0502c5eaa493d1d07ccfc3...   \n",
       "\n",
       "                                        Date_naissance   Etat Civil  \\\n",
       "0    abbd4e8ad27a87aadc77a0ed1f7deba715a3736bd468d6...  Célibataire   \n",
       "1    88ec8141913632729eab9fc241d9c2fb51f970bc122d16...  Célibataire   \n",
       "2    f5392bb659cf90b454d59cd7dcb8cb3170ca2864f0e6f4...        Marié   \n",
       "3    2713282d090878db6a5d2f99e667cdf279d09b9ca6ba62...          NaN   \n",
       "4    1eb9cfe4dae8708250cfa5659651eeef3d583d456188b2...        Marié   \n",
       "..                                                 ...          ...   \n",
       "251  5c222cf55c6cc4fd8387abb53878ddfcdaf32bb4512d10...        Marié   \n",
       "252  f3dca6b732311cd18f7e0665f42f752f6996fcb8e29fd2...  Célibataire   \n",
       "253  2db01e91388e515734d29b5740d67410ff33f751c0252a...        Marié   \n",
       "254  2f91214347f70eed15e2621f3de46183ca13eb76194ee7...        Marié   \n",
       "255  ff5e0d00ce668fcc44867a091f2cbd8ad65fea4d092bdd...        Marié   \n",
       "\n",
       "                                               Enfants  \n",
       "0    6b86b273ff34fce19d6b804eff5a3f5747ada4eaa22f1d...  \n",
       "1    4e07408562bedb8b60ce05c1decfe3ad16b72230967de0...  \n",
       "2    6b86b273ff34fce19d6b804eff5a3f5747ada4eaa22f1d...  \n",
       "3    6b86b273ff34fce19d6b804eff5a3f5747ada4eaa22f1d...  \n",
       "4    4e07408562bedb8b60ce05c1decfe3ad16b72230967de0...  \n",
       "..                                                 ...  \n",
       "251  4e07408562bedb8b60ce05c1decfe3ad16b72230967de0...  \n",
       "252  6b86b273ff34fce19d6b804eff5a3f5747ada4eaa22f1d...  \n",
       "253  6b86b273ff34fce19d6b804eff5a3f5747ada4eaa22f1d...  \n",
       "254  d4735e3a265e16eee03f59718b9b5d03019c07d8b6c51f...  \n",
       "255  d4735e3a265e16eee03f59718b9b5d03019c07d8b6c51f...  \n",
       "\n",
       "[256 rows x 7 columns]"
      ]
     },
     "execution_count": 196,
     "metadata": {},
     "output_type": "execute_result"
    }
   ],
   "source": [
    "hashtest"
   ]
  },
  {
   "cell_type": "code",
   "execution_count": null,
   "id": "7f7359b3",
   "metadata": {},
   "outputs": [],
   "source": []
  }
 ],
 "metadata": {
  "kernelspec": {
   "display_name": "Python 3 (ipykernel)",
   "language": "python",
   "name": "python3"
  },
  "language_info": {
   "codemirror_mode": {
    "name": "ipython",
    "version": 3
   },
   "file_extension": ".py",
   "mimetype": "text/x-python",
   "name": "python",
   "nbconvert_exporter": "python",
   "pygments_lexer": "ipython3",
   "version": "3.9.7"
  },
  "latex_envs": {
   "LaTeX_envs_menu_present": true,
   "autoclose": false,
   "autocomplete": true,
   "bibliofile": "biblio.bib",
   "cite_by": "apalike",
   "current_citInitial": 1,
   "eqLabelWithNumbers": true,
   "eqNumInitial": 1,
   "hotkeys": {
    "equation": "Ctrl-E",
    "itemize": "Ctrl-I"
   },
   "labels_anchors": false,
   "latex_user_defs": false,
   "report_style_numbering": false,
   "user_envs_cfg": false
  }
 },
 "nbformat": 4,
 "nbformat_minor": 5
}
