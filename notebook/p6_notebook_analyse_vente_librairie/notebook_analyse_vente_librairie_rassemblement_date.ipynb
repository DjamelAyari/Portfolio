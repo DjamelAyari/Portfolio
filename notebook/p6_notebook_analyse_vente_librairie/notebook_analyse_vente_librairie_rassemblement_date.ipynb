{
 "cells": [
  {
   "cell_type": "markdown",
   "id": "a5724dc7",
   "metadata": {},
   "source": [
    "# <center>Analyse des ventes d'une librairie</center>\n",
    "\n",
    "# <center>Rassemblement + Dates</center>"
   ]
  },
  {
   "cell_type": "markdown",
   "id": "8bd6a3fe",
   "metadata": {},
   "source": [
    "## Importation des librairies"
   ]
  },
  {
   "cell_type": "code",
   "execution_count": 1,
   "id": "fd793121",
   "metadata": {},
   "outputs": [],
   "source": [
    "import pandas as pd\n",
    "import numpy as  np\n",
    "import matplotlib.pyplot as plt\n",
    "import seaborn as sns"
   ]
  },
  {
   "cell_type": "markdown",
   "id": "ab0bd3c7",
   "metadata": {},
   "source": [
    "## Importation des dataset"
   ]
  },
  {
   "cell_type": "code",
   "execution_count": 2,
   "id": "d3a16ed5",
   "metadata": {},
   "outputs": [],
   "source": [
    "customers_bis = pd.read_csv(\"customers_bis.csv\")\n",
    "\n",
    "products = pd.read_csv(\"products.csv\")\n",
    "\n",
    "transactions = pd.read_csv(\"transactions.csv\")"
   ]
  },
  {
   "cell_type": "markdown",
   "id": "c8ab8c4d",
   "metadata": {},
   "source": [
    "***"
   ]
  },
  {
   "cell_type": "markdown",
   "id": "92b2355e",
   "metadata": {},
   "source": [
    "***"
   ]
  },
  {
   "cell_type": "markdown",
   "id": "2a8c0a5e",
   "metadata": {},
   "source": [
    "## <center>Rassemblement</center>"
   ]
  },
  {
   "cell_type": "markdown",
   "id": "5fa4b6fd",
   "metadata": {},
   "source": [
    "*L'analyse de mes dataset m'a permis de mieux les connaitre et comprendre, j'ai donc plus d'informations pour pouvoir continuer mon travail.*\n",
    "\n",
    "*Au vu des différentes demandes quu m'on été faites un rassemblement des dataset est à faire.*"
   ]
  },
  {
   "cell_type": "markdown",
   "id": "75fcccc3",
   "metadata": {},
   "source": [
    "*Il faut dans un premier temps que je retire les valeurs test car elle ne sont pas des valeurs réelles. Et donc fausserai mon analyse des ventes.*"
   ]
  },
  {
   "cell_type": "code",
   "execution_count": 3,
   "id": "d0ade173",
   "metadata": {},
   "outputs": [],
   "source": [
    "customers_bis = customers_bis[customers_bis.client_id != \"ct_1\"]\n",
    "customers_bis = customers_bis[customers_bis.client_id != \"ct_0\"]"
   ]
  },
  {
   "cell_type": "code",
   "execution_count": 4,
   "id": "f24324ec",
   "metadata": {},
   "outputs": [],
   "source": [
    "products = products[products.id_prod != \"T_0\"]"
   ]
  },
  {
   "cell_type": "code",
   "execution_count": 5,
   "id": "ac1b774e",
   "metadata": {},
   "outputs": [],
   "source": [
    "transactions = transactions[transactions.id_prod != \"T_0\"]"
   ]
  },
  {
   "cell_type": "code",
   "execution_count": 6,
   "id": "b3f38f97",
   "metadata": {},
   "outputs": [
    {
     "name": "stdout",
     "output_type": "stream",
     "text": [
      "Pour rappel au début du projet --> Customers shape --> (8623, 3)\n",
      "Pour rappel au début du projet --> Products shape --> (3287, 3)\n",
      "Pour rappel au début du projet --> Transactions shape --> (679532, 4)\n"
     ]
    }
   ],
   "source": [
    "print(\"Pour rappel au début du projet --> Customers shape --> (8623, 3)\")\n",
    "print(\"Pour rappel au début du projet --> Products shape --> (3287, 3)\")\n",
    "print(\"Pour rappel au début du projet --> Transactions shape --> (679532, 4)\")"
   ]
  },
  {
   "cell_type": "code",
   "execution_count": 7,
   "id": "29b022ab",
   "metadata": {},
   "outputs": [
    {
     "name": "stdout",
     "output_type": "stream",
     "text": [
      "Customers_bis shape --> (8621, 5)\n",
      "Products shape --> (3286, 3)\n",
      "Transactions shape --> (679332, 4)\n"
     ]
    }
   ],
   "source": [
    "print(\"Customers_bis shape -->\", customers_bis.shape)\n",
    "print(\"Products shape -->\", products.shape)\n",
    "print(\"Transactions shape -->\", transactions.shape)"
   ]
  },
  {
   "cell_type": "code",
   "execution_count": 8,
   "id": "b462171c",
   "metadata": {},
   "outputs": [
    {
     "name": "stdout",
     "output_type": "stream",
     "text": [
      "ct_1 et ct_0 dans customers_bis représentaient 2 lignes, 8623 - 2 = 8621\n",
      "T_0 représentaient 1 lignes, 3287 - 1 = 3286\n",
      "Les lignes 'test' représentaient 200 lignes, 679532 - 200 = 679332\n"
     ]
    }
   ],
   "source": [
    "print(\"ct_1 et ct_0 dans customers_bis représentaient 2 lignes, 8623 - 2 = 8621\")\n",
    "print(\"T_0 représentaient 1 lignes, 3287 - 1 = 3286\")\n",
    "print(\"Les lignes 'test' représentaient 200 lignes, 679532 - 200 = 679332\")"
   ]
  },
  {
   "cell_type": "code",
   "execution_count": 9,
   "id": "a28da43a",
   "metadata": {},
   "outputs": [],
   "source": [
    "customers_bis.drop(['Unnamed: 0'], axis = 1, inplace = True)"
   ]
  },
  {
   "cell_type": "code",
   "execution_count": 10,
   "id": "a24bd1c0",
   "metadata": {},
   "outputs": [
    {
     "data": {
      "text/plain": [
       "Index(['client_id', 'sex', 'birth', 'age'], dtype='object')"
      ]
     },
     "execution_count": 10,
     "metadata": {},
     "output_type": "execute_result"
    }
   ],
   "source": [
    "customers_bis.columns"
   ]
  },
  {
   "cell_type": "code",
   "execution_count": 11,
   "id": "413445e9",
   "metadata": {},
   "outputs": [
    {
     "data": {
      "text/plain": [
       "0"
      ]
     },
     "execution_count": 11,
     "metadata": {},
     "output_type": "execute_result"
    }
   ],
   "source": [
    "transactions.duplicated().sum()"
   ]
  },
  {
   "cell_type": "markdown",
   "id": "26ab29b0",
   "metadata": {},
   "source": [
    "*Il y avait des doublons dans transactions, ceux_ci correspondaient tous à des lignes \"test\".*\n",
    "\n",
    "*Du fait qu'il n'y ait plus de lignes \"test\", il n'y a plus de doublons dans transactions.*"
   ]
  },
  {
   "cell_type": "code",
   "execution_count": 12,
   "id": "8d77268c",
   "metadata": {},
   "outputs": [
    {
     "name": "stdout",
     "output_type": "stream",
     "text": [
      "<class 'pandas.core.frame.DataFrame'>\n",
      "Int64Index: 8621 entries, 0 to 8622\n",
      "Data columns (total 4 columns):\n",
      " #   Column     Non-Null Count  Dtype \n",
      "---  ------     --------------  ----- \n",
      " 0   client_id  8621 non-null   object\n",
      " 1   sex        8621 non-null   object\n",
      " 2   birth      8621 non-null   int64 \n",
      " 3   age        8621 non-null   int64 \n",
      "dtypes: int64(2), object(2)\n",
      "memory usage: 336.8+ KB\n"
     ]
    }
   ],
   "source": [
    "customers_bis.info()"
   ]
  },
  {
   "cell_type": "code",
   "execution_count": 13,
   "id": "48b9e522",
   "metadata": {},
   "outputs": [
    {
     "name": "stdout",
     "output_type": "stream",
     "text": [
      "<class 'pandas.core.frame.DataFrame'>\n",
      "Int64Index: 3286 entries, 0 to 3286\n",
      "Data columns (total 3 columns):\n",
      " #   Column   Non-Null Count  Dtype  \n",
      "---  ------   --------------  -----  \n",
      " 0   id_prod  3286 non-null   object \n",
      " 1   price    3286 non-null   float64\n",
      " 2   categ    3286 non-null   int64  \n",
      "dtypes: float64(1), int64(1), object(1)\n",
      "memory usage: 102.7+ KB\n"
     ]
    }
   ],
   "source": [
    "products.info()"
   ]
  },
  {
   "cell_type": "code",
   "execution_count": 14,
   "id": "0b340ceb",
   "metadata": {},
   "outputs": [
    {
     "name": "stdout",
     "output_type": "stream",
     "text": [
      "<class 'pandas.core.frame.DataFrame'>\n",
      "Int64Index: 679332 entries, 0 to 679531\n",
      "Data columns (total 4 columns):\n",
      " #   Column      Non-Null Count   Dtype \n",
      "---  ------      --------------   ----- \n",
      " 0   id_prod     679332 non-null  object\n",
      " 1   date        679332 non-null  object\n",
      " 2   session_id  679332 non-null  object\n",
      " 3   client_id   679332 non-null  object\n",
      "dtypes: object(4)\n",
      "memory usage: 25.9+ MB\n"
     ]
    }
   ],
   "source": [
    "transactions.info()"
   ]
  },
  {
   "cell_type": "markdown",
   "id": "c1859738",
   "metadata": {},
   "source": [
    "*Il y a 0 nan dans chacun des 3 dataset.*"
   ]
  },
  {
   "cell_type": "markdown",
   "id": "b1e4d4d3",
   "metadata": {},
   "source": [
    "*Maintenant je peux procéder aux rassemblement.*\n",
    "\n",
    "*Le dataset transactions est celui qui permet de rassembler customers et products pour en former plus qu'un seul dataset.*"
   ]
  },
  {
   "cell_type": "markdown",
   "id": "ceb5e496",
   "metadata": {},
   "source": [
    "##### Rassemblement de customers et transactions\n",
    "\n",
    "*Je veux dans un premier temps insérer customers (df y) dans transactions (df x), il faut donc que j'utilise un \"left join\".*\n",
    "\n",
    "***\"Left Join or Left outer join:To include all the rows of your data frame x and only those from y that match, specify how=‘left’.\"***\n",
    "\n",
    "*Il faudra que j'ai bien 679332 lignes (la longueur de transactions doit rester intacte) et 7 colonnes (rajouts des colonnes sex birth et age).*"
   ]
  },
  {
   "cell_type": "code",
   "execution_count": 15,
   "id": "ab487ac2",
   "metadata": {},
   "outputs": [],
   "source": [
    "df = transactions.merge(customers_bis, on='client_id', how=\"left\")"
   ]
  },
  {
   "cell_type": "code",
   "execution_count": 16,
   "id": "d7200594",
   "metadata": {},
   "outputs": [
    {
     "data": {
      "text/plain": [
       "(679332, 7)"
      ]
     },
     "execution_count": 16,
     "metadata": {},
     "output_type": "execute_result"
    }
   ],
   "source": [
    "df.shape"
   ]
  },
  {
   "cell_type": "code",
   "execution_count": 17,
   "id": "7df35898",
   "metadata": {},
   "outputs": [
    {
     "data": {
      "text/html": [
       "<div>\n",
       "<style scoped>\n",
       "    .dataframe tbody tr th:only-of-type {\n",
       "        vertical-align: middle;\n",
       "    }\n",
       "\n",
       "    .dataframe tbody tr th {\n",
       "        vertical-align: top;\n",
       "    }\n",
       "\n",
       "    .dataframe thead th {\n",
       "        text-align: right;\n",
       "    }\n",
       "</style>\n",
       "<table border=\"1\" class=\"dataframe\">\n",
       "  <thead>\n",
       "    <tr style=\"text-align: right;\">\n",
       "      <th></th>\n",
       "      <th>id_prod</th>\n",
       "      <th>date</th>\n",
       "      <th>session_id</th>\n",
       "      <th>client_id</th>\n",
       "      <th>sex</th>\n",
       "      <th>birth</th>\n",
       "      <th>age</th>\n",
       "    </tr>\n",
       "  </thead>\n",
       "  <tbody>\n",
       "    <tr>\n",
       "      <th>0</th>\n",
       "      <td>0_1518</td>\n",
       "      <td>2022-05-20 13:21:29.043970</td>\n",
       "      <td>s_211425</td>\n",
       "      <td>c_103</td>\n",
       "      <td>f</td>\n",
       "      <td>1986</td>\n",
       "      <td>36</td>\n",
       "    </tr>\n",
       "    <tr>\n",
       "      <th>1</th>\n",
       "      <td>1_251</td>\n",
       "      <td>2022-02-02 07:55:19.149409</td>\n",
       "      <td>s_158752</td>\n",
       "      <td>c_8534</td>\n",
       "      <td>m</td>\n",
       "      <td>1988</td>\n",
       "      <td>34</td>\n",
       "    </tr>\n",
       "    <tr>\n",
       "      <th>2</th>\n",
       "      <td>0_1277</td>\n",
       "      <td>2022-06-18 15:44:33.155329</td>\n",
       "      <td>s_225667</td>\n",
       "      <td>c_6714</td>\n",
       "      <td>f</td>\n",
       "      <td>1968</td>\n",
       "      <td>54</td>\n",
       "    </tr>\n",
       "    <tr>\n",
       "      <th>3</th>\n",
       "      <td>2_209</td>\n",
       "      <td>2021-06-24 04:19:29.835891</td>\n",
       "      <td>s_52962</td>\n",
       "      <td>c_6941</td>\n",
       "      <td>m</td>\n",
       "      <td>2000</td>\n",
       "      <td>22</td>\n",
       "    </tr>\n",
       "    <tr>\n",
       "      <th>4</th>\n",
       "      <td>0_1509</td>\n",
       "      <td>2023-01-11 08:22:08.194479</td>\n",
       "      <td>s_325227</td>\n",
       "      <td>c_4232</td>\n",
       "      <td>m</td>\n",
       "      <td>1980</td>\n",
       "      <td>42</td>\n",
       "    </tr>\n",
       "    <tr>\n",
       "      <th>5</th>\n",
       "      <td>0_1418</td>\n",
       "      <td>2022-10-20 15:59:16.084030</td>\n",
       "      <td>s_285425</td>\n",
       "      <td>c_1478</td>\n",
       "      <td>f</td>\n",
       "      <td>1972</td>\n",
       "      <td>50</td>\n",
       "    </tr>\n",
       "    <tr>\n",
       "      <th>6</th>\n",
       "      <td>0_1475</td>\n",
       "      <td>2022-06-03 04:45:09.871601</td>\n",
       "      <td>s_218033</td>\n",
       "      <td>c_7782</td>\n",
       "      <td>m</td>\n",
       "      <td>1981</td>\n",
       "      <td>41</td>\n",
       "    </tr>\n",
       "    <tr>\n",
       "      <th>7</th>\n",
       "      <td>0_2110</td>\n",
       "      <td>2021-06-26 14:48:55.311418</td>\n",
       "      <td>s_54122</td>\n",
       "      <td>c_7456</td>\n",
       "      <td>f</td>\n",
       "      <td>1985</td>\n",
       "      <td>37</td>\n",
       "    </tr>\n",
       "    <tr>\n",
       "      <th>8</th>\n",
       "      <td>0_1156</td>\n",
       "      <td>2022-12-27 12:27:40.641366</td>\n",
       "      <td>s_318058</td>\n",
       "      <td>c_7363</td>\n",
       "      <td>f</td>\n",
       "      <td>1982</td>\n",
       "      <td>40</td>\n",
       "    </tr>\n",
       "    <tr>\n",
       "      <th>9</th>\n",
       "      <td>1_299</td>\n",
       "      <td>2021-11-29 15:54:25.880121</td>\n",
       "      <td>s_126880</td>\n",
       "      <td>c_1847</td>\n",
       "      <td>m</td>\n",
       "      <td>1973</td>\n",
       "      <td>49</td>\n",
       "    </tr>\n",
       "  </tbody>\n",
       "</table>\n",
       "</div>"
      ],
      "text/plain": [
       "  id_prod                        date session_id client_id sex  birth  age\n",
       "0  0_1518  2022-05-20 13:21:29.043970   s_211425     c_103   f   1986   36\n",
       "1   1_251  2022-02-02 07:55:19.149409   s_158752    c_8534   m   1988   34\n",
       "2  0_1277  2022-06-18 15:44:33.155329   s_225667    c_6714   f   1968   54\n",
       "3   2_209  2021-06-24 04:19:29.835891    s_52962    c_6941   m   2000   22\n",
       "4  0_1509  2023-01-11 08:22:08.194479   s_325227    c_4232   m   1980   42\n",
       "5  0_1418  2022-10-20 15:59:16.084030   s_285425    c_1478   f   1972   50\n",
       "6  0_1475  2022-06-03 04:45:09.871601   s_218033    c_7782   m   1981   41\n",
       "7  0_2110  2021-06-26 14:48:55.311418    s_54122    c_7456   f   1985   37\n",
       "8  0_1156  2022-12-27 12:27:40.641366   s_318058    c_7363   f   1982   40\n",
       "9   1_299  2021-11-29 15:54:25.880121   s_126880    c_1847   m   1973   49"
      ]
     },
     "execution_count": 17,
     "metadata": {},
     "output_type": "execute_result"
    }
   ],
   "source": [
    "df.head(10)"
   ]
  },
  {
   "cell_type": "code",
   "execution_count": 18,
   "id": "b65e1cd4",
   "metadata": {},
   "outputs": [
    {
     "data": {
      "text/plain": [
       "id_prod       0.0\n",
       "date          0.0\n",
       "session_id    0.0\n",
       "client_id     0.0\n",
       "sex           0.0\n",
       "birth         0.0\n",
       "age           0.0\n",
       "dtype: float64"
      ]
     },
     "execution_count": 18,
     "metadata": {},
     "output_type": "execute_result"
    }
   ],
   "source": [
    "df.isnull().sum()*100/len(df)"
   ]
  },
  {
   "cell_type": "markdown",
   "id": "cb0a15fd",
   "metadata": {},
   "source": [
    "##### Rassemblement de products et df\n",
    "\n",
    "*Je veux dans un deuxième temps insérer products (df y) dans df (df x), il faut donc que j'utilise un \"left join\".*\n",
    "\n",
    "***\"Left Join or Left outer join:To include all the rows of your data frame x and only those from y that match, specify how=‘left’.\"***\n",
    "\n",
    "*Il faudra que j'ai bien 679332 lignes (la longueur de df doit rester intacte) et 9 colonnes (rajouts des colonnes price et categ).*"
   ]
  },
  {
   "cell_type": "code",
   "execution_count": 19,
   "id": "7baa1b6e",
   "metadata": {},
   "outputs": [],
   "source": [
    "df = df.merge(products, on='id_prod', how=\"left\")"
   ]
  },
  {
   "cell_type": "code",
   "execution_count": 20,
   "id": "ae0ed07a",
   "metadata": {},
   "outputs": [
    {
     "data": {
      "text/plain": [
       "(679332, 9)"
      ]
     },
     "execution_count": 20,
     "metadata": {},
     "output_type": "execute_result"
    }
   ],
   "source": [
    "df.shape"
   ]
  },
  {
   "cell_type": "code",
   "execution_count": 21,
   "id": "da45b031",
   "metadata": {},
   "outputs": [
    {
     "data": {
      "text/html": [
       "<div>\n",
       "<style scoped>\n",
       "    .dataframe tbody tr th:only-of-type {\n",
       "        vertical-align: middle;\n",
       "    }\n",
       "\n",
       "    .dataframe tbody tr th {\n",
       "        vertical-align: top;\n",
       "    }\n",
       "\n",
       "    .dataframe thead th {\n",
       "        text-align: right;\n",
       "    }\n",
       "</style>\n",
       "<table border=\"1\" class=\"dataframe\">\n",
       "  <thead>\n",
       "    <tr style=\"text-align: right;\">\n",
       "      <th></th>\n",
       "      <th>id_prod</th>\n",
       "      <th>date</th>\n",
       "      <th>session_id</th>\n",
       "      <th>client_id</th>\n",
       "      <th>sex</th>\n",
       "      <th>birth</th>\n",
       "      <th>age</th>\n",
       "      <th>price</th>\n",
       "      <th>categ</th>\n",
       "    </tr>\n",
       "  </thead>\n",
       "  <tbody>\n",
       "    <tr>\n",
       "      <th>0</th>\n",
       "      <td>0_1518</td>\n",
       "      <td>2022-05-20 13:21:29.043970</td>\n",
       "      <td>s_211425</td>\n",
       "      <td>c_103</td>\n",
       "      <td>f</td>\n",
       "      <td>1986</td>\n",
       "      <td>36</td>\n",
       "      <td>4.18</td>\n",
       "      <td>0.0</td>\n",
       "    </tr>\n",
       "    <tr>\n",
       "      <th>1</th>\n",
       "      <td>1_251</td>\n",
       "      <td>2022-02-02 07:55:19.149409</td>\n",
       "      <td>s_158752</td>\n",
       "      <td>c_8534</td>\n",
       "      <td>m</td>\n",
       "      <td>1988</td>\n",
       "      <td>34</td>\n",
       "      <td>15.99</td>\n",
       "      <td>1.0</td>\n",
       "    </tr>\n",
       "    <tr>\n",
       "      <th>2</th>\n",
       "      <td>0_1277</td>\n",
       "      <td>2022-06-18 15:44:33.155329</td>\n",
       "      <td>s_225667</td>\n",
       "      <td>c_6714</td>\n",
       "      <td>f</td>\n",
       "      <td>1968</td>\n",
       "      <td>54</td>\n",
       "      <td>7.99</td>\n",
       "      <td>0.0</td>\n",
       "    </tr>\n",
       "    <tr>\n",
       "      <th>3</th>\n",
       "      <td>2_209</td>\n",
       "      <td>2021-06-24 04:19:29.835891</td>\n",
       "      <td>s_52962</td>\n",
       "      <td>c_6941</td>\n",
       "      <td>m</td>\n",
       "      <td>2000</td>\n",
       "      <td>22</td>\n",
       "      <td>69.99</td>\n",
       "      <td>2.0</td>\n",
       "    </tr>\n",
       "    <tr>\n",
       "      <th>4</th>\n",
       "      <td>0_1509</td>\n",
       "      <td>2023-01-11 08:22:08.194479</td>\n",
       "      <td>s_325227</td>\n",
       "      <td>c_4232</td>\n",
       "      <td>m</td>\n",
       "      <td>1980</td>\n",
       "      <td>42</td>\n",
       "      <td>4.99</td>\n",
       "      <td>0.0</td>\n",
       "    </tr>\n",
       "    <tr>\n",
       "      <th>5</th>\n",
       "      <td>0_1418</td>\n",
       "      <td>2022-10-20 15:59:16.084030</td>\n",
       "      <td>s_285425</td>\n",
       "      <td>c_1478</td>\n",
       "      <td>f</td>\n",
       "      <td>1972</td>\n",
       "      <td>50</td>\n",
       "      <td>8.57</td>\n",
       "      <td>0.0</td>\n",
       "    </tr>\n",
       "    <tr>\n",
       "      <th>6</th>\n",
       "      <td>0_1475</td>\n",
       "      <td>2022-06-03 04:45:09.871601</td>\n",
       "      <td>s_218033</td>\n",
       "      <td>c_7782</td>\n",
       "      <td>m</td>\n",
       "      <td>1981</td>\n",
       "      <td>41</td>\n",
       "      <td>11.99</td>\n",
       "      <td>0.0</td>\n",
       "    </tr>\n",
       "    <tr>\n",
       "      <th>7</th>\n",
       "      <td>0_2110</td>\n",
       "      <td>2021-06-26 14:48:55.311418</td>\n",
       "      <td>s_54122</td>\n",
       "      <td>c_7456</td>\n",
       "      <td>f</td>\n",
       "      <td>1985</td>\n",
       "      <td>37</td>\n",
       "      <td>7.04</td>\n",
       "      <td>0.0</td>\n",
       "    </tr>\n",
       "    <tr>\n",
       "      <th>8</th>\n",
       "      <td>0_1156</td>\n",
       "      <td>2022-12-27 12:27:40.641366</td>\n",
       "      <td>s_318058</td>\n",
       "      <td>c_7363</td>\n",
       "      <td>f</td>\n",
       "      <td>1982</td>\n",
       "      <td>40</td>\n",
       "      <td>12.79</td>\n",
       "      <td>0.0</td>\n",
       "    </tr>\n",
       "    <tr>\n",
       "      <th>9</th>\n",
       "      <td>1_299</td>\n",
       "      <td>2021-11-29 15:54:25.880121</td>\n",
       "      <td>s_126880</td>\n",
       "      <td>c_1847</td>\n",
       "      <td>m</td>\n",
       "      <td>1973</td>\n",
       "      <td>49</td>\n",
       "      <td>13.99</td>\n",
       "      <td>1.0</td>\n",
       "    </tr>\n",
       "  </tbody>\n",
       "</table>\n",
       "</div>"
      ],
      "text/plain": [
       "  id_prod                        date session_id client_id sex  birth  age  \\\n",
       "0  0_1518  2022-05-20 13:21:29.043970   s_211425     c_103   f   1986   36   \n",
       "1   1_251  2022-02-02 07:55:19.149409   s_158752    c_8534   m   1988   34   \n",
       "2  0_1277  2022-06-18 15:44:33.155329   s_225667    c_6714   f   1968   54   \n",
       "3   2_209  2021-06-24 04:19:29.835891    s_52962    c_6941   m   2000   22   \n",
       "4  0_1509  2023-01-11 08:22:08.194479   s_325227    c_4232   m   1980   42   \n",
       "5  0_1418  2022-10-20 15:59:16.084030   s_285425    c_1478   f   1972   50   \n",
       "6  0_1475  2022-06-03 04:45:09.871601   s_218033    c_7782   m   1981   41   \n",
       "7  0_2110  2021-06-26 14:48:55.311418    s_54122    c_7456   f   1985   37   \n",
       "8  0_1156  2022-12-27 12:27:40.641366   s_318058    c_7363   f   1982   40   \n",
       "9   1_299  2021-11-29 15:54:25.880121   s_126880    c_1847   m   1973   49   \n",
       "\n",
       "   price  categ  \n",
       "0   4.18    0.0  \n",
       "1  15.99    1.0  \n",
       "2   7.99    0.0  \n",
       "3  69.99    2.0  \n",
       "4   4.99    0.0  \n",
       "5   8.57    0.0  \n",
       "6  11.99    0.0  \n",
       "7   7.04    0.0  \n",
       "8  12.79    0.0  \n",
       "9  13.99    1.0  "
      ]
     },
     "execution_count": 21,
     "metadata": {},
     "output_type": "execute_result"
    }
   ],
   "source": [
    "df.head(10)"
   ]
  },
  {
   "cell_type": "code",
   "execution_count": 22,
   "id": "b40ceaaa",
   "metadata": {},
   "outputs": [
    {
     "data": {
      "text/plain": [
       "id_prod       0.000000\n",
       "date          0.000000\n",
       "session_id    0.000000\n",
       "client_id     0.000000\n",
       "sex           0.000000\n",
       "birth         0.000000\n",
       "age           0.000000\n",
       "price         0.032532\n",
       "categ         0.032532\n",
       "dtype: float64"
      ]
     },
     "execution_count": 22,
     "metadata": {},
     "output_type": "execute_result"
    }
   ],
   "source": [
    "df.isnull().sum()*100/len(df)"
   ]
  },
  {
   "cell_type": "markdown",
   "id": "4d48aa7a",
   "metadata": {},
   "source": [
    "*Ici je remarque que j'ai des nan dans les colonnes price et categ pour le dataset df.*"
   ]
  },
  {
   "cell_type": "code",
   "execution_count": 23,
   "id": "e50374ae",
   "metadata": {},
   "outputs": [
    {
     "data": {
      "text/plain": [
       "0_2245    221\n",
       "Name: id_prod, dtype: int64"
      ]
     },
     "execution_count": 23,
     "metadata": {},
     "output_type": "execute_result"
    }
   ],
   "source": [
    "na = df.loc[df.isnull().any(axis=1)]\n",
    "na[\"id_prod\"].value_counts()"
   ]
  },
  {
   "cell_type": "code",
   "execution_count": 24,
   "id": "0af0e3b9",
   "metadata": {},
   "outputs": [
    {
     "data": {
      "text/plain": [
       "id_prod  date                        session_id  client_id\n",
       "0_2245   2021-03-01 00:09:29.301897  s_3         c_580        1\n",
       "         2022-07-15 06:19:44.035000  s_238618    c_4765       1\n",
       "         2022-05-21 18:39:25.649231  s_211970    c_6268       1\n",
       "         2022-05-27 04:57:50.401531  s_214607    c_2288       1\n",
       "         2022-05-29 23:24:51.621799  s_216074    c_2189       1\n",
       "                                                             ..\n",
       "         2021-11-24 17:35:59.911427  s_124474    c_5120       1\n",
       "         2021-11-27 04:57:50.401531  s_125685    c_2288       1\n",
       "         2021-11-30 21:49:23.614810  s_127497    c_4721       1\n",
       "         2021-12-03 14:14:40.444177  s_128815    c_6189       1\n",
       "         2023-02-21 04:06:19.106398  s_344671    c_5352       1\n",
       "Length: 221, dtype: int64"
      ]
     },
     "execution_count": 24,
     "metadata": {},
     "output_type": "execute_result"
    }
   ],
   "source": [
    "transactions[transactions[\"id_prod\"]==\"0_2245\"].value_counts()"
   ]
  },
  {
   "cell_type": "code",
   "execution_count": 25,
   "id": "7e499177",
   "metadata": {},
   "outputs": [
    {
     "data": {
      "text/html": [
       "<div>\n",
       "<style scoped>\n",
       "    .dataframe tbody tr th:only-of-type {\n",
       "        vertical-align: middle;\n",
       "    }\n",
       "\n",
       "    .dataframe tbody tr th {\n",
       "        vertical-align: top;\n",
       "    }\n",
       "\n",
       "    .dataframe thead th {\n",
       "        text-align: right;\n",
       "    }\n",
       "</style>\n",
       "<table border=\"1\" class=\"dataframe\">\n",
       "  <thead>\n",
       "    <tr style=\"text-align: right;\">\n",
       "      <th></th>\n",
       "      <th>id_prod</th>\n",
       "      <th>date</th>\n",
       "      <th>session_id</th>\n",
       "      <th>client_id</th>\n",
       "      <th>sex</th>\n",
       "      <th>birth</th>\n",
       "      <th>age</th>\n",
       "      <th>price</th>\n",
       "      <th>categ</th>\n",
       "    </tr>\n",
       "  </thead>\n",
       "  <tbody>\n",
       "    <tr>\n",
       "      <th>2633</th>\n",
       "      <td>0_2245</td>\n",
       "      <td>2022-09-23 07:22:38.636773</td>\n",
       "      <td>s_272266</td>\n",
       "      <td>c_4746</td>\n",
       "      <td>m</td>\n",
       "      <td>1940</td>\n",
       "      <td>82</td>\n",
       "      <td>NaN</td>\n",
       "      <td>NaN</td>\n",
       "    </tr>\n",
       "    <tr>\n",
       "      <th>10103</th>\n",
       "      <td>0_2245</td>\n",
       "      <td>2022-07-23 09:24:14.133889</td>\n",
       "      <td>s_242482</td>\n",
       "      <td>c_6713</td>\n",
       "      <td>f</td>\n",
       "      <td>1963</td>\n",
       "      <td>59</td>\n",
       "      <td>NaN</td>\n",
       "      <td>NaN</td>\n",
       "    </tr>\n",
       "    <tr>\n",
       "      <th>11723</th>\n",
       "      <td>0_2245</td>\n",
       "      <td>2022-12-03 03:26:35.696673</td>\n",
       "      <td>s_306338</td>\n",
       "      <td>c_5108</td>\n",
       "      <td>m</td>\n",
       "      <td>1978</td>\n",
       "      <td>44</td>\n",
       "      <td>NaN</td>\n",
       "      <td>NaN</td>\n",
       "    </tr>\n",
       "    <tr>\n",
       "      <th>15670</th>\n",
       "      <td>0_2245</td>\n",
       "      <td>2021-08-16 11:33:25.481411</td>\n",
       "      <td>s_76493</td>\n",
       "      <td>c_1391</td>\n",
       "      <td>m</td>\n",
       "      <td>1991</td>\n",
       "      <td>31</td>\n",
       "      <td>NaN</td>\n",
       "      <td>NaN</td>\n",
       "    </tr>\n",
       "    <tr>\n",
       "      <th>16372</th>\n",
       "      <td>0_2245</td>\n",
       "      <td>2022-07-16 05:53:01.627491</td>\n",
       "      <td>s_239078</td>\n",
       "      <td>c_7954</td>\n",
       "      <td>m</td>\n",
       "      <td>1973</td>\n",
       "      <td>49</td>\n",
       "      <td>NaN</td>\n",
       "      <td>NaN</td>\n",
       "    </tr>\n",
       "    <tr>\n",
       "      <th>17392</th>\n",
       "      <td>0_2245</td>\n",
       "      <td>2023-01-21 18:39:25.649231</td>\n",
       "      <td>s_330241</td>\n",
       "      <td>c_6268</td>\n",
       "      <td>m</td>\n",
       "      <td>1991</td>\n",
       "      <td>31</td>\n",
       "      <td>NaN</td>\n",
       "      <td>NaN</td>\n",
       "    </tr>\n",
       "    <tr>\n",
       "      <th>20519</th>\n",
       "      <td>0_2245</td>\n",
       "      <td>2022-11-20 20:21:06.505658</td>\n",
       "      <td>s_300389</td>\n",
       "      <td>c_8524</td>\n",
       "      <td>f</td>\n",
       "      <td>1982</td>\n",
       "      <td>40</td>\n",
       "      <td>NaN</td>\n",
       "      <td>NaN</td>\n",
       "    </tr>\n",
       "    <tr>\n",
       "      <th>21337</th>\n",
       "      <td>0_2245</td>\n",
       "      <td>2021-10-20 13:11:05.671456</td>\n",
       "      <td>s_107564</td>\n",
       "      <td>c_1746</td>\n",
       "      <td>m</td>\n",
       "      <td>1994</td>\n",
       "      <td>28</td>\n",
       "      <td>NaN</td>\n",
       "      <td>NaN</td>\n",
       "    </tr>\n",
       "    <tr>\n",
       "      <th>21706</th>\n",
       "      <td>0_2245</td>\n",
       "      <td>2021-04-17 16:43:16.543156</td>\n",
       "      <td>s_21906</td>\n",
       "      <td>c_7808</td>\n",
       "      <td>m</td>\n",
       "      <td>1977</td>\n",
       "      <td>45</td>\n",
       "      <td>NaN</td>\n",
       "      <td>NaN</td>\n",
       "    </tr>\n",
       "    <tr>\n",
       "      <th>23840</th>\n",
       "      <td>0_2245</td>\n",
       "      <td>2022-02-28 18:08:49.875709</td>\n",
       "      <td>s_172304</td>\n",
       "      <td>c_4964</td>\n",
       "      <td>f</td>\n",
       "      <td>1982</td>\n",
       "      <td>40</td>\n",
       "      <td>NaN</td>\n",
       "      <td>NaN</td>\n",
       "    </tr>\n",
       "  </tbody>\n",
       "</table>\n",
       "</div>"
      ],
      "text/plain": [
       "      id_prod                        date session_id client_id sex  birth  \\\n",
       "2633   0_2245  2022-09-23 07:22:38.636773   s_272266    c_4746   m   1940   \n",
       "10103  0_2245  2022-07-23 09:24:14.133889   s_242482    c_6713   f   1963   \n",
       "11723  0_2245  2022-12-03 03:26:35.696673   s_306338    c_5108   m   1978   \n",
       "15670  0_2245  2021-08-16 11:33:25.481411    s_76493    c_1391   m   1991   \n",
       "16372  0_2245  2022-07-16 05:53:01.627491   s_239078    c_7954   m   1973   \n",
       "17392  0_2245  2023-01-21 18:39:25.649231   s_330241    c_6268   m   1991   \n",
       "20519  0_2245  2022-11-20 20:21:06.505658   s_300389    c_8524   f   1982   \n",
       "21337  0_2245  2021-10-20 13:11:05.671456   s_107564    c_1746   m   1994   \n",
       "21706  0_2245  2021-04-17 16:43:16.543156    s_21906    c_7808   m   1977   \n",
       "23840  0_2245  2022-02-28 18:08:49.875709   s_172304    c_4964   f   1982   \n",
       "\n",
       "       age  price  categ  \n",
       "2633    82    NaN    NaN  \n",
       "10103   59    NaN    NaN  \n",
       "11723   44    NaN    NaN  \n",
       "15670   31    NaN    NaN  \n",
       "16372   49    NaN    NaN  \n",
       "17392   31    NaN    NaN  \n",
       "20519   40    NaN    NaN  \n",
       "21337   28    NaN    NaN  \n",
       "21706   45    NaN    NaN  \n",
       "23840   40    NaN    NaN  "
      ]
     },
     "execution_count": 25,
     "metadata": {},
     "output_type": "execute_result"
    }
   ],
   "source": [
    "na.head(10)"
   ]
  },
  {
   "cell_type": "markdown",
   "id": "36d74ae8",
   "metadata": {},
   "source": [
    "*J'ai 221 nan pour un seul id_product qui est le 0_2245.*\n",
    "\n",
    "*J'aurai donc des transactions qui aurait été faites sur un produit n'ayant pas de prix, ni de catégorie.*"
   ]
  },
  {
   "cell_type": "code",
   "execution_count": 26,
   "id": "e6a6f99b",
   "metadata": {},
   "outputs": [
    {
     "data": {
      "text/html": [
       "<div>\n",
       "<style scoped>\n",
       "    .dataframe tbody tr th:only-of-type {\n",
       "        vertical-align: middle;\n",
       "    }\n",
       "\n",
       "    .dataframe tbody tr th {\n",
       "        vertical-align: top;\n",
       "    }\n",
       "\n",
       "    .dataframe thead th {\n",
       "        text-align: right;\n",
       "    }\n",
       "</style>\n",
       "<table border=\"1\" class=\"dataframe\">\n",
       "  <thead>\n",
       "    <tr style=\"text-align: right;\">\n",
       "      <th></th>\n",
       "      <th>id_prod</th>\n",
       "      <th>price</th>\n",
       "      <th>categ</th>\n",
       "    </tr>\n",
       "  </thead>\n",
       "  <tbody>\n",
       "  </tbody>\n",
       "</table>\n",
       "</div>"
      ],
      "text/plain": [
       "Empty DataFrame\n",
       "Columns: [id_prod, price, categ]\n",
       "Index: []"
      ]
     },
     "execution_count": 26,
     "metadata": {},
     "output_type": "execute_result"
    }
   ],
   "source": [
    "products[products[\"id_prod\"].str.contains(\"0_2245\")]"
   ]
  },
  {
   "cell_type": "code",
   "execution_count": 27,
   "id": "f70bb6c0",
   "metadata": {},
   "outputs": [
    {
     "data": {
      "text/html": [
       "<div>\n",
       "<style scoped>\n",
       "    .dataframe tbody tr th:only-of-type {\n",
       "        vertical-align: middle;\n",
       "    }\n",
       "\n",
       "    .dataframe tbody tr th {\n",
       "        vertical-align: top;\n",
       "    }\n",
       "\n",
       "    .dataframe thead th {\n",
       "        text-align: right;\n",
       "    }\n",
       "</style>\n",
       "<table border=\"1\" class=\"dataframe\">\n",
       "  <thead>\n",
       "    <tr style=\"text-align: right;\">\n",
       "      <th></th>\n",
       "      <th>id_prod</th>\n",
       "      <th>date</th>\n",
       "      <th>session_id</th>\n",
       "      <th>client_id</th>\n",
       "    </tr>\n",
       "  </thead>\n",
       "  <tbody>\n",
       "    <tr>\n",
       "      <th>2633</th>\n",
       "      <td>0_2245</td>\n",
       "      <td>2022-09-23 07:22:38.636773</td>\n",
       "      <td>s_272266</td>\n",
       "      <td>c_4746</td>\n",
       "    </tr>\n",
       "    <tr>\n",
       "      <th>10106</th>\n",
       "      <td>0_2245</td>\n",
       "      <td>2022-07-23 09:24:14.133889</td>\n",
       "      <td>s_242482</td>\n",
       "      <td>c_6713</td>\n",
       "    </tr>\n",
       "    <tr>\n",
       "      <th>11727</th>\n",
       "      <td>0_2245</td>\n",
       "      <td>2022-12-03 03:26:35.696673</td>\n",
       "      <td>s_306338</td>\n",
       "      <td>c_5108</td>\n",
       "    </tr>\n",
       "    <tr>\n",
       "      <th>15675</th>\n",
       "      <td>0_2245</td>\n",
       "      <td>2021-08-16 11:33:25.481411</td>\n",
       "      <td>s_76493</td>\n",
       "      <td>c_1391</td>\n",
       "    </tr>\n",
       "    <tr>\n",
       "      <th>16377</th>\n",
       "      <td>0_2245</td>\n",
       "      <td>2022-07-16 05:53:01.627491</td>\n",
       "      <td>s_239078</td>\n",
       "      <td>c_7954</td>\n",
       "    </tr>\n",
       "    <tr>\n",
       "      <th>...</th>\n",
       "      <td>...</td>\n",
       "      <td>...</td>\n",
       "      <td>...</td>\n",
       "      <td>...</td>\n",
       "    </tr>\n",
       "    <tr>\n",
       "      <th>669730</th>\n",
       "      <td>0_2245</td>\n",
       "      <td>2021-08-25 09:06:03.504061</td>\n",
       "      <td>s_80395</td>\n",
       "      <td>c_131</td>\n",
       "    </tr>\n",
       "    <tr>\n",
       "      <th>670682</th>\n",
       "      <td>0_2245</td>\n",
       "      <td>2022-03-06 19:59:19.462288</td>\n",
       "      <td>s_175311</td>\n",
       "      <td>c_4167</td>\n",
       "    </tr>\n",
       "    <tr>\n",
       "      <th>671286</th>\n",
       "      <td>0_2245</td>\n",
       "      <td>2022-05-16 11:35:20.319501</td>\n",
       "      <td>s_209381</td>\n",
       "      <td>c_4453</td>\n",
       "    </tr>\n",
       "    <tr>\n",
       "      <th>675679</th>\n",
       "      <td>0_2245</td>\n",
       "      <td>2022-02-11 09:05:43.952857</td>\n",
       "      <td>s_163405</td>\n",
       "      <td>c_1098</td>\n",
       "    </tr>\n",
       "    <tr>\n",
       "      <th>677996</th>\n",
       "      <td>0_2245</td>\n",
       "      <td>2021-12-14 22:34:54.589921</td>\n",
       "      <td>s_134446</td>\n",
       "      <td>c_4854</td>\n",
       "    </tr>\n",
       "  </tbody>\n",
       "</table>\n",
       "<p>221 rows × 4 columns</p>\n",
       "</div>"
      ],
      "text/plain": [
       "       id_prod                        date session_id client_id\n",
       "2633    0_2245  2022-09-23 07:22:38.636773   s_272266    c_4746\n",
       "10106   0_2245  2022-07-23 09:24:14.133889   s_242482    c_6713\n",
       "11727   0_2245  2022-12-03 03:26:35.696673   s_306338    c_5108\n",
       "15675   0_2245  2021-08-16 11:33:25.481411    s_76493    c_1391\n",
       "16377   0_2245  2022-07-16 05:53:01.627491   s_239078    c_7954\n",
       "...        ...                         ...        ...       ...\n",
       "669730  0_2245  2021-08-25 09:06:03.504061    s_80395     c_131\n",
       "670682  0_2245  2022-03-06 19:59:19.462288   s_175311    c_4167\n",
       "671286  0_2245  2022-05-16 11:35:20.319501   s_209381    c_4453\n",
       "675679  0_2245  2022-02-11 09:05:43.952857   s_163405    c_1098\n",
       "677996  0_2245  2021-12-14 22:34:54.589921   s_134446    c_4854\n",
       "\n",
       "[221 rows x 4 columns]"
      ]
     },
     "execution_count": 27,
     "metadata": {},
     "output_type": "execute_result"
    }
   ],
   "source": [
    "transactions[transactions[\"id_prod\"].str.contains(\"0_2245\")]"
   ]
  },
  {
   "cell_type": "markdown",
   "id": "388a02df",
   "metadata": {},
   "source": [
    "*Le produit ayant l'id_prod 0_2245, n'existe pas dans le dataset products.*\n",
    "\n",
    "*Mais on le retrouve dans le dataset transactions et donc dans le dataset df.*\n",
    "\n",
    "*Donc étant donné que des transactions existes pour l'id_prod 0_2242, il faudrait que je lui impute des valeurs, je vais dans un premier temps vérifier les distributions pour price et categ.*"
   ]
  },
  {
   "cell_type": "code",
   "execution_count": 28,
   "id": "08912d70",
   "metadata": {},
   "outputs": [
    {
     "data": {
      "text/plain": [
       "<AxesSubplot:xlabel='price', ylabel='Count'>"
      ]
     },
     "execution_count": 28,
     "metadata": {},
     "output_type": "execute_result"
    },
    {
     "data": {
      "image/png": "[encoded data removed]",
      "text/plain": [
       "<Figure size 432x288 with 1 Axes>"
      ]
     },
     "metadata": {
      "needs_background": "light"
     },
     "output_type": "display_data"
    }
   ],
   "source": [
    "sns.histplot(data=df, x=\"price\")"
   ]
  },
  {
   "cell_type": "code",
   "execution_count": 29,
   "id": "3ccd361d",
   "metadata": {},
   "outputs": [
    {
     "data": {
      "text/plain": [
       "<AxesSubplot:xlabel='price'>"
      ]
     },
     "execution_count": 29,
     "metadata": {},
     "output_type": "execute_result"
    },
    {
     "data": {
      "image/png": "[encoded data removed]",
      "text/plain": [
       "<Figure size 432x288 with 1 Axes>"
      ]
     },
     "metadata": {
      "needs_background": "light"
     },
     "output_type": "display_data"
    }
   ],
   "source": [
    "sns.boxplot(x = df[\"price\"])"
   ]
  },
  {
   "cell_type": "code",
   "execution_count": 30,
   "id": "f26a12ae",
   "metadata": {},
   "outputs": [
    {
     "data": {
      "text/plain": [
       "<AxesSubplot:xlabel='categ', ylabel='Count'>"
      ]
     },
     "execution_count": 30,
     "metadata": {},
     "output_type": "execute_result"
    },
    {
     "data": {
      "image/png": "[encoded data removed]",
      "text/plain": [
       "<Figure size 432x288 with 1 Axes>"
      ]
     },
     "metadata": {
      "needs_background": "light"
     },
     "output_type": "display_data"
    }
   ],
   "source": [
    "sns.histplot(data=df, x=\"categ\")"
   ]
  },
  {
   "cell_type": "markdown",
   "id": "e451701c",
   "metadata": {},
   "source": [
    "*Au vu de mes données je vais faire une imputation par la médiane pour la colonne \"price\" et une imputation par le mode pour la colonne \"categ\".*"
   ]
  },
  {
   "cell_type": "code",
   "execution_count": 31,
   "id": "33a8b9dd",
   "metadata": {},
   "outputs": [],
   "source": [
    "df['price'] = df['price'].fillna(df['price'].median())\n",
    "df['categ'] = df['categ'].fillna(df['categ'].mode()[0])"
   ]
  },
  {
   "cell_type": "code",
   "execution_count": 32,
   "id": "bf9e2931",
   "metadata": {},
   "outputs": [
    {
     "data": {
      "text/plain": [
       "id_prod       0.0\n",
       "date          0.0\n",
       "session_id    0.0\n",
       "client_id     0.0\n",
       "sex           0.0\n",
       "birth         0.0\n",
       "age           0.0\n",
       "price         0.0\n",
       "categ         0.0\n",
       "dtype: float64"
      ]
     },
     "execution_count": 32,
     "metadata": {},
     "output_type": "execute_result"
    }
   ],
   "source": [
    "df.isnull().sum()*100/len(df)"
   ]
  },
  {
   "cell_type": "code",
   "execution_count": 33,
   "id": "41f2d6da",
   "metadata": {},
   "outputs": [
    {
     "data": {
      "text/html": [
       "<div>\n",
       "<style scoped>\n",
       "    .dataframe tbody tr th:only-of-type {\n",
       "        vertical-align: middle;\n",
       "    }\n",
       "\n",
       "    .dataframe tbody tr th {\n",
       "        vertical-align: top;\n",
       "    }\n",
       "\n",
       "    .dataframe thead th {\n",
       "        text-align: right;\n",
       "    }\n",
       "</style>\n",
       "<table border=\"1\" class=\"dataframe\">\n",
       "  <thead>\n",
       "    <tr style=\"text-align: right;\">\n",
       "      <th></th>\n",
       "      <th>id_prod</th>\n",
       "      <th>date</th>\n",
       "      <th>session_id</th>\n",
       "      <th>client_id</th>\n",
       "      <th>sex</th>\n",
       "      <th>birth</th>\n",
       "      <th>age</th>\n",
       "      <th>price</th>\n",
       "      <th>categ</th>\n",
       "    </tr>\n",
       "  </thead>\n",
       "  <tbody>\n",
       "    <tr>\n",
       "      <th>0</th>\n",
       "      <td>0_1518</td>\n",
       "      <td>2022-05-20 13:21:29.043970</td>\n",
       "      <td>s_211425</td>\n",
       "      <td>c_103</td>\n",
       "      <td>f</td>\n",
       "      <td>1986</td>\n",
       "      <td>36</td>\n",
       "      <td>4.18</td>\n",
       "      <td>0.0</td>\n",
       "    </tr>\n",
       "    <tr>\n",
       "      <th>1</th>\n",
       "      <td>1_251</td>\n",
       "      <td>2022-02-02 07:55:19.149409</td>\n",
       "      <td>s_158752</td>\n",
       "      <td>c_8534</td>\n",
       "      <td>m</td>\n",
       "      <td>1988</td>\n",
       "      <td>34</td>\n",
       "      <td>15.99</td>\n",
       "      <td>1.0</td>\n",
       "    </tr>\n",
       "    <tr>\n",
       "      <th>2</th>\n",
       "      <td>0_1277</td>\n",
       "      <td>2022-06-18 15:44:33.155329</td>\n",
       "      <td>s_225667</td>\n",
       "      <td>c_6714</td>\n",
       "      <td>f</td>\n",
       "      <td>1968</td>\n",
       "      <td>54</td>\n",
       "      <td>7.99</td>\n",
       "      <td>0.0</td>\n",
       "    </tr>\n",
       "    <tr>\n",
       "      <th>3</th>\n",
       "      <td>2_209</td>\n",
       "      <td>2021-06-24 04:19:29.835891</td>\n",
       "      <td>s_52962</td>\n",
       "      <td>c_6941</td>\n",
       "      <td>m</td>\n",
       "      <td>2000</td>\n",
       "      <td>22</td>\n",
       "      <td>69.99</td>\n",
       "      <td>2.0</td>\n",
       "    </tr>\n",
       "    <tr>\n",
       "      <th>4</th>\n",
       "      <td>0_1509</td>\n",
       "      <td>2023-01-11 08:22:08.194479</td>\n",
       "      <td>s_325227</td>\n",
       "      <td>c_4232</td>\n",
       "      <td>m</td>\n",
       "      <td>1980</td>\n",
       "      <td>42</td>\n",
       "      <td>4.99</td>\n",
       "      <td>0.0</td>\n",
       "    </tr>\n",
       "  </tbody>\n",
       "</table>\n",
       "</div>"
      ],
      "text/plain": [
       "  id_prod                        date session_id client_id sex  birth  age  \\\n",
       "0  0_1518  2022-05-20 13:21:29.043970   s_211425     c_103   f   1986   36   \n",
       "1   1_251  2022-02-02 07:55:19.149409   s_158752    c_8534   m   1988   34   \n",
       "2  0_1277  2022-06-18 15:44:33.155329   s_225667    c_6714   f   1968   54   \n",
       "3   2_209  2021-06-24 04:19:29.835891    s_52962    c_6941   m   2000   22   \n",
       "4  0_1509  2023-01-11 08:22:08.194479   s_325227    c_4232   m   1980   42   \n",
       "\n",
       "   price  categ  \n",
       "0   4.18    0.0  \n",
       "1  15.99    1.0  \n",
       "2   7.99    0.0  \n",
       "3  69.99    2.0  \n",
       "4   4.99    0.0  "
      ]
     },
     "execution_count": 33,
     "metadata": {},
     "output_type": "execute_result"
    }
   ],
   "source": [
    "df.head()"
   ]
  },
  {
   "cell_type": "code",
   "execution_count": 34,
   "id": "8ef0a3ae",
   "metadata": {},
   "outputs": [
    {
     "data": {
      "text/plain": [
       "(679332, 9)"
      ]
     },
     "execution_count": 34,
     "metadata": {},
     "output_type": "execute_result"
    }
   ],
   "source": [
    "df.shape"
   ]
  },
  {
   "cell_type": "markdown",
   "id": "2dc67a2e",
   "metadata": {},
   "source": [
    "***"
   ]
  },
  {
   "cell_type": "markdown",
   "id": "c03db313",
   "metadata": {},
   "source": [
    "***"
   ]
  },
  {
   "cell_type": "markdown",
   "id": "febd190d",
   "metadata": {},
   "source": [
    "## <center>Découpage des dates</center>"
   ]
  },
  {
   "cell_type": "code",
   "execution_count": 35,
   "id": "259f992a",
   "metadata": {},
   "outputs": [],
   "source": [
    "df[\"hours\"] = pd.to_datetime(df[\"date\"]).dt.hour\n",
    "df[\"minutes\"] = pd.to_datetime(df[\"date\"]).dt.minute\n",
    "df[\"day\"] = pd.to_datetime(df[\"date\"]).dt.day\n",
    "df[\"month\"] = pd.to_datetime(df[\"date\"]).dt.month\n",
    "df[\"year\"] = pd.to_datetime(df[\"date\"]).dt.year\n",
    "\n",
    "df[\"date\"]= pd.to_datetime(df[\"date\"])"
   ]
  },
  {
   "cell_type": "code",
   "execution_count": 36,
   "id": "13db15a3",
   "metadata": {},
   "outputs": [
    {
     "data": {
      "text/html": [
       "<div>\n",
       "<style scoped>\n",
       "    .dataframe tbody tr th:only-of-type {\n",
       "        vertical-align: middle;\n",
       "    }\n",
       "\n",
       "    .dataframe tbody tr th {\n",
       "        vertical-align: top;\n",
       "    }\n",
       "\n",
       "    .dataframe thead th {\n",
       "        text-align: right;\n",
       "    }\n",
       "</style>\n",
       "<table border=\"1\" class=\"dataframe\">\n",
       "  <thead>\n",
       "    <tr style=\"text-align: right;\">\n",
       "      <th></th>\n",
       "      <th>id_prod</th>\n",
       "      <th>date</th>\n",
       "      <th>session_id</th>\n",
       "      <th>client_id</th>\n",
       "      <th>sex</th>\n",
       "      <th>birth</th>\n",
       "      <th>age</th>\n",
       "      <th>price</th>\n",
       "      <th>categ</th>\n",
       "      <th>hours</th>\n",
       "      <th>minutes</th>\n",
       "      <th>day</th>\n",
       "      <th>month</th>\n",
       "      <th>year</th>\n",
       "    </tr>\n",
       "  </thead>\n",
       "  <tbody>\n",
       "    <tr>\n",
       "      <th>0</th>\n",
       "      <td>0_1518</td>\n",
       "      <td>2022-05-20 13:21:29.043970</td>\n",
       "      <td>s_211425</td>\n",
       "      <td>c_103</td>\n",
       "      <td>f</td>\n",
       "      <td>1986</td>\n",
       "      <td>36</td>\n",
       "      <td>4.18</td>\n",
       "      <td>0.0</td>\n",
       "      <td>13</td>\n",
       "      <td>21</td>\n",
       "      <td>20</td>\n",
       "      <td>5</td>\n",
       "      <td>2022</td>\n",
       "    </tr>\n",
       "    <tr>\n",
       "      <th>1</th>\n",
       "      <td>1_251</td>\n",
       "      <td>2022-02-02 07:55:19.149409</td>\n",
       "      <td>s_158752</td>\n",
       "      <td>c_8534</td>\n",
       "      <td>m</td>\n",
       "      <td>1988</td>\n",
       "      <td>34</td>\n",
       "      <td>15.99</td>\n",
       "      <td>1.0</td>\n",
       "      <td>7</td>\n",
       "      <td>55</td>\n",
       "      <td>2</td>\n",
       "      <td>2</td>\n",
       "      <td>2022</td>\n",
       "    </tr>\n",
       "    <tr>\n",
       "      <th>2</th>\n",
       "      <td>0_1277</td>\n",
       "      <td>2022-06-18 15:44:33.155329</td>\n",
       "      <td>s_225667</td>\n",
       "      <td>c_6714</td>\n",
       "      <td>f</td>\n",
       "      <td>1968</td>\n",
       "      <td>54</td>\n",
       "      <td>7.99</td>\n",
       "      <td>0.0</td>\n",
       "      <td>15</td>\n",
       "      <td>44</td>\n",
       "      <td>18</td>\n",
       "      <td>6</td>\n",
       "      <td>2022</td>\n",
       "    </tr>\n",
       "    <tr>\n",
       "      <th>3</th>\n",
       "      <td>2_209</td>\n",
       "      <td>2021-06-24 04:19:29.835891</td>\n",
       "      <td>s_52962</td>\n",
       "      <td>c_6941</td>\n",
       "      <td>m</td>\n",
       "      <td>2000</td>\n",
       "      <td>22</td>\n",
       "      <td>69.99</td>\n",
       "      <td>2.0</td>\n",
       "      <td>4</td>\n",
       "      <td>19</td>\n",
       "      <td>24</td>\n",
       "      <td>6</td>\n",
       "      <td>2021</td>\n",
       "    </tr>\n",
       "    <tr>\n",
       "      <th>4</th>\n",
       "      <td>0_1509</td>\n",
       "      <td>2023-01-11 08:22:08.194479</td>\n",
       "      <td>s_325227</td>\n",
       "      <td>c_4232</td>\n",
       "      <td>m</td>\n",
       "      <td>1980</td>\n",
       "      <td>42</td>\n",
       "      <td>4.99</td>\n",
       "      <td>0.0</td>\n",
       "      <td>8</td>\n",
       "      <td>22</td>\n",
       "      <td>11</td>\n",
       "      <td>1</td>\n",
       "      <td>2023</td>\n",
       "    </tr>\n",
       "  </tbody>\n",
       "</table>\n",
       "</div>"
      ],
      "text/plain": [
       "  id_prod                       date session_id client_id sex  birth  age  \\\n",
       "0  0_1518 2022-05-20 13:21:29.043970   s_211425     c_103   f   1986   36   \n",
       "1   1_251 2022-02-02 07:55:19.149409   s_158752    c_8534   m   1988   34   \n",
       "2  0_1277 2022-06-18 15:44:33.155329   s_225667    c_6714   f   1968   54   \n",
       "3   2_209 2021-06-24 04:19:29.835891    s_52962    c_6941   m   2000   22   \n",
       "4  0_1509 2023-01-11 08:22:08.194479   s_325227    c_4232   m   1980   42   \n",
       "\n",
       "   price  categ  hours  minutes  day  month  year  \n",
       "0   4.18    0.0     13       21   20      5  2022  \n",
       "1  15.99    1.0      7       55    2      2  2022  \n",
       "2   7.99    0.0     15       44   18      6  2022  \n",
       "3  69.99    2.0      4       19   24      6  2021  \n",
       "4   4.99    0.0      8       22   11      1  2023  "
      ]
     },
     "execution_count": 36,
     "metadata": {},
     "output_type": "execute_result"
    }
   ],
   "source": [
    "df.head()"
   ]
  },
  {
   "cell_type": "markdown",
   "id": "c38478ad",
   "metadata": {},
   "source": [
    "***"
   ]
  },
  {
   "cell_type": "markdown",
   "id": "711ce1b2",
   "metadata": {},
   "source": [
    "***"
   ]
  },
  {
   "cell_type": "markdown",
   "id": "334dd6d7",
   "metadata": {},
   "source": [
    "***Sauvegarde des modifications apportées au dataset***"
   ]
  },
  {
   "cell_type": "code",
   "execution_count": 37,
   "id": "a9762198",
   "metadata": {},
   "outputs": [],
   "source": [
    "df.to_csv('df.csv')"
   ]
  },
  {
   "cell_type": "code",
   "execution_count": null,
   "id": "d8eb4d29",
   "metadata": {},
   "outputs": [],
   "source": []
  }
 ],
 "metadata": {
  "kernelspec": {
   "display_name": "Python 3 (ipykernel)",
   "language": "python",
   "name": "python3"
  },
  "language_info": {
   "codemirror_mode": {
    "name": "ipython",
    "version": 3
   },
   "file_extension": ".py",
   "mimetype": "text/x-python",
   "name": "python",
   "nbconvert_exporter": "python",
   "pygments_lexer": "ipython3",
   "version": "3.9.12"
  },
  "latex_envs": {
   "LaTeX_envs_menu_present": true,
   "autoclose": false,
   "autocomplete": true,
   "bibliofile": "biblio.bib",
   "cite_by": "apalike",
   "current_citInitial": 1,
   "eqLabelWithNumbers": true,
   "eqNumInitial": 1,
   "hotkeys": {
    "equation": "Ctrl-E",
    "itemize": "Ctrl-I"
   },
   "labels_anchors": false,
   "latex_user_defs": false,
   "report_style_numbering": false,
   "user_envs_cfg": false
  }
 },
 "nbformat": 4,
 "nbformat_minor": 5
}
