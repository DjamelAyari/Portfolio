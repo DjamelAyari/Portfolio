{
 "cells": [
  {
   "cell_type": "markdown",
   "id": "a6e071ce",
   "metadata": {},
   "source": [
    "# <center>Analyse des ventes d'une librairie</center>\n",
    "\n",
    "# <center>Demandes d'Antoine --> Analyse des différents indicateurs de vente</center>\n",
    "\n",
    "*Antoine indique dans son mail:*\n",
    "\n",
    "*Dans un premier temps, je vais avoir besoin de différents indicateurs et graphiques autour du chiffre d'affaires.*\n",
    "\n",
    "*Peux-tu également regarder l’évolution dans le temps et mettre en place une décomposition en moyenne mobile pour évaluer la tendance globale ?*\n",
    "\n",
    "*l serait également intéressant de faire un zoom sur les références, pour voir un peu les tops et les flops, la répartition par catégorie, etc.*\n",
    "\n",
    "*Enfin, j’aimerais avoir quelques informations sur les profils de nos clients, et également la répartition du chiffre d'affaires entre eux, via par exemple une courbe de Lorenz.*\n",
    "\n",
    "*Après, toutes les informations et tous graphiques qui apporteraient de l’information pertinente sont les bienvenus !*"
   ]
  },
  {
   "cell_type": "markdown",
   "id": "a4fa5c18",
   "metadata": {},
   "source": [
    "## Importation des librairies"
   ]
  },
  {
   "cell_type": "code",
   "execution_count": 1,
   "id": "68d7918f",
   "metadata": {},
   "outputs": [],
   "source": [
    "import pandas as pd\n",
    "import numpy as  np\n",
    "import matplotlib.pyplot as plt\n",
    "import seaborn as sns"
   ]
  },
  {
   "cell_type": "markdown",
   "id": "f234b59e",
   "metadata": {},
   "source": [
    "## Importation des dataset"
   ]
  },
  {
   "cell_type": "code",
   "execution_count": 2,
   "id": "1e608519",
   "metadata": {},
   "outputs": [],
   "source": [
    "customers_bis = pd.read_csv(\"customers_bis.csv\")\n",
    "\n",
    "products = pd.read_csv(\"products.csv\")\n",
    "\n",
    "transactions = pd.read_csv(\"transactions.csv\")\n",
    "\n",
    "df = pd.read_csv(\"df.csv\")"
   ]
  },
  {
   "cell_type": "code",
   "execution_count": 3,
   "id": "76ce0767",
   "metadata": {},
   "outputs": [],
   "source": [
    "df.drop(['Unnamed: 0'], axis = 1, inplace = True)"
   ]
  },
  {
   "cell_type": "markdown",
   "id": "3e20348f",
   "metadata": {},
   "source": [
    "***"
   ]
  },
  {
   "cell_type": "markdown",
   "id": "8b0d9e2e",
   "metadata": {},
   "source": [
    "***"
   ]
  },
  {
   "cell_type": "markdown",
   "id": "8dc47e6d",
   "metadata": {},
   "source": [
    "## <center>Différents indicateurs et graphiques autour du chiffre d'affaires.</center>"
   ]
  },
  {
   "cell_type": "code",
   "execution_count": 4,
   "id": "c332fca6",
   "metadata": {},
   "outputs": [],
   "source": [
    "dfcopy = df.copy()"
   ]
  },
  {
   "cell_type": "code",
   "execution_count": 5,
   "id": "d2d10cc6",
   "metadata": {},
   "outputs": [
    {
     "data": {
      "text/plain": [
       "11856820.47"
      ]
     },
     "execution_count": 5,
     "metadata": {},
     "output_type": "execute_result"
    }
   ],
   "source": [
    "dfcopy[\"price\"].sum()"
   ]
  },
  {
   "cell_type": "code",
   "execution_count": 6,
   "id": "14483aab",
   "metadata": {},
   "outputs": [],
   "source": [
    "ca_categ = pd.crosstab(dfcopy['price'].sum(), dfcopy['categ'], dfcopy[\"price\"], aggfunc = \"sum\")"
   ]
  },
  {
   "cell_type": "code",
   "execution_count": 7,
   "id": "a16aa5ca",
   "metadata": {},
   "outputs": [
    {
     "data": {
      "text/html": [
       "<div>\n",
       "<style scoped>\n",
       "    .dataframe tbody tr th:only-of-type {\n",
       "        vertical-align: middle;\n",
       "    }\n",
       "\n",
       "    .dataframe tbody tr th {\n",
       "        vertical-align: top;\n",
       "    }\n",
       "\n",
       "    .dataframe thead th {\n",
       "        text-align: right;\n",
       "    }\n",
       "</style>\n",
       "<table border=\"1\" class=\"dataframe\">\n",
       "  <thead>\n",
       "    <tr style=\"text-align: right;\">\n",
       "      <th>categ</th>\n",
       "      <th>0.0</th>\n",
       "      <th>1.0</th>\n",
       "      <th>2.0</th>\n",
       "    </tr>\n",
       "    <tr>\n",
       "      <th>row_0</th>\n",
       "      <th></th>\n",
       "      <th></th>\n",
       "      <th></th>\n",
       "    </tr>\n",
       "  </thead>\n",
       "  <tbody>\n",
       "    <tr>\n",
       "      <th>11856820.47</th>\n",
       "      <td>4422822.76</td>\n",
       "      <td>4653722.69</td>\n",
       "      <td>2780275.02</td>\n",
       "    </tr>\n",
       "  </tbody>\n",
       "</table>\n",
       "</div>"
      ],
      "text/plain": [
       "categ               0.0         1.0         2.0\n",
       "row_0                                          \n",
       "11856820.47  4422822.76  4653722.69  2780275.02"
      ]
     },
     "execution_count": 7,
     "metadata": {},
     "output_type": "execute_result"
    }
   ],
   "source": [
    "ca_categ"
   ]
  },
  {
   "cell_type": "code",
   "execution_count": 8,
   "id": "9893128b",
   "metadata": {},
   "outputs": [
    {
     "data": {
      "text/plain": [
       "<AxesSubplot:xlabel='categ'>"
      ]
     },
     "execution_count": 8,
     "metadata": {},
     "output_type": "execute_result"
    },
    {
     "data": {
      "image/png": "[encoded data removed]",
      "text/plain": [
       "<Figure size 432x288 with 1 Axes>"
      ]
     },
     "metadata": {
      "needs_background": "light"
     },
     "output_type": "display_data"
    }
   ],
   "source": [
    "sns.barplot(data=ca_categ)"
   ]
  },
  {
   "cell_type": "code",
   "execution_count": 9,
   "id": "1084f8eb",
   "metadata": {},
   "outputs": [],
   "source": [
    "ca_sex = pd.crosstab(dfcopy['price'].sum(), dfcopy['sex'], dfcopy[\"price\"], aggfunc = \"sum\")"
   ]
  },
  {
   "cell_type": "code",
   "execution_count": 10,
   "id": "46d5a511",
   "metadata": {},
   "outputs": [
    {
     "data": {
      "text/html": [
       "<div>\n",
       "<style scoped>\n",
       "    .dataframe tbody tr th:only-of-type {\n",
       "        vertical-align: middle;\n",
       "    }\n",
       "\n",
       "    .dataframe tbody tr th {\n",
       "        vertical-align: top;\n",
       "    }\n",
       "\n",
       "    .dataframe thead th {\n",
       "        text-align: right;\n",
       "    }\n",
       "</style>\n",
       "<table border=\"1\" class=\"dataframe\">\n",
       "  <thead>\n",
       "    <tr style=\"text-align: right;\">\n",
       "      <th>sex</th>\n",
       "      <th>f</th>\n",
       "      <th>m</th>\n",
       "    </tr>\n",
       "    <tr>\n",
       "      <th>row_0</th>\n",
       "      <th></th>\n",
       "      <th></th>\n",
       "    </tr>\n",
       "  </thead>\n",
       "  <tbody>\n",
       "    <tr>\n",
       "      <th>11856820.47</th>\n",
       "      <td>5861319.96</td>\n",
       "      <td>5995500.51</td>\n",
       "    </tr>\n",
       "  </tbody>\n",
       "</table>\n",
       "</div>"
      ],
      "text/plain": [
       "sex                   f           m\n",
       "row_0                              \n",
       "11856820.47  5861319.96  5995500.51"
      ]
     },
     "execution_count": 10,
     "metadata": {},
     "output_type": "execute_result"
    }
   ],
   "source": [
    "ca_sex"
   ]
  },
  {
   "cell_type": "code",
   "execution_count": 11,
   "id": "e302d64b",
   "metadata": {},
   "outputs": [
    {
     "data": {
      "text/plain": [
       "<AxesSubplot:xlabel='sex'>"
      ]
     },
     "execution_count": 11,
     "metadata": {},
     "output_type": "execute_result"
    },
    {
     "data": {
      "image/png": "[encoded data removed]",
      "text/plain": [
       "<Figure size 432x288 with 1 Axes>"
      ]
     },
     "metadata": {
      "needs_background": "light"
     },
     "output_type": "display_data"
    }
   ],
   "source": [
    "sns.barplot(data=ca_sex)"
   ]
  },
  {
   "cell_type": "code",
   "execution_count": 12,
   "id": "b102c70c",
   "metadata": {},
   "outputs": [
    {
     "data": {
      "text/plain": [
       "<seaborn.axisgrid.FacetGrid at 0x20b9d36ad90>"
      ]
     },
     "execution_count": 12,
     "metadata": {},
     "output_type": "execute_result"
    },
    {
     "data": {
      "image/png": "[encoded data removed]",
      "text/plain": [
       "<Figure size 360x360 with 1 Axes>"
      ]
     },
     "metadata": {
      "needs_background": "light"
     },
     "output_type": "display_data"
    }
   ],
   "source": [
    "sns.displot(data=df, x=\"age\", kde=True)"
   ]
  },
  {
   "cell_type": "code",
   "execution_count": 13,
   "id": "0a40dd98",
   "metadata": {},
   "outputs": [
    {
     "data": {
      "text/plain": [
       "42    47413\n",
       "34    25005\n",
       "43    24893\n",
       "44    24677\n",
       "36    23475\n",
       "      ...  \n",
       "90      311\n",
       "87      272\n",
       "92      226\n",
       "93      201\n",
       "91      170\n",
       "Name: age, Length: 76, dtype: int64"
      ]
     },
     "execution_count": 13,
     "metadata": {},
     "output_type": "execute_result"
    }
   ],
   "source": [
    "df[\"age\"].value_counts()"
   ]
  },
  {
   "cell_type": "code",
   "execution_count": 14,
   "id": "d6f9445d",
   "metadata": {},
   "outputs": [],
   "source": [
    "def age_range(age):\n",
    "    step = [\n",
    "        {'range': (17,25), 'val': '17-25'},\n",
    "        {'range': (26,30), 'val': '26-30'},\n",
    "        {'range': (31,40), 'val': '31-40'},\n",
    "        {'range': (41,50),'val': '41-50'},\n",
    "        {'range': (51,60),'val': '51-60'},\n",
    "        {'range': (61,70),'val': '61-70'},\n",
    "        {'range': (71,80),'val': '71-80'},\n",
    "        {'range': (81,93),'val': '81-93'}]\n",
    "\n",
    "    for i in step:\n",
    "        if i['range'][0] <= age <= i['range'][1]:\n",
    "            return i['val']\n",
    "\n",
    "df['ages_range'] = df['age'].apply(age_range)"
   ]
  },
  {
   "cell_type": "code",
   "execution_count": 15,
   "id": "6fb74372",
   "metadata": {},
   "outputs": [],
   "source": [
    "dfcopy = df.copy()"
   ]
  },
  {
   "cell_type": "code",
   "execution_count": 16,
   "id": "c3f8bee4",
   "metadata": {},
   "outputs": [],
   "source": [
    "ca_ages_range = pd.crosstab(dfcopy['price'].sum(), dfcopy['ages_range'], dfcopy[\"price\"], aggfunc = \"sum\")"
   ]
  },
  {
   "cell_type": "code",
   "execution_count": 17,
   "id": "c01947e3",
   "metadata": {},
   "outputs": [
    {
     "data": {
      "text/html": [
       "<div>\n",
       "<style scoped>\n",
       "    .dataframe tbody tr th:only-of-type {\n",
       "        vertical-align: middle;\n",
       "    }\n",
       "\n",
       "    .dataframe tbody tr th {\n",
       "        vertical-align: top;\n",
       "    }\n",
       "\n",
       "    .dataframe thead th {\n",
       "        text-align: right;\n",
       "    }\n",
       "</style>\n",
       "<table border=\"1\" class=\"dataframe\">\n",
       "  <thead>\n",
       "    <tr style=\"text-align: right;\">\n",
       "      <th>ages_range</th>\n",
       "      <th>17-25</th>\n",
       "      <th>26-30</th>\n",
       "      <th>31-40</th>\n",
       "      <th>41-50</th>\n",
       "      <th>51-60</th>\n",
       "      <th>61-70</th>\n",
       "      <th>71-80</th>\n",
       "      <th>81-93</th>\n",
       "    </tr>\n",
       "    <tr>\n",
       "      <th>row_0</th>\n",
       "      <th></th>\n",
       "      <th></th>\n",
       "      <th></th>\n",
       "      <th></th>\n",
       "      <th></th>\n",
       "      <th></th>\n",
       "      <th></th>\n",
       "      <th></th>\n",
       "    </tr>\n",
       "  </thead>\n",
       "  <tbody>\n",
       "    <tr>\n",
       "      <th>11856820.47</th>\n",
       "      <td>2190922.55</td>\n",
       "      <td>1103999.59</td>\n",
       "      <td>2600436.01</td>\n",
       "      <td>2938799.87</td>\n",
       "      <td>1614365.51</td>\n",
       "      <td>892219.99</td>\n",
       "      <td>359283.61</td>\n",
       "      <td>156793.34</td>\n",
       "    </tr>\n",
       "  </tbody>\n",
       "</table>\n",
       "</div>"
      ],
      "text/plain": [
       "ages_range        17-25       26-30       31-40       41-50       51-60  \\\n",
       "row_0                                                                     \n",
       "11856820.47  2190922.55  1103999.59  2600436.01  2938799.87  1614365.51   \n",
       "\n",
       "ages_range       61-70      71-80      81-93  \n",
       "row_0                                         \n",
       "11856820.47  892219.99  359283.61  156793.34  "
      ]
     },
     "execution_count": 17,
     "metadata": {},
     "output_type": "execute_result"
    }
   ],
   "source": [
    "ca_ages_range"
   ]
  },
  {
   "cell_type": "code",
   "execution_count": 18,
   "id": "43d21eca",
   "metadata": {},
   "outputs": [
    {
     "data": {
      "text/plain": [
       "<AxesSubplot:xlabel='ages_range'>"
      ]
     },
     "execution_count": 18,
     "metadata": {},
     "output_type": "execute_result"
    },
    {
     "data": {
      "image/png": "[encoded data removed]",
      "text/plain": [
       "<Figure size 432x288 with 1 Axes>"
      ]
     },
     "metadata": {
      "needs_background": "light"
     },
     "output_type": "display_data"
    }
   ],
   "source": [
    "sns.barplot(data=ca_ages_range)"
   ]
  },
  {
   "cell_type": "markdown",
   "id": "3f8e38da",
   "metadata": {},
   "source": [
    "#### *RECAP*\n",
    "\n",
    "#### *Le CA total est de 11 856 820.47 €.*\n",
    "#### *La catégorie qui a la plus grande part du CA est la 1 ensuite la 0 et enfin la 2.*\n",
    "#### *Les hommes représente une plus grande part du CA que les femmes mais la différence est petite.*\n",
    "#### *Les 41-50 et les 31-40 représente la plus grande part du CA, suivit des 17-25.*"
   ]
  },
  {
   "cell_type": "markdown",
   "id": "67da83f3",
   "metadata": {},
   "source": [
    "***"
   ]
  },
  {
   "cell_type": "markdown",
   "id": "c5fd0ea9",
   "metadata": {},
   "source": [
    "***"
   ]
  },
  {
   "cell_type": "markdown",
   "id": "c880b435",
   "metadata": {},
   "source": [
    "## <center>Evolution dans le temps du CA + Décomposition en moyenne mobile pour évaluer la tendence globale.</center>"
   ]
  },
  {
   "cell_type": "code",
   "execution_count": 19,
   "id": "0e03dfc4",
   "metadata": {},
   "outputs": [
    {
     "data": {
      "text/plain": [
       "DatetimeIndex(['2022-05-20 13:21:29.043970', '2022-02-02 07:55:19.149409',\n",
       "               '2022-06-18 15:44:33.155329', '2021-06-24 04:19:29.835891',\n",
       "               '2023-01-11 08:22:08.194479', '2022-10-20 15:59:16.084030',\n",
       "               '2022-06-03 04:45:09.871601', '2021-06-26 14:48:55.311418',\n",
       "               '2022-12-27 12:27:40.641366', '2021-11-29 15:54:25.880121',\n",
       "               ...\n",
       "               '2023-01-22 22:16:26.075669', '2022-01-30 06:17:15.265379',\n",
       "               '2021-10-08 07:55:52.347300', '2022-12-14 13:18:29.143723',\n",
       "               '2022-03-18 21:34:28.596252', '2022-01-15 13:05:06.246925',\n",
       "               '2022-03-19 16:03:23.429229', '2022-12-20 04:33:37.584749',\n",
       "               '2021-07-16 20:36:35.350579', '2022-09-28 01:12:01.973763'],\n",
       "              dtype='datetime64[ns]', name='date', length=679332, freq=None)"
      ]
     },
     "execution_count": 19,
     "metadata": {},
     "output_type": "execute_result"
    }
   ],
   "source": [
    "# Creation du dataframe comprennant juste les dates et les prix.\n",
    "df[\"date\"]= pd.to_datetime(df[\"date\"])\n",
    "dp = df.copy()\n",
    "dpbis = df.copy()\n",
    "dp.drop([\"id_prod\", \"session_id\", \"client_id\", \"sex\", \"birth\", \"categ\", \"hours\", \"minutes\", \"day\", \"month\", \"year\", \"age\", \"ages_range\"], axis = 1, inplace = True)\n",
    "dpbis.drop([\"id_prod\", \"session_id\", \"client_id\", \"sex\", \"birth\", \"categ\", \"hours\", \"minutes\", \"day\", \"month\", \"year\", \"age\"], axis = 1, inplace = True)\n",
    "# Colonne \"date\" transformé en index (cela permet de faire de la timeseries analysis).\n",
    "dp = dp.set_index('date')\n",
    "dpbis = dpbis.set_index('date')\n",
    "dp.index"
   ]
  },
  {
   "cell_type": "markdown",
   "id": "36418ba7",
   "metadata": {},
   "source": [
    "### Evolution du CA par années"
   ]
  },
  {
   "cell_type": "code",
   "execution_count": 20,
   "id": "6bd41050",
   "metadata": {},
   "outputs": [
    {
     "data": {
      "text/plain": [
       "[Text(0, 0, '2021'), Text(1, 0, '2022'), Text(2, 0, '2023')]"
      ]
     },
     "execution_count": 20,
     "metadata": {},
     "output_type": "execute_result"
    },
    {
     "data": {
      "image/png": "[encoded data removed]",
      "text/plain": [
       "<Figure size 432x288 with 1 Axes>"
      ]
     },
     "metadata": {
      "needs_background": "light"
     },
     "output_type": "display_data"
    }
   ],
   "source": [
    "year = dp.resample(\"Y\").sum().plot(kind = \"bar\")\n",
    "for bar in year.patches:\n",
    "    year.annotate(format(bar.get_height(), '.2f'),\n",
    "                       (bar.get_x() + bar.get_width() / 2,\n",
    "                        bar.get_height()), ha='center', va='center',\n",
    "                       size=15, xytext=(0, 8),\n",
    "                       textcoords='offset points')\n",
    "year.set_xlabel('Year')\n",
    "year.set_ylabel('Sum')\n",
    "year.set_title(\"CA REALISES PAR ANNEES\")\n",
    "year.set_xticklabels([\"2021\",\"2022\",\"2023\"])"
   ]
  },
  {
   "cell_type": "markdown",
   "id": "9ef36c9a",
   "metadata": {},
   "source": [
    "### Evolution du CA à travers les trimestres"
   ]
  },
  {
   "cell_type": "code",
   "execution_count": 21,
   "id": "06dfd2a4",
   "metadata": {},
   "outputs": [
    {
     "data": {
      "image/png": "[encoded data removed]",
      "text/plain": [
       "<Figure size 432x288 with 1 Axes>"
      ]
     },
     "metadata": {
      "needs_background": "light"
     },
     "output_type": "display_data"
    }
   ],
   "source": [
    "quarter = dp.resample(\"Q\").sum().plot(kind = \"line\")"
   ]
  },
  {
   "cell_type": "code",
   "execution_count": 22,
   "id": "8af2086b",
   "metadata": {},
   "outputs": [
    {
     "data": {
      "text/plain": [
       "<AxesSubplot:xlabel='date'>"
      ]
     },
     "execution_count": 22,
     "metadata": {},
     "output_type": "execute_result"
    },
    {
     "data": {
      "image/png": "[encoded data removed]",
      "text/plain": [
       "<Figure size 432x288 with 1 Axes>"
      ]
     },
     "metadata": {
      "needs_background": "light"
     },
     "output_type": "display_data"
    }
   ],
   "source": [
    "q = dp.resample(\"Q\").sum()\n",
    "rq = q.rolling(window = 2, center = True).mean()\n",
    "sns.lineplot(data = q, palette=['b'], label = \"Trimestre\")\n",
    "sns.lineplot(data = rq, palette=['r'], label = \"Moving Average\")"
   ]
  },
  {
   "cell_type": "markdown",
   "id": "4d781195",
   "metadata": {},
   "source": [
    "### Evolution du CA à travers les mois"
   ]
  },
  {
   "cell_type": "code",
   "execution_count": 23,
   "id": "305b603b",
   "metadata": {},
   "outputs": [],
   "source": [
    "year_month_amount = pd.crosstab(dfcopy.month, dfcopy.year, values = dfcopy.price, aggfunc = \"sum\")"
   ]
  },
  {
   "cell_type": "code",
   "execution_count": 24,
   "id": "bac4e046",
   "metadata": {},
   "outputs": [
    {
     "data": {
      "text/html": [
       "<div>\n",
       "<style scoped>\n",
       "    .dataframe tbody tr th:only-of-type {\n",
       "        vertical-align: middle;\n",
       "    }\n",
       "\n",
       "    .dataframe tbody tr th {\n",
       "        vertical-align: top;\n",
       "    }\n",
       "\n",
       "    .dataframe thead th {\n",
       "        text-align: right;\n",
       "    }\n",
       "</style>\n",
       "<table border=\"1\" class=\"dataframe\">\n",
       "  <thead>\n",
       "    <tr style=\"text-align: right;\">\n",
       "      <th>year</th>\n",
       "      <th>2021</th>\n",
       "      <th>2022</th>\n",
       "      <th>2023</th>\n",
       "    </tr>\n",
       "    <tr>\n",
       "      <th>month</th>\n",
       "      <th></th>\n",
       "      <th></th>\n",
       "      <th></th>\n",
       "    </tr>\n",
       "  </thead>\n",
       "  <tbody>\n",
       "    <tr>\n",
       "      <th>1</th>\n",
       "      <td>NaN</td>\n",
       "      <td>525408.94</td>\n",
       "      <td>517638.48</td>\n",
       "    </tr>\n",
       "    <tr>\n",
       "      <th>2</th>\n",
       "      <td>NaN</td>\n",
       "      <td>535725.39</td>\n",
       "      <td>456777.69</td>\n",
       "    </tr>\n",
       "    <tr>\n",
       "      <th>3</th>\n",
       "      <td>482566.52</td>\n",
       "      <td>515610.42</td>\n",
       "      <td>NaN</td>\n",
       "    </tr>\n",
       "    <tr>\n",
       "      <th>4</th>\n",
       "      <td>476305.16</td>\n",
       "      <td>493194.80</td>\n",
       "      <td>NaN</td>\n",
       "    </tr>\n",
       "    <tr>\n",
       "      <th>5</th>\n",
       "      <td>493055.39</td>\n",
       "      <td>517356.44</td>\n",
       "      <td>NaN</td>\n",
       "    </tr>\n",
       "    <tr>\n",
       "      <th>6</th>\n",
       "      <td>484186.49</td>\n",
       "      <td>496114.05</td>\n",
       "      <td>NaN</td>\n",
       "    </tr>\n",
       "    <tr>\n",
       "      <th>7</th>\n",
       "      <td>482891.36</td>\n",
       "      <td>510951.00</td>\n",
       "      <td>NaN</td>\n",
       "    </tr>\n",
       "    <tr>\n",
       "      <th>8</th>\n",
       "      <td>482410.70</td>\n",
       "      <td>506579.19</td>\n",
       "      <td>NaN</td>\n",
       "    </tr>\n",
       "    <tr>\n",
       "      <th>9</th>\n",
       "      <td>507408.56</td>\n",
       "      <td>494240.44</td>\n",
       "      <td>NaN</td>\n",
       "    </tr>\n",
       "    <tr>\n",
       "      <th>10</th>\n",
       "      <td>320896.67</td>\n",
       "      <td>508057.67</td>\n",
       "      <td>NaN</td>\n",
       "    </tr>\n",
       "    <tr>\n",
       "      <th>11</th>\n",
       "      <td>516307.63</td>\n",
       "      <td>496818.83</td>\n",
       "      <td>NaN</td>\n",
       "    </tr>\n",
       "    <tr>\n",
       "      <th>12</th>\n",
       "      <td>526015.21</td>\n",
       "      <td>510303.44</td>\n",
       "      <td>NaN</td>\n",
       "    </tr>\n",
       "  </tbody>\n",
       "</table>\n",
       "</div>"
      ],
      "text/plain": [
       "year        2021       2022       2023\n",
       "month                                 \n",
       "1            NaN  525408.94  517638.48\n",
       "2            NaN  535725.39  456777.69\n",
       "3      482566.52  515610.42        NaN\n",
       "4      476305.16  493194.80        NaN\n",
       "5      493055.39  517356.44        NaN\n",
       "6      484186.49  496114.05        NaN\n",
       "7      482891.36  510951.00        NaN\n",
       "8      482410.70  506579.19        NaN\n",
       "9      507408.56  494240.44        NaN\n",
       "10     320896.67  508057.67        NaN\n",
       "11     516307.63  496818.83        NaN\n",
       "12     526015.21  510303.44        NaN"
      ]
     },
     "execution_count": 24,
     "metadata": {},
     "output_type": "execute_result"
    }
   ],
   "source": [
    "year_month_amount"
   ]
  },
  {
   "cell_type": "code",
   "execution_count": 25,
   "id": "95ed2059",
   "metadata": {},
   "outputs": [
    {
     "data": {
      "text/plain": [
       "<AxesSubplot:xlabel='month'>"
      ]
     },
     "execution_count": 25,
     "metadata": {},
     "output_type": "execute_result"
    },
    {
     "data": {
      "image/png": "[encoded data removed]",
      "text/plain": [
       "<Figure size 432x288 with 1 Axes>"
      ]
     },
     "metadata": {
      "needs_background": "light"
     },
     "output_type": "display_data"
    }
   ],
   "source": [
    "sns.lineplot(data = year_month_amount)"
   ]
  },
  {
   "cell_type": "markdown",
   "id": "9da6206b",
   "metadata": {},
   "source": [
    "*En regardant les CA par mois à travers les années, on ce rends compte que seul l'année 2022 est complète, 2021 commence à partir de mars et 2023 s'arrête en février.*"
   ]
  },
  {
   "cell_type": "code",
   "execution_count": 26,
   "id": "4de4d112",
   "metadata": {},
   "outputs": [],
   "source": [
    "# CA par années / mois / catégories\n",
    "\n",
    "categ0 = dfcopy[dfcopy[\"categ\"]==0.0]\n",
    "categ0\n",
    "\n",
    "categ1 = dfcopy[dfcopy[\"categ\"]==1.0]\n",
    "categ1\n",
    "\n",
    "categ2 = dfcopy[dfcopy[\"categ\"]==2.0]\n",
    "categ2\n",
    "\n",
    "yoyo0 = pd.crosstab(categ0.month, categ0.year, values = categ0.price, aggfunc = \"sum\")\n",
    "\n",
    "yoyo1 = pd.crosstab(categ1.month, categ1.year, values = categ1.price, aggfunc = \"sum\")\n",
    "\n",
    "yoyo2 = pd.crosstab(categ2.month, categ2.year, values = categ2.price, aggfunc = \"sum\")"
   ]
  },
  {
   "cell_type": "code",
   "execution_count": 27,
   "id": "a2f2bc7b",
   "metadata": {},
   "outputs": [
    {
     "data": {
      "text/plain": [
       "(year        2021       2022       2023\n",
       " month                                 \n",
       " 1            NaN  164280.46  181380.99\n",
       " 2            NaN  183351.22  162554.93\n",
       " 3      193755.08  191618.83        NaN\n",
       " 4      205418.32  175193.12        NaN\n",
       " 5      196298.64  195096.18        NaN\n",
       " 6      168041.08  184032.79        NaN\n",
       " 7      144806.75  187264.88        NaN\n",
       " 8      167863.53  177484.68        NaN\n",
       " 9      246521.79  183455.15        NaN\n",
       " 10     199348.76  187569.07        NaN\n",
       " 11     156049.46  184748.24        NaN\n",
       " 12     206134.17  180554.64        NaN,\n",
       " year        2021       2022       2023\n",
       " month                                 \n",
       " 1            NaN  256267.92  210104.41\n",
       " 2            NaN  213120.64  180347.24\n",
       " 3      186974.17  206485.26        NaN\n",
       " 4      156138.35  195263.97        NaN\n",
       " 5      165893.40  205532.63        NaN\n",
       " 6      189162.04  201912.06        NaN\n",
       " 7      188523.27  193969.72        NaN\n",
       " 8      162991.38  211360.09        NaN\n",
       " 9      190613.78  195379.54        NaN\n",
       " 10      33762.32  199609.66        NaN\n",
       " 11     252910.39  200427.99        NaN\n",
       " 12     251026.75  205945.71        NaN,\n",
       " year        2021       2022       2023\n",
       " month                                 \n",
       " 1            NaN  104860.56  126153.08\n",
       " 2            NaN  139253.53  113875.52\n",
       " 3      101837.27  117506.33        NaN\n",
       " 4      114748.49  122737.71        NaN\n",
       " 5      130863.35  116727.63        NaN\n",
       " 6      126983.37  110169.20        NaN\n",
       " 7      149561.34  129716.40        NaN\n",
       " 8      151555.79  117734.42        NaN\n",
       " 9       70272.99  115405.75        NaN\n",
       " 10      87785.59  120878.94        NaN\n",
       " 11     107347.78  111642.60        NaN\n",
       " 12      68854.29  123803.09        NaN)"
      ]
     },
     "execution_count": 27,
     "metadata": {},
     "output_type": "execute_result"
    }
   ],
   "source": [
    "yoyo0, yoyo1, yoyo2"
   ]
  },
  {
   "cell_type": "code",
   "execution_count": 28,
   "id": "a5ad7f84",
   "metadata": {},
   "outputs": [],
   "source": [
    "#year = dp.resample(\"M\").sum().plot(kind = \"bar\")\n",
    "#plt.figure(figsize=(25, 25))\n",
    "#for bar in year.patches:\n",
    "#    year.annotate(format(bar.get_height(), '.2f'),\n",
    "#                       (bar.get_x() + bar.get_width() / 2,\n",
    "#                        bar.get_height()), ha='center', va='center',\n",
    "#                       size=15, xytext=(0, 8),\n",
    "#                       textcoords='offset points')\n",
    "#year.set_xlabel('Mois')\n",
    "#year.set_ylabel('Sum')\n",
    "#year.set_title(\"CA REALISES PAR MOIS\")\n",
    "#year.set_xticklabels([\"Mars21\",\"Avril21\",\"Mai21\", \"Juin21\", \"Juillet21\", \"Août21\", \"Septembre21\", \"Octobre21\", \"Novembre21\", \"Décembre21\", \n",
    "#                     \"Janvier22\" ,\"Février22\", \"Mars22\",\"Avril22\",\"Mai22\", \"Juin22\", \"Juillet22\", \"Août22\", \"Septembre22\", \"Octobre22\", \"Novembre22\", \"Décembre22\", \n",
    "#                     \"Janvier23\" ,\"Février23\"])"
   ]
  },
  {
   "cell_type": "code",
   "execution_count": 29,
   "id": "73f40c24",
   "metadata": {},
   "outputs": [
    {
     "data": {
      "text/plain": [
       "Text(0.5, 1.0, 'CA REALISES PAR MOIS')"
      ]
     },
     "execution_count": 29,
     "metadata": {},
     "output_type": "execute_result"
    },
    {
     "data": {
      "image/png": "[encoded data removed]",
      "text/plain": [
       "<Figure size 432x288 with 1 Axes>"
      ]
     },
     "metadata": {
      "needs_background": "light"
     },
     "output_type": "display_data"
    }
   ],
   "source": [
    "month = dp.resample(\"M\").sum().plot(kind = \"line\")\n",
    "month.set_xlabel('Mois')\n",
    "month.set_ylabel('Sum')\n",
    "month.set_title(\"CA REALISES PAR MOIS\")"
   ]
  },
  {
   "cell_type": "code",
   "execution_count": 30,
   "id": "520a9d55",
   "metadata": {},
   "outputs": [
    {
     "data": {
      "text/plain": [
       "<AxesSubplot:xlabel='date'>"
      ]
     },
     "execution_count": 30,
     "metadata": {},
     "output_type": "execute_result"
    },
    {
     "data": {
      "image/png": "[encoded data removed]",
      "text/plain": [
       "<Figure size 432x288 with 1 Axes>"
      ]
     },
     "metadata": {
      "needs_background": "light"
     },
     "output_type": "display_data"
    }
   ],
   "source": [
    "mm = dp.resample(\"M\").sum()\n",
    "rm = mm.rolling(window = 2, center = True).mean()\n",
    "sns.lineplot(data = mm, palette=['b'], label = \"Mois\")\n",
    "sns.lineplot(data = rm, palette=['r'], label = \"Moving Average\")"
   ]
  },
  {
   "cell_type": "markdown",
   "id": "f0f08fe1",
   "metadata": {},
   "source": [
    "*L'on peut voir qu'il y a eu une grosse chute du CA entre 09/21 et 10/21 et qu'il y a eu une grosse remontée en 11/21.*\n",
    "\n",
    "***A quoi cela est-il dû ?***"
   ]
  },
  {
   "cell_type": "code",
   "execution_count": 31,
   "id": "641f7d7e",
   "metadata": {},
   "outputs": [
    {
     "data": {
      "text/plain": [
       "<AxesSubplot:xlabel='month'>"
      ]
     },
     "execution_count": 31,
     "metadata": {},
     "output_type": "execute_result"
    },
    {
     "data": {
      "image/png": "[encoded data removed]",
      "text/plain": [
       "<Figure size 432x288 with 1 Axes>"
      ]
     },
     "metadata": {
      "needs_background": "light"
     },
     "output_type": "display_data"
    }
   ],
   "source": [
    "ca_categ_amount = pd.crosstab(dfcopy.month, dfcopy.categ, values = dfcopy.price, aggfunc = \"sum\")\n",
    "sns.lineplot(data=ca_categ_amount)"
   ]
  },
  {
   "cell_type": "markdown",
   "id": "e9f4ca4a",
   "metadata": {},
   "source": [
    "*On peut constater que le problème viendrais surement de la catégorie 1.*"
   ]
  },
  {
   "cell_type": "code",
   "execution_count": 32,
   "id": "2edac8ae",
   "metadata": {},
   "outputs": [
    {
     "data": {
      "text/plain": [
       "<AxesSubplot:xlabel='month'>"
      ]
     },
     "execution_count": 32,
     "metadata": {},
     "output_type": "execute_result"
    },
    {
     "data": {
      "image/png": "[encoded data removed]",
      "text/plain": [
       "<Figure size 432x288 with 1 Axes>"
      ]
     },
     "metadata": {
      "needs_background": "light"
     },
     "output_type": "display_data"
    }
   ],
   "source": [
    "ca_categ_amount_stacked = pd.crosstab(dfcopy.month, dfcopy.categ, values = dfcopy.price, aggfunc = \"sum\")\n",
    "ca_categ_amount_stacked.plot(kind='bar', stacked=True, color=['purple', 'red', 'green'])"
   ]
  },
  {
   "cell_type": "code",
   "execution_count": 33,
   "id": "10b22998",
   "metadata": {},
   "outputs": [],
   "source": [
    "categ1copy = categ1.copy()\n",
    "categ1copy[\"date\"]= pd.to_datetime(categ1copy[\"date\"])\n",
    "categ1copy = categ1copy.set_index('date')"
   ]
  },
  {
   "cell_type": "code",
   "execution_count": 34,
   "id": "72e66d15",
   "metadata": {},
   "outputs": [
    {
     "name": "stderr",
     "output_type": "stream",
     "text": [
      "C:\\Users\\DJAMEL~1\\AppData\\Local\\Temp/ipykernel_17116/393505102.py:1: FutureWarning: Value based partial slicing on non-monotonic DatetimeIndexes with non-existing keys is deprecated and will raise a KeyError in a future Version.\n",
      "  az2021 = categ1copy[\"2021-10-01\" : \"2021-10-31\"]\n"
     ]
    },
    {
     "data": {
      "text/html": [
       "<div>\n",
       "<style scoped>\n",
       "    .dataframe tbody tr th:only-of-type {\n",
       "        vertical-align: middle;\n",
       "    }\n",
       "\n",
       "    .dataframe tbody tr th {\n",
       "        vertical-align: top;\n",
       "    }\n",
       "\n",
       "    .dataframe thead th {\n",
       "        text-align: right;\n",
       "    }\n",
       "</style>\n",
       "<table border=\"1\" class=\"dataframe\">\n",
       "  <thead>\n",
       "    <tr style=\"text-align: right;\">\n",
       "      <th>categ</th>\n",
       "      <th>1.0</th>\n",
       "    </tr>\n",
       "    <tr>\n",
       "      <th>day</th>\n",
       "      <th></th>\n",
       "    </tr>\n",
       "  </thead>\n",
       "  <tbody>\n",
       "    <tr>\n",
       "      <th>1</th>\n",
       "      <td>7003.79</td>\n",
       "    </tr>\n",
       "    <tr>\n",
       "      <th>28</th>\n",
       "      <td>6317.99</td>\n",
       "    </tr>\n",
       "    <tr>\n",
       "      <th>29</th>\n",
       "      <td>6425.18</td>\n",
       "    </tr>\n",
       "    <tr>\n",
       "      <th>30</th>\n",
       "      <td>6753.69</td>\n",
       "    </tr>\n",
       "    <tr>\n",
       "      <th>31</th>\n",
       "      <td>7261.67</td>\n",
       "    </tr>\n",
       "  </tbody>\n",
       "</table>\n",
       "</div>"
      ],
      "text/plain": [
       "categ      1.0\n",
       "day           \n",
       "1      7003.79\n",
       "28     6317.99\n",
       "29     6425.18\n",
       "30     6753.69\n",
       "31     7261.67"
      ]
     },
     "execution_count": 34,
     "metadata": {},
     "output_type": "execute_result"
    }
   ],
   "source": [
    "az2021 = categ1copy[\"2021-10-01\" : \"2021-10-31\"]\n",
    "az2021\n",
    "ctaz2021 = pd.crosstab(az2021.day, az2021.categ, values = az2021.price, aggfunc = \"sum\")\n",
    "ctaz2021"
   ]
  },
  {
   "cell_type": "markdown",
   "id": "92306429",
   "metadata": {},
   "source": [
    "*Le mois d'octobre 2021 ne comporte pas de valeurs pour la période du 2 au 27.*\n",
    "\n",
    "*Cette information nous explique pourquoi l'on ce retrouve au mois d'octobre à avoir une grosse chute du CA.*"
   ]
  },
  {
   "cell_type": "markdown",
   "id": "8857d03a",
   "metadata": {},
   "source": [
    "*Il faut bien garder en tête l'absence de transactions durant la période du 2 au 27 ocotbre 2021 pour la suite de l'analyse.*"
   ]
  },
  {
   "cell_type": "markdown",
   "id": "16b6108d",
   "metadata": {},
   "source": [
    "*En regardant  par catégories l'on voit que la catégorie 1 chute énormément en octobre, la catégorie 0 un peu aussi, mais la 2 augemente légerement.*\n",
    "\n",
    "*La catégorie 1 qui est celle qui représente le plus de CA  dans sa chute elle impact donc grandement le CA.*\n",
    "\n",
    "*La catégorie 0 est la deuxième plus significative en terme de CA (elle suit d'assez près la catégorie 1), chute aussi en octobre, de manière moindre mais suffisament pour enfoncer encore un peu plus le clou.*\n",
    "\n",
    "*La catégorie avait sur les mois précedent chutée et sa remonté sur octobre est très faible.*\n",
    "\n",
    "*Et la grosse remonté du CA est faite par la catégorie 1.*"
   ]
  },
  {
   "cell_type": "code",
   "execution_count": 35,
   "id": "6cf6df70",
   "metadata": {},
   "outputs": [
    {
     "data": {
      "text/plain": [
       "<AxesSubplot:xlabel='month'>"
      ]
     },
     "execution_count": 35,
     "metadata": {},
     "output_type": "execute_result"
    },
    {
     "data": {
      "image/png": "[encoded data removed]",
      "text/plain": [
       "<Figure size 432x288 with 1 Axes>"
      ]
     },
     "metadata": {
      "needs_background": "light"
     },
     "output_type": "display_data"
    }
   ],
   "source": [
    "ca_sex_amount = pd.crosstab(dfcopy.month, dfcopy.sex, values = dfcopy.price, aggfunc = \"sum\")\n",
    "sns.lineplot(data=ca_sex_amount)"
   ]
  },
  {
   "cell_type": "code",
   "execution_count": 36,
   "id": "fcc89c82",
   "metadata": {},
   "outputs": [
    {
     "data": {
      "text/plain": [
       "<AxesSubplot:xlabel='month'>"
      ]
     },
     "execution_count": 36,
     "metadata": {},
     "output_type": "execute_result"
    },
    {
     "data": {
      "image/png": "[encoded data removed]",
      "text/plain": [
       "<Figure size 432x288 with 1 Axes>"
      ]
     },
     "metadata": {
      "needs_background": "light"
     },
     "output_type": "display_data"
    }
   ],
   "source": [
    "ca_age_amount = pd.crosstab(dfcopy.month, dfcopy.ages_range, values = dfcopy.price, aggfunc = \"sum\")\n",
    "sns.lineplot(data=ca_age_amount)"
   ]
  },
  {
   "cell_type": "markdown",
   "id": "d1a50073",
   "metadata": {},
   "source": [
    "### Evolution du CA à travers les semaines"
   ]
  },
  {
   "cell_type": "code",
   "execution_count": 37,
   "id": "3f9e8bcc",
   "metadata": {},
   "outputs": [
    {
     "data": {
      "image/png": "[encoded data removed]",
      "text/plain": [
       "<Figure size 432x288 with 1 Axes>"
      ]
     },
     "metadata": {
      "needs_background": "light"
     },
     "output_type": "display_data"
    }
   ],
   "source": [
    "weeks = dp.resample(\"W\").sum().plot(kind = \"line\")"
   ]
  },
  {
   "cell_type": "code",
   "execution_count": 38,
   "id": "6bf46c13",
   "metadata": {},
   "outputs": [
    {
     "data": {
      "text/plain": [
       "<AxesSubplot:xlabel='date'>"
      ]
     },
     "execution_count": 38,
     "metadata": {},
     "output_type": "execute_result"
    },
    {
     "data": {
      "image/png": "[encoded data removed]",
      "text/plain": [
       "<Figure size 432x288 with 1 Axes>"
      ]
     },
     "metadata": {
      "needs_background": "light"
     },
     "output_type": "display_data"
    }
   ],
   "source": [
    "w = dp.resample(\"w\").sum()\n",
    "rw = w.rolling(window = 7, center = True).mean()\n",
    "sns.lineplot(data = w, palette=['b'], label = \"Semaine\")\n",
    "sns.lineplot(data = rw, palette=['r'], label = \"Moving Average\")"
   ]
  },
  {
   "cell_type": "markdown",
   "id": "0c71155f",
   "metadata": {},
   "source": [
    "### Evolution du CA à travers les 2 semaines"
   ]
  },
  {
   "cell_type": "code",
   "execution_count": 39,
   "id": "3a5c353a",
   "metadata": {},
   "outputs": [
    {
     "data": {
      "text/plain": [
       "<AxesSubplot:xlabel='date'>"
      ]
     },
     "execution_count": 39,
     "metadata": {},
     "output_type": "execute_result"
    },
    {
     "data": {
      "image/png": "[encoded data removed]",
      "text/plain": [
       "<Figure size 432x288 with 1 Axes>"
      ]
     },
     "metadata": {
      "needs_background": "light"
     },
     "output_type": "display_data"
    }
   ],
   "source": [
    "w2 = dp.resample(\"2W\").sum()\n",
    "rw2 = w2.rolling(window = 7, center = True).mean()\n",
    "sns.lineplot(data = w2, palette=['b'], label = \"Jour\")\n",
    "sns.lineplot(data = rw2, palette=['r'], label = \"Moving Average\")"
   ]
  },
  {
   "cell_type": "markdown",
   "id": "65368da5",
   "metadata": {},
   "source": [
    "### Evolution du CA à travers les jours"
   ]
  },
  {
   "cell_type": "code",
   "execution_count": 40,
   "id": "84fe77b9",
   "metadata": {},
   "outputs": [
    {
     "data": {
      "text/plain": [
       "<AxesSubplot:xlabel='date'>"
      ]
     },
     "execution_count": 40,
     "metadata": {},
     "output_type": "execute_result"
    },
    {
     "data": {
      "image/png": "[encoded data removed]",
      "text/plain": [
       "<Figure size 432x288 with 1 Axes>"
      ]
     },
     "metadata": {
      "needs_background": "light"
     },
     "output_type": "display_data"
    }
   ],
   "source": [
    "d = dp.resample(\"D\").sum()\n",
    "rd = d.rolling(window = 7, center = True).mean()\n",
    "sns.lineplot(data = d, palette=['b'], label = \"Jour\")\n",
    "sns.lineplot(data = rd, palette=['r'], label = \"Moving Average\")"
   ]
  },
  {
   "cell_type": "markdown",
   "id": "02446b0c",
   "metadata": {},
   "source": [
    "#### *RECAP*\n",
    "\n",
    "#### *J'ai 3 années calendaires mais 24 mois, car l'année 2021 ne comporte pas les mois de janvier et février et l'année 2023 comporte seulement les mois de janvier et février.*\n",
    "\n",
    "#### *L'année 2022 est la meilleure année en terme de CA et elle à une année complète de ventre.*\n",
    "#### *L'année 2023 est la moins bonne en terme de CA et elle a seulement 2 mois de ventes.*\n",
    "\n",
    "#### *Quand on regarde plus en détails les différentes CA fait sur les différentes mois, l'on constate que les CA oscillent constamment entre 450 000 et 550 000.*\n",
    "#### *Mais il y a eu une grosse baisse de CA en octobre 2021 <font color='red'>(pas de transactions entre le 2 et le 27 octobre 2021)</font> et le mois suivants une grosse augmentation cela est du à la catégorie 1.*\n",
    "#### *Après la grosse remontée il y a un légère baisse et ensuite l'évolution devient très discrète pour finir par rechuter.*\n",
    "\n",
    "#### *Il y a en fin d'année 2021 (fêtes de fin d'années ?) et le début de l'année 2022 (soldes d'hiver ?) une tendence à la hausse.*\n",
    "\n",
    "#### *Le CA va ensuite baisser et \"ocillier\" entre 517 000 et 493 000, jusqu'à baisser à 456 000 pour le mois de février 2023.*\n",
    "\n",
    "#### *En regardant avec des graphiques et en utilisant en plus des moyennes mobiles, l'on constate que le CA évolue avec peu de variation, Il y a quand même la grande variation qui à lieu sur la période septembre/octobre/novembre 2021.*\n",
    "#### *La tendence est à la hausse.*"
   ]
  },
  {
   "cell_type": "code",
   "execution_count": 41,
   "id": "653a407d",
   "metadata": {},
   "outputs": [],
   "source": [
    "#sns.lineplot(data=dp.loc[\"2022\"][\"price\"])\n",
    "#sns.lineplot(data=dp.loc[\"2022-05\": \"2022-07\"][\"price\"])\n",
    "#dp.loc[\"2022\"][\"price\"].resample(\"M\").sum().plot(kind=\"line\")\n",
    "#dp.loc[\"2022\"][\"price\"].resample(\"M\").agg([\"mean\", \"sum\", \"min\", \"max\"])\n",
    "#dp.loc[\"2022\"][\"price\"].resample(\"M\").agg([\"mean\", \"sum\", \"min\", \"max\"]).plot(kind=\"line\")"
   ]
  },
  {
   "cell_type": "markdown",
   "id": "b90b33a0",
   "metadata": {},
   "source": [
    "***"
   ]
  },
  {
   "cell_type": "markdown",
   "id": "9f65dc57",
   "metadata": {},
   "source": [
    "***"
   ]
  },
  {
   "cell_type": "markdown",
   "id": "f9b6f9bc",
   "metadata": {},
   "source": [
    "## <center>Zoom sur les références</center>"
   ]
  },
  {
   "cell_type": "code",
   "execution_count": 42,
   "id": "e75d52e7",
   "metadata": {},
   "outputs": [
    {
     "data": {
      "text/plain": [
       "679332"
      ]
     },
     "execution_count": 42,
     "metadata": {},
     "output_type": "execute_result"
    }
   ],
   "source": [
    "len(dfcopy[\"id_prod\"])"
   ]
  },
  {
   "cell_type": "code",
   "execution_count": 43,
   "id": "64f6d4fc",
   "metadata": {},
   "outputs": [
    {
     "data": {
      "text/html": [
       "<div>\n",
       "<style scoped>\n",
       "    .dataframe tbody tr th:only-of-type {\n",
       "        vertical-align: middle;\n",
       "    }\n",
       "\n",
       "    .dataframe tbody tr th {\n",
       "        vertical-align: top;\n",
       "    }\n",
       "\n",
       "    .dataframe thead th {\n",
       "        text-align: right;\n",
       "    }\n",
       "</style>\n",
       "<table border=\"1\" class=\"dataframe\">\n",
       "  <thead>\n",
       "    <tr style=\"text-align: right;\">\n",
       "      <th></th>\n",
       "      <th>id_prod</th>\n",
       "      <th>date</th>\n",
       "      <th>session_id</th>\n",
       "      <th>client_id</th>\n",
       "      <th>sex</th>\n",
       "      <th>birth</th>\n",
       "      <th>age</th>\n",
       "      <th>price</th>\n",
       "      <th>categ</th>\n",
       "      <th>hours</th>\n",
       "      <th>minutes</th>\n",
       "      <th>day</th>\n",
       "      <th>month</th>\n",
       "      <th>year</th>\n",
       "      <th>ages_range</th>\n",
       "    </tr>\n",
       "  </thead>\n",
       "  <tbody>\n",
       "    <tr>\n",
       "      <th>0</th>\n",
       "      <td>0_1518</td>\n",
       "      <td>2022-05-20 13:21:29.043970</td>\n",
       "      <td>s_211425</td>\n",
       "      <td>c_103</td>\n",
       "      <td>f</td>\n",
       "      <td>1986</td>\n",
       "      <td>36</td>\n",
       "      <td>4.18</td>\n",
       "      <td>0.0</td>\n",
       "      <td>13</td>\n",
       "      <td>21</td>\n",
       "      <td>20</td>\n",
       "      <td>5</td>\n",
       "      <td>2022</td>\n",
       "      <td>31-40</td>\n",
       "    </tr>\n",
       "    <tr>\n",
       "      <th>1</th>\n",
       "      <td>1_251</td>\n",
       "      <td>2022-02-02 07:55:19.149409</td>\n",
       "      <td>s_158752</td>\n",
       "      <td>c_8534</td>\n",
       "      <td>m</td>\n",
       "      <td>1988</td>\n",
       "      <td>34</td>\n",
       "      <td>15.99</td>\n",
       "      <td>1.0</td>\n",
       "      <td>7</td>\n",
       "      <td>55</td>\n",
       "      <td>2</td>\n",
       "      <td>2</td>\n",
       "      <td>2022</td>\n",
       "      <td>31-40</td>\n",
       "    </tr>\n",
       "    <tr>\n",
       "      <th>2</th>\n",
       "      <td>0_1277</td>\n",
       "      <td>2022-06-18 15:44:33.155329</td>\n",
       "      <td>s_225667</td>\n",
       "      <td>c_6714</td>\n",
       "      <td>f</td>\n",
       "      <td>1968</td>\n",
       "      <td>54</td>\n",
       "      <td>7.99</td>\n",
       "      <td>0.0</td>\n",
       "      <td>15</td>\n",
       "      <td>44</td>\n",
       "      <td>18</td>\n",
       "      <td>6</td>\n",
       "      <td>2022</td>\n",
       "      <td>51-60</td>\n",
       "    </tr>\n",
       "    <tr>\n",
       "      <th>3</th>\n",
       "      <td>2_209</td>\n",
       "      <td>2021-06-24 04:19:29.835891</td>\n",
       "      <td>s_52962</td>\n",
       "      <td>c_6941</td>\n",
       "      <td>m</td>\n",
       "      <td>2000</td>\n",
       "      <td>22</td>\n",
       "      <td>69.99</td>\n",
       "      <td>2.0</td>\n",
       "      <td>4</td>\n",
       "      <td>19</td>\n",
       "      <td>24</td>\n",
       "      <td>6</td>\n",
       "      <td>2021</td>\n",
       "      <td>17-25</td>\n",
       "    </tr>\n",
       "    <tr>\n",
       "      <th>4</th>\n",
       "      <td>0_1509</td>\n",
       "      <td>2023-01-11 08:22:08.194479</td>\n",
       "      <td>s_325227</td>\n",
       "      <td>c_4232</td>\n",
       "      <td>m</td>\n",
       "      <td>1980</td>\n",
       "      <td>42</td>\n",
       "      <td>4.99</td>\n",
       "      <td>0.0</td>\n",
       "      <td>8</td>\n",
       "      <td>22</td>\n",
       "      <td>11</td>\n",
       "      <td>1</td>\n",
       "      <td>2023</td>\n",
       "      <td>41-50</td>\n",
       "    </tr>\n",
       "  </tbody>\n",
       "</table>\n",
       "</div>"
      ],
      "text/plain": [
       "  id_prod                        date session_id client_id sex  birth  age  \\\n",
       "0  0_1518  2022-05-20 13:21:29.043970   s_211425     c_103   f   1986   36   \n",
       "1   1_251  2022-02-02 07:55:19.149409   s_158752    c_8534   m   1988   34   \n",
       "2  0_1277  2022-06-18 15:44:33.155329   s_225667    c_6714   f   1968   54   \n",
       "3   2_209  2021-06-24 04:19:29.835891    s_52962    c_6941   m   2000   22   \n",
       "4  0_1509  2023-01-11 08:22:08.194479   s_325227    c_4232   m   1980   42   \n",
       "\n",
       "   price  categ  hours  minutes  day  month  year ages_range  \n",
       "0   4.18    0.0     13       21   20      5  2022      31-40  \n",
       "1  15.99    1.0      7       55    2      2  2022      31-40  \n",
       "2   7.99    0.0     15       44   18      6  2022      51-60  \n",
       "3  69.99    2.0      4       19   24      6  2021      17-25  \n",
       "4   4.99    0.0      8       22   11      1  2023      41-50  "
      ]
     },
     "execution_count": 43,
     "metadata": {},
     "output_type": "execute_result"
    }
   ],
   "source": [
    "dfcopy.head(5)"
   ]
  },
  {
   "cell_type": "markdown",
   "id": "17a70e78",
   "metadata": {},
   "source": [
    "Comme vu plus haut les références commencent toutes par un chiffre (0, 1 ou 2), qui rapelle sa catégories."
   ]
  },
  {
   "cell_type": "markdown",
   "id": "f8fe2d98",
   "metadata": {},
   "source": [
    "### Les 10 références les plus vendues"
   ]
  },
  {
   "cell_type": "code",
   "execution_count": 44,
   "id": "9e6e6ca3",
   "metadata": {},
   "outputs": [
    {
     "data": {
      "text/html": [
       "<div>\n",
       "<style scoped>\n",
       "    .dataframe tbody tr th:only-of-type {\n",
       "        vertical-align: middle;\n",
       "    }\n",
       "\n",
       "    .dataframe tbody tr th {\n",
       "        vertical-align: top;\n",
       "    }\n",
       "\n",
       "    .dataframe thead th {\n",
       "        text-align: right;\n",
       "    }\n",
       "</style>\n",
       "<table border=\"1\" class=\"dataframe\">\n",
       "  <thead>\n",
       "    <tr style=\"text-align: right;\">\n",
       "      <th></th>\n",
       "      <th>id_prod</th>\n",
       "    </tr>\n",
       "  </thead>\n",
       "  <tbody>\n",
       "    <tr>\n",
       "      <th>1_369</th>\n",
       "      <td>2252</td>\n",
       "    </tr>\n",
       "    <tr>\n",
       "      <th>1_417</th>\n",
       "      <td>2189</td>\n",
       "    </tr>\n",
       "    <tr>\n",
       "      <th>1_414</th>\n",
       "      <td>2180</td>\n",
       "    </tr>\n",
       "    <tr>\n",
       "      <th>1_498</th>\n",
       "      <td>2128</td>\n",
       "    </tr>\n",
       "    <tr>\n",
       "      <th>1_425</th>\n",
       "      <td>2096</td>\n",
       "    </tr>\n",
       "    <tr>\n",
       "      <th>1_403</th>\n",
       "      <td>1960</td>\n",
       "    </tr>\n",
       "    <tr>\n",
       "      <th>1_412</th>\n",
       "      <td>1951</td>\n",
       "    </tr>\n",
       "    <tr>\n",
       "      <th>1_413</th>\n",
       "      <td>1945</td>\n",
       "    </tr>\n",
       "    <tr>\n",
       "      <th>1_406</th>\n",
       "      <td>1939</td>\n",
       "    </tr>\n",
       "    <tr>\n",
       "      <th>1_407</th>\n",
       "      <td>1935</td>\n",
       "    </tr>\n",
       "  </tbody>\n",
       "</table>\n",
       "</div>"
      ],
      "text/plain": [
       "       id_prod\n",
       "1_369     2252\n",
       "1_417     2189\n",
       "1_414     2180\n",
       "1_498     2128\n",
       "1_425     2096\n",
       "1_403     1960\n",
       "1_412     1951\n",
       "1_413     1945\n",
       "1_406     1939\n",
       "1_407     1935"
      ]
     },
     "execution_count": 44,
     "metadata": {},
     "output_type": "execute_result"
    }
   ],
   "source": [
    "refe_valuecount = dfcopy[\"id_prod\"].value_counts()\n",
    "refe_valuecount = pd.DataFrame(refe_valuecount)\n",
    "refe_valuecount.nlargest(10, columns = [\"id_prod\"])"
   ]
  },
  {
   "cell_type": "markdown",
   "id": "78792e5d",
   "metadata": {},
   "source": [
    "### Les 10 références les moins vendues"
   ]
  },
  {
   "cell_type": "code",
   "execution_count": 45,
   "id": "5b604ac5",
   "metadata": {},
   "outputs": [
    {
     "data": {
      "text/html": [
       "<div>\n",
       "<style scoped>\n",
       "    .dataframe tbody tr th:only-of-type {\n",
       "        vertical-align: middle;\n",
       "    }\n",
       "\n",
       "    .dataframe tbody tr th {\n",
       "        vertical-align: top;\n",
       "    }\n",
       "\n",
       "    .dataframe thead th {\n",
       "        text-align: right;\n",
       "    }\n",
       "</style>\n",
       "<table border=\"1\" class=\"dataframe\">\n",
       "  <thead>\n",
       "    <tr style=\"text-align: right;\">\n",
       "      <th></th>\n",
       "      <th>id_prod</th>\n",
       "    </tr>\n",
       "  </thead>\n",
       "  <tbody>\n",
       "    <tr>\n",
       "      <th>0_1633</th>\n",
       "      <td>1</td>\n",
       "    </tr>\n",
       "    <tr>\n",
       "      <th>0_807</th>\n",
       "      <td>1</td>\n",
       "    </tr>\n",
       "    <tr>\n",
       "      <th>0_1683</th>\n",
       "      <td>1</td>\n",
       "    </tr>\n",
       "    <tr>\n",
       "      <th>0_541</th>\n",
       "      <td>1</td>\n",
       "    </tr>\n",
       "    <tr>\n",
       "      <th>0_1379</th>\n",
       "      <td>1</td>\n",
       "    </tr>\n",
       "    <tr>\n",
       "      <th>0_886</th>\n",
       "      <td>1</td>\n",
       "    </tr>\n",
       "    <tr>\n",
       "      <th>0_1498</th>\n",
       "      <td>1</td>\n",
       "    </tr>\n",
       "    <tr>\n",
       "      <th>0_1728</th>\n",
       "      <td>1</td>\n",
       "    </tr>\n",
       "    <tr>\n",
       "      <th>0_549</th>\n",
       "      <td>1</td>\n",
       "    </tr>\n",
       "    <tr>\n",
       "      <th>0_2201</th>\n",
       "      <td>1</td>\n",
       "    </tr>\n",
       "  </tbody>\n",
       "</table>\n",
       "</div>"
      ],
      "text/plain": [
       "        id_prod\n",
       "0_1633        1\n",
       "0_807         1\n",
       "0_1683        1\n",
       "0_541         1\n",
       "0_1379        1\n",
       "0_886         1\n",
       "0_1498        1\n",
       "0_1728        1\n",
       "0_549         1\n",
       "0_2201        1"
      ]
     },
     "execution_count": 45,
     "metadata": {},
     "output_type": "execute_result"
    }
   ],
   "source": [
    "refe_valuecount.nsmallest(10, columns = [\"id_prod\"])"
   ]
  },
  {
   "cell_type": "markdown",
   "id": "bf33567e",
   "metadata": {},
   "source": [
    "### Les références qui ont générés le plus de CA"
   ]
  },
  {
   "cell_type": "code",
   "execution_count": 46,
   "id": "0096e5bc",
   "metadata": {},
   "outputs": [
    {
     "data": {
      "text/html": [
       "<div>\n",
       "<style scoped>\n",
       "    .dataframe tbody tr th:only-of-type {\n",
       "        vertical-align: middle;\n",
       "    }\n",
       "\n",
       "    .dataframe tbody tr th {\n",
       "        vertical-align: top;\n",
       "    }\n",
       "\n",
       "    .dataframe thead th {\n",
       "        text-align: right;\n",
       "    }\n",
       "</style>\n",
       "<table border=\"1\" class=\"dataframe\">\n",
       "  <thead>\n",
       "    <tr style=\"text-align: right;\">\n",
       "      <th>categ</th>\n",
       "      <th>0.0</th>\n",
       "      <th>1.0</th>\n",
       "      <th>2.0</th>\n",
       "    </tr>\n",
       "    <tr>\n",
       "      <th>row_0</th>\n",
       "      <th></th>\n",
       "      <th></th>\n",
       "      <th></th>\n",
       "    </tr>\n",
       "  </thead>\n",
       "  <tbody>\n",
       "    <tr>\n",
       "      <th>11856820.47</th>\n",
       "      <td>4422822.76</td>\n",
       "      <td>4653722.69</td>\n",
       "      <td>2780275.02</td>\n",
       "    </tr>\n",
       "  </tbody>\n",
       "</table>\n",
       "</div>"
      ],
      "text/plain": [
       "categ               0.0         1.0         2.0\n",
       "row_0                                          \n",
       "11856820.47  4422822.76  4653722.69  2780275.02"
      ]
     },
     "execution_count": 46,
     "metadata": {},
     "output_type": "execute_result"
    }
   ],
   "source": [
    "ca_categ = pd.crosstab(dfcopy['price'].sum(), dfcopy['categ'], dfcopy[\"price\"], aggfunc = \"sum\")\n",
    "ca_categ"
   ]
  },
  {
   "cell_type": "code",
   "execution_count": 47,
   "id": "8551757b",
   "metadata": {},
   "outputs": [
    {
     "data": {
      "text/plain": [
       "<AxesSubplot:xlabel='categ'>"
      ]
     },
     "execution_count": 47,
     "metadata": {},
     "output_type": "execute_result"
    },
    {
     "data": {
      "image/png": "[encoded data removed]",
      "text/plain": [
       "<Figure size 432x288 with 1 Axes>"
      ]
     },
     "metadata": {
      "needs_background": "light"
     },
     "output_type": "display_data"
    }
   ],
   "source": [
    "sns.barplot(data=ca_categ)"
   ]
  },
  {
   "cell_type": "markdown",
   "id": "55d5d7f5",
   "metadata": {},
   "source": [
    "### Les références les plus présentes en nombres"
   ]
  },
  {
   "cell_type": "code",
   "execution_count": 48,
   "id": "9f4db394",
   "metadata": {},
   "outputs": [
    {
     "data": {
      "text/plain": [
       "<AxesSubplot:xlabel='categ', ylabel='count'>"
      ]
     },
     "execution_count": 48,
     "metadata": {},
     "output_type": "execute_result"
    },
    {
     "data": {
      "image/png": "[encoded data removed]",
      "text/plain": [
       "<Figure size 432x288 with 1 Axes>"
      ]
     },
     "metadata": {
      "needs_background": "light"
     },
     "output_type": "display_data"
    }
   ],
   "source": [
    "sns.countplot(x = \"categ\", data = dfcopy)"
   ]
  },
  {
   "cell_type": "code",
   "execution_count": 49,
   "id": "3a7cccfc",
   "metadata": {},
   "outputs": [
    {
     "data": {
      "text/plain": [
       "<AxesSubplot:xlabel='categ', ylabel='price'>"
      ]
     },
     "execution_count": 49,
     "metadata": {},
     "output_type": "execute_result"
    },
    {
     "data": {
      "image/png": "[encoded data removed]",
      "text/plain": [
       "<Figure size 432x288 with 1 Axes>"
      ]
     },
     "metadata": {
      "needs_background": "light"
     },
     "output_type": "display_data"
    }
   ],
   "source": [
    "sns.scatterplot(data=dfcopy, x=\"categ\", y=\"price\")"
   ]
  },
  {
   "cell_type": "code",
   "execution_count": 50,
   "id": "a16abc11",
   "metadata": {},
   "outputs": [
    {
     "data": {
      "text/plain": [
       "<AxesSubplot:xlabel='prices_range', ylabel='count'>"
      ]
     },
     "execution_count": 50,
     "metadata": {},
     "output_type": "execute_result"
    },
    {
     "data": {
      "image/png": "[encoded data removed]",
      "text/plain": [
       "<Figure size 576x576 with 1 Axes>"
      ]
     },
     "metadata": {},
     "output_type": "display_data"
    }
   ],
   "source": [
    "def price_range(price):\n",
    "    step = [\n",
    "        {'range': (0,49.99), 'val': '0-49.99'},\n",
    "        {'range': (50,99.99), 'val': '50-99.99'},\n",
    "        {'range': (100,149.99), 'val': '100-149.99'},\n",
    "        {'range': (150,199.99),'val': '150-199.99'},\n",
    "        {'range': (200,249.99),'val': '200-249.99'},\n",
    "        {'range': (250,300),'val': '250-300'}]\n",
    "\n",
    "\n",
    "    for i in step:\n",
    "        if i['range'][0] <= price <= i['range'][1]:\n",
    "            return i['val']\n",
    "\n",
    "df['prices_range'] = df['price'].apply(price_range)\n",
    "\n",
    "sns.set(rc={\"figure.figsize\":(8, 8)}) #width=3, #height=4\n",
    "sns.countplot(x=\"prices_range\", data=df, facecolor=(0, 0, 0, 0), linewidth=5, edgecolor=sns.color_palette(\"dark\", 3))"
   ]
  },
  {
   "cell_type": "code",
   "execution_count": 51,
   "id": "0b9eccd2",
   "metadata": {},
   "outputs": [],
   "source": [
    "dfcopy = df.copy()"
   ]
  },
  {
   "cell_type": "markdown",
   "id": "84d82b6c",
   "metadata": {},
   "source": [
    "#### *RECAP*\n",
    "\n",
    "#### *Les 10 réf les plus vendues (quantité) sont des 1.*\n",
    "#### *Les 10 réf les moins vendues (quantité) sont des 0.*\n",
    "#### *Les références qui générés le plus de CA sont d'abord des 1 ensuite des 0 et des 2.*\n",
    "#### *Les références les plus présentes en nombres sont des 0 ensuite des 1 et des 2.*"
   ]
  },
  {
   "cell_type": "markdown",
   "id": "51c0f846",
   "metadata": {},
   "source": [
    "***"
   ]
  },
  {
   "cell_type": "markdown",
   "id": "281b8ad2",
   "metadata": {},
   "source": [
    "***"
   ]
  },
  {
   "cell_type": "markdown",
   "id": "578fd448",
   "metadata": {},
   "source": [
    "## <center>Infos sur les profils clients</center>"
   ]
  },
  {
   "cell_type": "code",
   "execution_count": 52,
   "id": "9150be02",
   "metadata": {},
   "outputs": [
    {
     "data": {
      "text/html": [
       "<div>\n",
       "<style scoped>\n",
       "    .dataframe tbody tr th:only-of-type {\n",
       "        vertical-align: middle;\n",
       "    }\n",
       "\n",
       "    .dataframe tbody tr th {\n",
       "        vertical-align: top;\n",
       "    }\n",
       "\n",
       "    .dataframe thead th {\n",
       "        text-align: right;\n",
       "    }\n",
       "</style>\n",
       "<table border=\"1\" class=\"dataframe\">\n",
       "  <thead>\n",
       "    <tr style=\"text-align: right;\">\n",
       "      <th></th>\n",
       "      <th>id_prod</th>\n",
       "      <th>date</th>\n",
       "      <th>session_id</th>\n",
       "      <th>client_id</th>\n",
       "      <th>sex</th>\n",
       "      <th>birth</th>\n",
       "      <th>age</th>\n",
       "      <th>price</th>\n",
       "      <th>categ</th>\n",
       "      <th>hours</th>\n",
       "      <th>minutes</th>\n",
       "      <th>day</th>\n",
       "      <th>month</th>\n",
       "      <th>year</th>\n",
       "      <th>ages_range</th>\n",
       "      <th>prices_range</th>\n",
       "    </tr>\n",
       "  </thead>\n",
       "  <tbody>\n",
       "    <tr>\n",
       "      <th>0</th>\n",
       "      <td>0_1518</td>\n",
       "      <td>2022-05-20 13:21:29.043970</td>\n",
       "      <td>s_211425</td>\n",
       "      <td>c_103</td>\n",
       "      <td>f</td>\n",
       "      <td>1986</td>\n",
       "      <td>36</td>\n",
       "      <td>4.18</td>\n",
       "      <td>0.0</td>\n",
       "      <td>13</td>\n",
       "      <td>21</td>\n",
       "      <td>20</td>\n",
       "      <td>5</td>\n",
       "      <td>2022</td>\n",
       "      <td>31-40</td>\n",
       "      <td>0-49.99</td>\n",
       "    </tr>\n",
       "    <tr>\n",
       "      <th>1</th>\n",
       "      <td>1_251</td>\n",
       "      <td>2022-02-02 07:55:19.149409</td>\n",
       "      <td>s_158752</td>\n",
       "      <td>c_8534</td>\n",
       "      <td>m</td>\n",
       "      <td>1988</td>\n",
       "      <td>34</td>\n",
       "      <td>15.99</td>\n",
       "      <td>1.0</td>\n",
       "      <td>7</td>\n",
       "      <td>55</td>\n",
       "      <td>2</td>\n",
       "      <td>2</td>\n",
       "      <td>2022</td>\n",
       "      <td>31-40</td>\n",
       "      <td>0-49.99</td>\n",
       "    </tr>\n",
       "    <tr>\n",
       "      <th>2</th>\n",
       "      <td>0_1277</td>\n",
       "      <td>2022-06-18 15:44:33.155329</td>\n",
       "      <td>s_225667</td>\n",
       "      <td>c_6714</td>\n",
       "      <td>f</td>\n",
       "      <td>1968</td>\n",
       "      <td>54</td>\n",
       "      <td>7.99</td>\n",
       "      <td>0.0</td>\n",
       "      <td>15</td>\n",
       "      <td>44</td>\n",
       "      <td>18</td>\n",
       "      <td>6</td>\n",
       "      <td>2022</td>\n",
       "      <td>51-60</td>\n",
       "      <td>0-49.99</td>\n",
       "    </tr>\n",
       "    <tr>\n",
       "      <th>3</th>\n",
       "      <td>2_209</td>\n",
       "      <td>2021-06-24 04:19:29.835891</td>\n",
       "      <td>s_52962</td>\n",
       "      <td>c_6941</td>\n",
       "      <td>m</td>\n",
       "      <td>2000</td>\n",
       "      <td>22</td>\n",
       "      <td>69.99</td>\n",
       "      <td>2.0</td>\n",
       "      <td>4</td>\n",
       "      <td>19</td>\n",
       "      <td>24</td>\n",
       "      <td>6</td>\n",
       "      <td>2021</td>\n",
       "      <td>17-25</td>\n",
       "      <td>50-99.99</td>\n",
       "    </tr>\n",
       "    <tr>\n",
       "      <th>4</th>\n",
       "      <td>0_1509</td>\n",
       "      <td>2023-01-11 08:22:08.194479</td>\n",
       "      <td>s_325227</td>\n",
       "      <td>c_4232</td>\n",
       "      <td>m</td>\n",
       "      <td>1980</td>\n",
       "      <td>42</td>\n",
       "      <td>4.99</td>\n",
       "      <td>0.0</td>\n",
       "      <td>8</td>\n",
       "      <td>22</td>\n",
       "      <td>11</td>\n",
       "      <td>1</td>\n",
       "      <td>2023</td>\n",
       "      <td>41-50</td>\n",
       "      <td>0-49.99</td>\n",
       "    </tr>\n",
       "    <tr>\n",
       "      <th>5</th>\n",
       "      <td>0_1418</td>\n",
       "      <td>2022-10-20 15:59:16.084030</td>\n",
       "      <td>s_285425</td>\n",
       "      <td>c_1478</td>\n",
       "      <td>f</td>\n",
       "      <td>1972</td>\n",
       "      <td>50</td>\n",
       "      <td>8.57</td>\n",
       "      <td>0.0</td>\n",
       "      <td>15</td>\n",
       "      <td>59</td>\n",
       "      <td>20</td>\n",
       "      <td>10</td>\n",
       "      <td>2022</td>\n",
       "      <td>41-50</td>\n",
       "      <td>0-49.99</td>\n",
       "    </tr>\n",
       "    <tr>\n",
       "      <th>6</th>\n",
       "      <td>0_1475</td>\n",
       "      <td>2022-06-03 04:45:09.871601</td>\n",
       "      <td>s_218033</td>\n",
       "      <td>c_7782</td>\n",
       "      <td>m</td>\n",
       "      <td>1981</td>\n",
       "      <td>41</td>\n",
       "      <td>11.99</td>\n",
       "      <td>0.0</td>\n",
       "      <td>4</td>\n",
       "      <td>45</td>\n",
       "      <td>3</td>\n",
       "      <td>6</td>\n",
       "      <td>2022</td>\n",
       "      <td>41-50</td>\n",
       "      <td>0-49.99</td>\n",
       "    </tr>\n",
       "    <tr>\n",
       "      <th>7</th>\n",
       "      <td>0_2110</td>\n",
       "      <td>2021-06-26 14:48:55.311418</td>\n",
       "      <td>s_54122</td>\n",
       "      <td>c_7456</td>\n",
       "      <td>f</td>\n",
       "      <td>1985</td>\n",
       "      <td>37</td>\n",
       "      <td>7.04</td>\n",
       "      <td>0.0</td>\n",
       "      <td>14</td>\n",
       "      <td>48</td>\n",
       "      <td>26</td>\n",
       "      <td>6</td>\n",
       "      <td>2021</td>\n",
       "      <td>31-40</td>\n",
       "      <td>0-49.99</td>\n",
       "    </tr>\n",
       "    <tr>\n",
       "      <th>8</th>\n",
       "      <td>0_1156</td>\n",
       "      <td>2022-12-27 12:27:40.641366</td>\n",
       "      <td>s_318058</td>\n",
       "      <td>c_7363</td>\n",
       "      <td>f</td>\n",
       "      <td>1982</td>\n",
       "      <td>40</td>\n",
       "      <td>12.79</td>\n",
       "      <td>0.0</td>\n",
       "      <td>12</td>\n",
       "      <td>27</td>\n",
       "      <td>27</td>\n",
       "      <td>12</td>\n",
       "      <td>2022</td>\n",
       "      <td>31-40</td>\n",
       "      <td>0-49.99</td>\n",
       "    </tr>\n",
       "    <tr>\n",
       "      <th>9</th>\n",
       "      <td>1_299</td>\n",
       "      <td>2021-11-29 15:54:25.880121</td>\n",
       "      <td>s_126880</td>\n",
       "      <td>c_1847</td>\n",
       "      <td>m</td>\n",
       "      <td>1973</td>\n",
       "      <td>49</td>\n",
       "      <td>13.99</td>\n",
       "      <td>1.0</td>\n",
       "      <td>15</td>\n",
       "      <td>54</td>\n",
       "      <td>29</td>\n",
       "      <td>11</td>\n",
       "      <td>2021</td>\n",
       "      <td>41-50</td>\n",
       "      <td>0-49.99</td>\n",
       "    </tr>\n",
       "  </tbody>\n",
       "</table>\n",
       "</div>"
      ],
      "text/plain": [
       "  id_prod                       date session_id client_id sex  birth  age  \\\n",
       "0  0_1518 2022-05-20 13:21:29.043970   s_211425     c_103   f   1986   36   \n",
       "1   1_251 2022-02-02 07:55:19.149409   s_158752    c_8534   m   1988   34   \n",
       "2  0_1277 2022-06-18 15:44:33.155329   s_225667    c_6714   f   1968   54   \n",
       "3   2_209 2021-06-24 04:19:29.835891    s_52962    c_6941   m   2000   22   \n",
       "4  0_1509 2023-01-11 08:22:08.194479   s_325227    c_4232   m   1980   42   \n",
       "5  0_1418 2022-10-20 15:59:16.084030   s_285425    c_1478   f   1972   50   \n",
       "6  0_1475 2022-06-03 04:45:09.871601   s_218033    c_7782   m   1981   41   \n",
       "7  0_2110 2021-06-26 14:48:55.311418    s_54122    c_7456   f   1985   37   \n",
       "8  0_1156 2022-12-27 12:27:40.641366   s_318058    c_7363   f   1982   40   \n",
       "9   1_299 2021-11-29 15:54:25.880121   s_126880    c_1847   m   1973   49   \n",
       "\n",
       "   price  categ  hours  minutes  day  month  year ages_range prices_range  \n",
       "0   4.18    0.0     13       21   20      5  2022      31-40      0-49.99  \n",
       "1  15.99    1.0      7       55    2      2  2022      31-40      0-49.99  \n",
       "2   7.99    0.0     15       44   18      6  2022      51-60      0-49.99  \n",
       "3  69.99    2.0      4       19   24      6  2021      17-25     50-99.99  \n",
       "4   4.99    0.0      8       22   11      1  2023      41-50      0-49.99  \n",
       "5   8.57    0.0     15       59   20     10  2022      41-50      0-49.99  \n",
       "6  11.99    0.0      4       45    3      6  2022      41-50      0-49.99  \n",
       "7   7.04    0.0     14       48   26      6  2021      31-40      0-49.99  \n",
       "8  12.79    0.0     12       27   27     12  2022      31-40      0-49.99  \n",
       "9  13.99    1.0     15       54   29     11  2021      41-50      0-49.99  "
      ]
     },
     "execution_count": 52,
     "metadata": {},
     "output_type": "execute_result"
    }
   ],
   "source": [
    "dfcopy.head(10)"
   ]
  },
  {
   "cell_type": "markdown",
   "id": "dd8b06d1",
   "metadata": {},
   "source": [
    "### Repartition du CA par sex"
   ]
  },
  {
   "cell_type": "code",
   "execution_count": 53,
   "id": "1e92ddc3",
   "metadata": {},
   "outputs": [
    {
     "data": {
      "text/plain": [
       "<AxesSubplot:xlabel='sex', ylabel='count'>"
      ]
     },
     "execution_count": 53,
     "metadata": {},
     "output_type": "execute_result"
    },
    {
     "data": {
      "image/png": "[encoded data removed]",
      "text/plain": [
       "<Figure size 576x576 with 1 Axes>"
      ]
     },
     "metadata": {},
     "output_type": "display_data"
    }
   ],
   "source": [
    "sns.countplot(x = \"sex\", data = dfcopy)"
   ]
  },
  {
   "cell_type": "code",
   "execution_count": 54,
   "id": "82d49a1d",
   "metadata": {},
   "outputs": [
    {
     "data": {
      "text/plain": [
       "m    340930\n",
       "f    338402\n",
       "Name: sex, dtype: int64"
      ]
     },
     "execution_count": 54,
     "metadata": {},
     "output_type": "execute_result"
    }
   ],
   "source": [
    "dfcopy[\"sex\"].value_counts()"
   ]
  },
  {
   "cell_type": "markdown",
   "id": "1d8613e0",
   "metadata": {},
   "source": [
    "*Il y a presque autant de femmes que d'hommes (il y a 2541 d'hommes de plus que de femmes).*"
   ]
  },
  {
   "cell_type": "markdown",
   "id": "431bf69e",
   "metadata": {},
   "source": [
    "### Repartition du CA par tranches d'âges."
   ]
  },
  {
   "cell_type": "code",
   "execution_count": 55,
   "id": "73f108e9",
   "metadata": {},
   "outputs": [
    {
     "data": {
      "text/plain": [
       "<AxesSubplot:xlabel='ages_range', ylabel='count'>"
      ]
     },
     "execution_count": 55,
     "metadata": {},
     "output_type": "execute_result"
    },
    {
     "data": {
      "image/png": "[encoded data removed]",
      "text/plain": [
       "<Figure size 576x576 with 1 Axes>"
      ]
     },
     "metadata": {},
     "output_type": "display_data"
    }
   ],
   "source": [
    "sns.countplot(x = \"ages_range\", data = dfcopy)"
   ]
  },
  {
   "cell_type": "markdown",
   "id": "46c6f2b2",
   "metadata": {},
   "source": [
    "*Les 3 tranches d'âges les plus présentes sont les 41-50, les 31-40 et les 51-60.*"
   ]
  },
  {
   "cell_type": "markdown",
   "id": "7d446f15",
   "metadata": {},
   "source": [
    "### Repartition du CA par sex et tranches d'âges."
   ]
  },
  {
   "cell_type": "code",
   "execution_count": 56,
   "id": "fb7c4315",
   "metadata": {},
   "outputs": [
    {
     "data": {
      "text/plain": [
       "<AxesSubplot:xlabel='ages_range', ylabel='count'>"
      ]
     },
     "execution_count": 56,
     "metadata": {},
     "output_type": "execute_result"
    },
    {
     "data": {
      "image/png": "[encoded data removed]",
      "text/plain": [
       "<Figure size 576x576 with 1 Axes>"
      ]
     },
     "metadata": {},
     "output_type": "display_data"
    }
   ],
   "source": [
    "sns.countplot(x = \"ages_range\", hue = \"sex\", data = dfcopy)"
   ]
  },
  {
   "cell_type": "markdown",
   "id": "d602de94",
   "metadata": {},
   "source": [
    "*Les hommes sont majoritaires dans les tranches d'âges 41-50 et 17-25.*"
   ]
  },
  {
   "cell_type": "markdown",
   "id": "ce01d114",
   "metadata": {},
   "source": [
    "### Repartition du CA par tranches d'âges et catégories."
   ]
  },
  {
   "cell_type": "code",
   "execution_count": 57,
   "id": "f602579f",
   "metadata": {},
   "outputs": [
    {
     "data": {
      "text/plain": [
       "<AxesSubplot:xlabel='ages_range', ylabel='count'>"
      ]
     },
     "execution_count": 57,
     "metadata": {},
     "output_type": "execute_result"
    },
    {
     "data": {
      "image/png": "[encoded data removed]",
      "text/plain": [
       "<Figure size 576x576 with 1 Axes>"
      ]
     },
     "metadata": {},
     "output_type": "display_data"
    }
   ],
   "source": [
    "sns.countplot(x = \"ages_range\", hue = \"categ\", data = dfcopy)"
   ]
  },
  {
   "cell_type": "markdown",
   "id": "eb8010c2",
   "metadata": {},
   "source": [
    "*La catégories 0 est présente pour les 41-50 et 31-40.*\n",
    "\n",
    "*La catégories 1 est majoritaire pour les autres tranches d'âges mais de manière bien moins significative.*"
   ]
  },
  {
   "cell_type": "markdown",
   "id": "951bfdbe",
   "metadata": {},
   "source": [
    "### Repartition du CA par tranches d'âges et sex."
   ]
  },
  {
   "cell_type": "code",
   "execution_count": 58,
   "id": "c6ee9fd6",
   "metadata": {},
   "outputs": [
    {
     "data": {
      "text/plain": [
       "<AxesSubplot:xlabel='ages_range', ylabel='count'>"
      ]
     },
     "execution_count": 58,
     "metadata": {},
     "output_type": "execute_result"
    },
    {
     "data": {
      "image/png": "[encoded data removed]",
      "text/plain": [
       "<Figure size 576x576 with 1 Axes>"
      ]
     },
     "metadata": {},
     "output_type": "display_data"
    }
   ],
   "source": [
    "sns.countplot(x = \"ages_range\", hue = \"sex\", data = dfcopy)"
   ]
  },
  {
   "cell_type": "markdown",
   "id": "eba6c784",
   "metadata": {},
   "source": [
    "*Les hommes sont beaucoup plus représentés que les femmes dans la tranches 41-50.*"
   ]
  },
  {
   "cell_type": "markdown",
   "id": "b62adec9",
   "metadata": {},
   "source": [
    "### Repartition du CA par sex et categ"
   ]
  },
  {
   "cell_type": "code",
   "execution_count": 59,
   "id": "29c312bd",
   "metadata": {},
   "outputs": [
    {
     "data": {
      "text/html": [
       "<div>\n",
       "<style scoped>\n",
       "    .dataframe tbody tr th:only-of-type {\n",
       "        vertical-align: middle;\n",
       "    }\n",
       "\n",
       "    .dataframe tbody tr th {\n",
       "        vertical-align: top;\n",
       "    }\n",
       "\n",
       "    .dataframe thead th {\n",
       "        text-align: right;\n",
       "    }\n",
       "</style>\n",
       "<table border=\"1\" class=\"dataframe\">\n",
       "  <thead>\n",
       "    <tr style=\"text-align: right;\">\n",
       "      <th>sex</th>\n",
       "      <th>f</th>\n",
       "      <th>m</th>\n",
       "    </tr>\n",
       "    <tr>\n",
       "      <th>categ</th>\n",
       "      <th></th>\n",
       "      <th></th>\n",
       "    </tr>\n",
       "  </thead>\n",
       "  <tbody>\n",
       "    <tr>\n",
       "      <th>0.0</th>\n",
       "      <td>2191649.90</td>\n",
       "      <td>2231172.86</td>\n",
       "    </tr>\n",
       "    <tr>\n",
       "      <th>1.0</th>\n",
       "      <td>2358417.02</td>\n",
       "      <td>2295305.67</td>\n",
       "    </tr>\n",
       "    <tr>\n",
       "      <th>2.0</th>\n",
       "      <td>1311253.04</td>\n",
       "      <td>1469021.98</td>\n",
       "    </tr>\n",
       "  </tbody>\n",
       "</table>\n",
       "</div>"
      ],
      "text/plain": [
       "sex             f           m\n",
       "categ                        \n",
       "0.0    2191649.90  2231172.86\n",
       "1.0    2358417.02  2295305.67\n",
       "2.0    1311253.04  1469021.98"
      ]
     },
     "execution_count": 59,
     "metadata": {},
     "output_type": "execute_result"
    }
   ],
   "source": [
    "xx = pd.crosstab(dfcopy.categ, dfcopy.sex, values = dfcopy.price, aggfunc = \"sum\")\n",
    "xx"
   ]
  },
  {
   "cell_type": "code",
   "execution_count": 60,
   "id": "147330c3",
   "metadata": {},
   "outputs": [
    {
     "data": {
      "text/plain": [
       "<AxesSubplot:xlabel='categ'>"
      ]
     },
     "execution_count": 60,
     "metadata": {},
     "output_type": "execute_result"
    },
    {
     "data": {
      "image/png": "[encoded data removed]",
      "text/plain": [
       "<Figure size 576x576 with 1 Axes>"
      ]
     },
     "metadata": {},
     "output_type": "display_data"
    }
   ],
   "source": [
    "xx.plot(kind='bar', stacked=True, color=['purple', 'red', 'green'])"
   ]
  },
  {
   "cell_type": "markdown",
   "id": "facf7a8d",
   "metadata": {},
   "source": [
    "*Il y a une légère différence, les hommes représentent plus.*"
   ]
  },
  {
   "cell_type": "markdown",
   "id": "d71fa233",
   "metadata": {},
   "source": [
    "### Repartition du CA par tranches d'âge et categ"
   ]
  },
  {
   "cell_type": "code",
   "execution_count": 61,
   "id": "a573d7d4",
   "metadata": {},
   "outputs": [
    {
     "data": {
      "text/html": [
       "<div>\n",
       "<style scoped>\n",
       "    .dataframe tbody tr th:only-of-type {\n",
       "        vertical-align: middle;\n",
       "    }\n",
       "\n",
       "    .dataframe tbody tr th {\n",
       "        vertical-align: top;\n",
       "    }\n",
       "\n",
       "    .dataframe thead th {\n",
       "        text-align: right;\n",
       "    }\n",
       "</style>\n",
       "<table border=\"1\" class=\"dataframe\">\n",
       "  <thead>\n",
       "    <tr style=\"text-align: right;\">\n",
       "      <th>categ</th>\n",
       "      <th>0.0</th>\n",
       "      <th>1.0</th>\n",
       "      <th>2.0</th>\n",
       "    </tr>\n",
       "    <tr>\n",
       "      <th>ages_range</th>\n",
       "      <th></th>\n",
       "      <th></th>\n",
       "      <th></th>\n",
       "    </tr>\n",
       "  </thead>\n",
       "  <tbody>\n",
       "    <tr>\n",
       "      <th>17-25</th>\n",
       "      <td>115670.88</td>\n",
       "      <td>405076.71</td>\n",
       "      <td>1670174.96</td>\n",
       "    </tr>\n",
       "    <tr>\n",
       "      <th>26-30</th>\n",
       "      <td>62219.38</td>\n",
       "      <td>210020.85</td>\n",
       "      <td>831759.36</td>\n",
       "    </tr>\n",
       "    <tr>\n",
       "      <th>31-40</th>\n",
       "      <td>1592731.07</td>\n",
       "      <td>941086.57</td>\n",
       "      <td>66618.37</td>\n",
       "    </tr>\n",
       "    <tr>\n",
       "      <th>41-50</th>\n",
       "      <td>1804855.64</td>\n",
       "      <td>1066262.32</td>\n",
       "      <td>67681.91</td>\n",
       "    </tr>\n",
       "    <tr>\n",
       "      <th>51-60</th>\n",
       "      <td>455873.43</td>\n",
       "      <td>1076773.85</td>\n",
       "      <td>81718.23</td>\n",
       "    </tr>\n",
       "    <tr>\n",
       "      <th>61-70</th>\n",
       "      <td>247518.09</td>\n",
       "      <td>602966.58</td>\n",
       "      <td>41735.32</td>\n",
       "    </tr>\n",
       "    <tr>\n",
       "      <th>71-80</th>\n",
       "      <td>101507.48</td>\n",
       "      <td>244042.46</td>\n",
       "      <td>13733.67</td>\n",
       "    </tr>\n",
       "    <tr>\n",
       "      <th>81-93</th>\n",
       "      <td>42446.79</td>\n",
       "      <td>107493.35</td>\n",
       "      <td>6853.20</td>\n",
       "    </tr>\n",
       "  </tbody>\n",
       "</table>\n",
       "</div>"
      ],
      "text/plain": [
       "categ              0.0         1.0         2.0\n",
       "ages_range                                    \n",
       "17-25        115670.88   405076.71  1670174.96\n",
       "26-30         62219.38   210020.85   831759.36\n",
       "31-40       1592731.07   941086.57    66618.37\n",
       "41-50       1804855.64  1066262.32    67681.91\n",
       "51-60        455873.43  1076773.85    81718.23\n",
       "61-70        247518.09   602966.58    41735.32\n",
       "71-80        101507.48   244042.46    13733.67\n",
       "81-93         42446.79   107493.35     6853.20"
      ]
     },
     "execution_count": 61,
     "metadata": {},
     "output_type": "execute_result"
    }
   ],
   "source": [
    "xx = pd.crosstab(dfcopy.ages_range, dfcopy.categ, values = dfcopy.price, aggfunc = \"sum\")\n",
    "xx"
   ]
  },
  {
   "cell_type": "code",
   "execution_count": 62,
   "id": "103766cf",
   "metadata": {},
   "outputs": [
    {
     "data": {
      "text/plain": [
       "<AxesSubplot:xlabel='ages_range'>"
      ]
     },
     "execution_count": 62,
     "metadata": {},
     "output_type": "execute_result"
    },
    {
     "data": {
      "image/png": "[encoded data removed]",
      "text/plain": [
       "<Figure size 576x576 with 1 Axes>"
      ]
     },
     "metadata": {},
     "output_type": "display_data"
    }
   ],
   "source": [
    "xx.plot(kind='bar', stacked=True, color=['purple', 'red', 'green'])"
   ]
  },
  {
   "cell_type": "markdown",
   "id": "193a7c80",
   "metadata": {},
   "source": [
    "### Repartition du CA par tranches d'âge et sex"
   ]
  },
  {
   "cell_type": "code",
   "execution_count": 63,
   "id": "e8e60b5b",
   "metadata": {},
   "outputs": [
    {
     "data": {
      "text/html": [
       "<div>\n",
       "<style scoped>\n",
       "    .dataframe tbody tr th:only-of-type {\n",
       "        vertical-align: middle;\n",
       "    }\n",
       "\n",
       "    .dataframe tbody tr th {\n",
       "        vertical-align: top;\n",
       "    }\n",
       "\n",
       "    .dataframe thead th {\n",
       "        text-align: right;\n",
       "    }\n",
       "</style>\n",
       "<table border=\"1\" class=\"dataframe\">\n",
       "  <thead>\n",
       "    <tr style=\"text-align: right;\">\n",
       "      <th>sex</th>\n",
       "      <th>f</th>\n",
       "      <th>m</th>\n",
       "    </tr>\n",
       "    <tr>\n",
       "      <th>ages_range</th>\n",
       "      <th></th>\n",
       "      <th></th>\n",
       "    </tr>\n",
       "  </thead>\n",
       "  <tbody>\n",
       "    <tr>\n",
       "      <th>17-25</th>\n",
       "      <td>971624.14</td>\n",
       "      <td>1219298.41</td>\n",
       "    </tr>\n",
       "    <tr>\n",
       "      <th>26-30</th>\n",
       "      <td>581982.34</td>\n",
       "      <td>522017.25</td>\n",
       "    </tr>\n",
       "    <tr>\n",
       "      <th>31-40</th>\n",
       "      <td>1331706.84</td>\n",
       "      <td>1268729.17</td>\n",
       "    </tr>\n",
       "    <tr>\n",
       "      <th>41-50</th>\n",
       "      <td>1360790.50</td>\n",
       "      <td>1578009.37</td>\n",
       "    </tr>\n",
       "    <tr>\n",
       "      <th>51-60</th>\n",
       "      <td>854645.46</td>\n",
       "      <td>759720.05</td>\n",
       "    </tr>\n",
       "    <tr>\n",
       "      <th>61-70</th>\n",
       "      <td>468676.99</td>\n",
       "      <td>423543.00</td>\n",
       "    </tr>\n",
       "    <tr>\n",
       "      <th>71-80</th>\n",
       "      <td>196338.25</td>\n",
       "      <td>162945.36</td>\n",
       "    </tr>\n",
       "    <tr>\n",
       "      <th>81-93</th>\n",
       "      <td>95555.44</td>\n",
       "      <td>61237.90</td>\n",
       "    </tr>\n",
       "  </tbody>\n",
       "</table>\n",
       "</div>"
      ],
      "text/plain": [
       "sex                  f           m\n",
       "ages_range                        \n",
       "17-25        971624.14  1219298.41\n",
       "26-30        581982.34   522017.25\n",
       "31-40       1331706.84  1268729.17\n",
       "41-50       1360790.50  1578009.37\n",
       "51-60        854645.46   759720.05\n",
       "61-70        468676.99   423543.00\n",
       "71-80        196338.25   162945.36\n",
       "81-93         95555.44    61237.90"
      ]
     },
     "execution_count": 63,
     "metadata": {},
     "output_type": "execute_result"
    }
   ],
   "source": [
    "xx = pd.crosstab(dfcopy.ages_range, dfcopy.sex, values = dfcopy.price, aggfunc = \"sum\")\n",
    "xx"
   ]
  },
  {
   "cell_type": "code",
   "execution_count": 64,
   "id": "86564ca6",
   "metadata": {},
   "outputs": [
    {
     "data": {
      "text/plain": [
       "<AxesSubplot:xlabel='ages_range'>"
      ]
     },
     "execution_count": 64,
     "metadata": {},
     "output_type": "execute_result"
    },
    {
     "data": {
      "image/png": "[encoded data removed]",
      "text/plain": [
       "<Figure size 576x576 with 1 Axes>"
      ]
     },
     "metadata": {},
     "output_type": "display_data"
    }
   ],
   "source": [
    "xx.plot(kind='bar', stacked=True, color=['purple', 'red', 'green'])"
   ]
  },
  {
   "cell_type": "markdown",
   "id": "7258b90f",
   "metadata": {},
   "source": [
    "***"
   ]
  },
  {
   "cell_type": "markdown",
   "id": "2939990f",
   "metadata": {},
   "source": [
    "***"
   ]
  },
  {
   "cell_type": "markdown",
   "id": "0ad94620",
   "metadata": {},
   "source": [
    "## <center>La répartition du CA entre les clients (courbe de Lorenz)</center>"
   ]
  },
  {
   "cell_type": "markdown",
   "id": "3554270f",
   "metadata": {},
   "source": [
    "*La courbe de Lorenz est une représentation graphique de la distribution d'une variable.*\n",
    "*Ici nous voulons voir comment ce présente la répartition du CA entre les clients.*\n",
    "*Il faut pour construire une courbe de Lorenz que l'axis x représente la population de 0 à 100% (0 à 1) et que l'axis y représente le pourcentage cumulée du CA.*"
   ]
  },
  {
   "cell_type": "code",
   "execution_count": 65,
   "id": "9881ef5b",
   "metadata": {},
   "outputs": [],
   "source": [
    "#Création d'un dataset ayant pour client_id unique la somme en CA qu'il représente et comme seul colonne \"price\".\n",
    "\n",
    "lorenz = dfcopy.groupby(by=[\"client_id\"]).sum()\n",
    "lorenz.drop([\"birth\", \"categ\", \"hours\", \"minutes\", \"day\", \"month\", \"year\", \"age\"], axis = 1, inplace = True)\n",
    "#lolo = lorenz.copy()"
   ]
  },
  {
   "cell_type": "code",
   "execution_count": 66,
   "id": "78b4043c",
   "metadata": {},
   "outputs": [
    {
     "data": {
      "image/png": "[encoded data removed]",
      "text/plain": [
       "<Figure size 576x576 with 1 Axes>"
      ]
     },
     "metadata": {},
     "output_type": "display_data"
    }
   ],
   "source": [
    "#Ensuite il a fallut que je récupère la colonne \"price\"\n",
    "#Puis que je créer un variable dans laquelle je stock la longeur du nouveau lorenz (pour faire un linespace).\n",
    "#Enfin je fais le cumul des \"price\", je les trie par ordre croissant et je fini par les normaliser (avoir un ordonnée qui va de 0 à 1), en divisent le tout par \"lorenz.sum()\".\n",
    "#Je rajoute de quoi permettre à la courbe de bien commencer à 0\n",
    "\n",
    "lorenz = lorenz['price']\n",
    "n = len(lorenz)\n",
    "lorenz = np.cumsum(np.sort(lorenz)) / lorenz.sum()\n",
    "lorenz = np.append([0],lorenz)\n",
    "\n",
    "#Je créer l'axis x via linspace et je fais apparaitre le graphique.\n",
    "\n",
    "#plt.axes().axis('equal')\n",
    "xaxis = np.linspace(0-1/n,1+1/n,n+1) #Création de l'axis x allant de 0 à 1\n",
    "plt.plot(xaxis, lorenz,drawstyle='steps-post') #Plot des valeurs le x axis (xaxis) représente la population de 0 à 1 et le y axis (lorenz) représente le cumul.\n",
    "plt.plot([0, 1], [0, 1],color='green',\n",
    "         linestyle='dashed',linewidth=2)#Création d'une droite (la droite d'égalité)\n",
    "plt.show()"
   ]
  },
  {
   "cell_type": "code",
   "execution_count": 67,
   "id": "3ff4ca57",
   "metadata": {},
   "outputs": [
    {
     "data": {
      "text/plain": [
       "2380.9848750497285"
      ]
     },
     "execution_count": 67,
     "metadata": {},
     "output_type": "execute_result"
    }
   ],
   "source": [
    "lorenz.sum()"
   ]
  },
  {
   "cell_type": "markdown",
   "id": "377d17f8",
   "metadata": {},
   "source": [
    "*L'indice de Gini calculé ci-dessous permet de connaite l'air de la surface entre la droite et la courbe de Lorenz.*\n",
    "\n",
    "*Cet indice va de 0 à 1.*\n",
    "\n",
    "*0 représente une répartition parfaitement égalitaire.*\n",
    "\n",
    "*1 représente une répartition parfaitement inégalitaire.*"
   ]
  },
  {
   "cell_type": "code",
   "execution_count": 68,
   "id": "b7cb1d2c",
   "metadata": {},
   "outputs": [
    {
     "data": {
      "text/plain": [
       "0.446398866267505"
      ]
     },
     "execution_count": 68,
     "metadata": {},
     "output_type": "execute_result"
    }
   ],
   "source": [
    "# Il faut d'abord calculer la surface sous la courbe, ensuite sachant que la droite coupe en deux la surface total du graphique (qui est 1), il suffit de prendre\n",
    "# la moitité (0.5) et d'y soustraire la surface sous la courbe.\n",
    "\n",
    "#AUC veut dire Area Under Curve\n",
    "AUC = (lorenz.sum() - lorenz[-1]/2 - lorenz[0]/2)/n # Surface sous la courbe de Lorenz.\n",
    "S = 0.5 - AUC # air de la surface entre la droite et la courbe de Lorenz\n",
    "gini = 2*S\n",
    "gini"
   ]
  },
  {
   "cell_type": "markdown",
   "id": "0a126609",
   "metadata": {},
   "source": [
    "***"
   ]
  },
  {
   "cell_type": "markdown",
   "id": "026d366f",
   "metadata": {},
   "source": [
    "***"
   ]
  },
  {
   "cell_type": "markdown",
   "id": "742c991b",
   "metadata": {},
   "source": [
    "***Sauvegarde des modifications apportées au dataset***"
   ]
  },
  {
   "cell_type": "code",
   "execution_count": 69,
   "id": "ee42c0cb",
   "metadata": {},
   "outputs": [],
   "source": [
    "df.to_csv('df_post_antoine.csv')"
   ]
  },
  {
   "cell_type": "code",
   "execution_count": null,
   "id": "54224d9a",
   "metadata": {},
   "outputs": [],
   "source": []
  }
 ],
 "metadata": {
  "kernelspec": {
   "display_name": "Python 3 (ipykernel)",
   "language": "python",
   "name": "python3"
  },
  "language_info": {
   "codemirror_mode": {
    "name": "ipython",
    "version": 3
   },
   "file_extension": ".py",
   "mimetype": "text/x-python",
   "name": "python",
   "nbconvert_exporter": "python",
   "pygments_lexer": "ipython3",
   "version": "3.9.12"
  },
  "latex_envs": {
   "LaTeX_envs_menu_present": true,
   "autoclose": false,
   "autocomplete": true,
   "bibliofile": "biblio.bib",
   "cite_by": "apalike",
   "current_citInitial": 1,
   "eqLabelWithNumbers": true,
   "eqNumInitial": 1,
   "hotkeys": {
    "equation": "Ctrl-E",
    "itemize": "Ctrl-I"
   },
   "labels_anchors": false,
   "latex_user_defs": false,
   "report_style_numbering": false,
   "user_envs_cfg": false
  }
 },
 "nbformat": 4,
 "nbformat_minor": 5
}
