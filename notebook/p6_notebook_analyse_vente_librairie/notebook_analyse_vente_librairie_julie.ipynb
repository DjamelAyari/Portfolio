{
 "cells": [
  {
   "cell_type": "markdown",
   "id": "145d1881",
   "metadata": {},
   "source": [
    "# <center>Analyse des ventes d'une librairie</center>\n",
    "\n",
    "# <center>Demandes de Julie --> Recherche de corrélations, pour voir s’il n’y a pas certains points que nous pourrions analyser.</center>\n",
    "\n",
    "*Julie indique dans son mail:*\n",
    "\n",
    "*J’aimerais que tu regardes en particulier*\n",
    "\n",
    "*-Le liens entre le genre d'un clients et les catégories des livres achetés*\n",
    "\n",
    "*-Le liens entre l'âge des clients et le montant total des achats, la fréquence d'achat, la taille du panier moyen et les catégories des livres achetés.*"
   ]
  },
  {
   "cell_type": "markdown",
   "id": "dfc28ba2",
   "metadata": {},
   "source": [
    "## Importation des librairies"
   ]
  },
  {
   "cell_type": "code",
   "execution_count": 1,
   "id": "8d367933",
   "metadata": {},
   "outputs": [],
   "source": [
    "import pandas as pd\n",
    "import numpy as  np\n",
    "import matplotlib.pyplot as plt\n",
    "import seaborn as sns"
   ]
  },
  {
   "cell_type": "markdown",
   "id": "adcf1bb8",
   "metadata": {},
   "source": [
    "## Importation des dataset"
   ]
  },
  {
   "cell_type": "code",
   "execution_count": 2,
   "id": "8f4105b1",
   "metadata": {},
   "outputs": [],
   "source": [
    "customers = pd.read_csv(\"customers.csv\")\n",
    "\n",
    "products = pd.read_csv(\"products.csv\")\n",
    "\n",
    "transactions = pd.read_csv(\"transactions.csv\")\n",
    "\n",
    "df = pd.read_csv(\"df_post_antoine.csv\")"
   ]
  },
  {
   "cell_type": "code",
   "execution_count": 3,
   "id": "cd2108cc",
   "metadata": {},
   "outputs": [],
   "source": [
    "df.drop(['Unnamed: 0'], axis = 1, inplace = True)"
   ]
  },
  {
   "cell_type": "markdown",
   "id": "3e1ce262",
   "metadata": {},
   "source": [
    "***"
   ]
  },
  {
   "cell_type": "markdown",
   "id": "74de6536",
   "metadata": {},
   "source": [
    "***"
   ]
  },
  {
   "cell_type": "markdown",
   "id": "6502c5c4",
   "metadata": {},
   "source": [
    "## <center>Recherche de corrélations</center>"
   ]
  },
  {
   "cell_type": "markdown",
   "id": "03fb8ded",
   "metadata": {},
   "source": [
    "### ***Je vais dans un premier temps regarder la distribution de mes données.***\n",
    "\n",
    "*-genre d'un client*\n",
    "\n",
    "*-catégories des livres achetés*\n",
    "\n",
    "*-montant total des achats*\n",
    "\n",
    "*-fréquence d'achat*\n",
    "\n",
    "*-taille du panier moyen*\n",
    "\n",
    "*-l'âge des clients*"
   ]
  },
  {
   "cell_type": "markdown",
   "id": "d37b120d",
   "metadata": {},
   "source": [
    "### Le genre de la clientèle est une variables qualitative, ayant 2 possibilités."
   ]
  },
  {
   "cell_type": "code",
   "execution_count": 4,
   "id": "db555549",
   "metadata": {},
   "outputs": [],
   "source": [
    "dfcopy = df.copy()"
   ]
  },
  {
   "cell_type": "code",
   "execution_count": 5,
   "id": "a34a227d",
   "metadata": {},
   "outputs": [
    {
     "data": {
      "text/plain": [
       "<seaborn.axisgrid.FacetGrid at 0x26813548430>"
      ]
     },
     "execution_count": 5,
     "metadata": {},
     "output_type": "execute_result"
    },
    {
     "data": {
      "image/png": "[encoded data removed]",
      "text/plain": [
       "<Figure size 360x360 with 1 Axes>"
      ]
     },
     "metadata": {
      "needs_background": "light"
     },
     "output_type": "display_data"
    }
   ],
   "source": [
    "sns.displot(dfcopy.sex)"
   ]
  },
  {
   "cell_type": "markdown",
   "id": "d7e76eea",
   "metadata": {},
   "source": [
    "### Les catégories de livres sont des variables qualitatives, ayant 3 possibilités."
   ]
  },
  {
   "cell_type": "code",
   "execution_count": 6,
   "id": "3b398dcb",
   "metadata": {},
   "outputs": [
    {
     "data": {
      "text/plain": [
       "<seaborn.axisgrid.FacetGrid at 0x26875d451f0>"
      ]
     },
     "execution_count": 6,
     "metadata": {},
     "output_type": "execute_result"
    },
    {
     "data": {
      "image/png": "[encoded data removed]",
      "text/plain": [
       "<Figure size 360x360 with 1 Axes>"
      ]
     },
     "metadata": {
      "needs_background": "light"
     },
     "output_type": "display_data"
    }
   ],
   "source": [
    "sns.displot(dfcopy.categ)"
   ]
  },
  {
   "cell_type": "markdown",
   "id": "6ac24293",
   "metadata": {},
   "source": [
    "### Le montant total des achats (qu'un client peut faire) est une variable quantitatives."
   ]
  },
  {
   "cell_type": "code",
   "execution_count": 7,
   "id": "255a4f46",
   "metadata": {},
   "outputs": [
    {
     "data": {
      "text/plain": [
       "<seaborn.axisgrid.FacetGrid at 0x26804a3ba90>"
      ]
     },
     "execution_count": 7,
     "metadata": {},
     "output_type": "execute_result"
    },
    {
     "data": {
      "image/png": "[encoded data removed]",
      "text/plain": [
       "<Figure size 420.875x360 with 1 Axes>"
      ]
     },
     "metadata": {
      "needs_background": "light"
     },
     "output_type": "display_data"
    }
   ],
   "source": [
    "ma = pd.pivot_table(dfcopy, values='price', index =\"client_id\", aggfunc=np.sum)\n",
    "ma\n",
    "sns.displot(ma)"
   ]
  },
  {
   "cell_type": "code",
   "execution_count": 8,
   "id": "b5764411",
   "metadata": {},
   "outputs": [
    {
     "name": "stdout",
     "output_type": "stream",
     "text": [
      "[52.23869342] skew > 0 --> More weight in the left tail of the distribution\n",
      "[2972.53506039] kutosis > 0 --> Leptokurtic (more than normal dist hight)\n"
     ]
    }
   ],
   "source": [
    "from scipy.stats import kurtosis\n",
    "from scipy.stats import skew\n",
    "\n",
    "print(skew(ma, bias=False), \"skew > 0 --> More weight in the left tail of the distribution\")\n",
    "print(kurtosis(ma, bias=False), \"kutosis > 0 --> Leptokurtic (more than normal dist hight)\")"
   ]
  },
  {
   "cell_type": "markdown",
   "id": "6aca0e9c",
   "metadata": {},
   "source": [
    "### La fréquence d'achat est une variable quantitative."
   ]
  },
  {
   "cell_type": "code",
   "execution_count": 9,
   "id": "5db6deff",
   "metadata": {},
   "outputs": [
    {
     "data": {
      "text/plain": [
       "<seaborn.axisgrid.FacetGrid at 0x2681f537f10>"
      ]
     },
     "execution_count": 9,
     "metadata": {},
     "output_type": "execute_result"
    },
    {
     "data": {
      "image/png": "[encoded data removed]",
      "text/plain": [
       "<Figure size 360x360 with 1 Axes>"
      ]
     },
     "metadata": {
      "needs_background": "light"
     },
     "output_type": "display_data"
    },
    {
     "data": {
      "image/png": "[encoded data removed]",
      "text/plain": [
       "<Figure size 360x360 with 1 Axes>"
      ]
     },
     "metadata": {
      "needs_background": "light"
     },
     "output_type": "display_data"
    },
    {
     "data": {
      "image/png": "[encoded data removed]",
      "text/plain": [
       "<Figure size 360x360 with 1 Axes>"
      ]
     },
     "metadata": {
      "needs_background": "light"
     },
     "output_type": "display_data"
    },
    {
     "data": {
      "image/png": "[encoded data removed]",
      "text/plain": [
       "<Figure size 360x360 with 1 Axes>"
      ]
     },
     "metadata": {
      "needs_background": "light"
     },
     "output_type": "display_data"
    }
   ],
   "source": [
    "sns.displot(dfcopy.year)\n",
    "sns.displot(dfcopy.month)\n",
    "sns.displot(dfcopy.day)\n",
    "sns.displot(dfcopy.hours)"
   ]
  },
  {
   "cell_type": "markdown",
   "id": "eb3a76d9",
   "metadata": {},
   "source": [
    "### La taille du panier moyen est une variable quantitative."
   ]
  },
  {
   "cell_type": "code",
   "execution_count": 10,
   "id": "9a0e628c",
   "metadata": {},
   "outputs": [
    {
     "data": {
      "text/html": [
       "<div>\n",
       "<style scoped>\n",
       "    .dataframe tbody tr th:only-of-type {\n",
       "        vertical-align: middle;\n",
       "    }\n",
       "\n",
       "    .dataframe tbody tr th {\n",
       "        vertical-align: top;\n",
       "    }\n",
       "\n",
       "    .dataframe thead th {\n",
       "        text-align: right;\n",
       "    }\n",
       "</style>\n",
       "<table border=\"1\" class=\"dataframe\">\n",
       "  <thead>\n",
       "    <tr style=\"text-align: right;\">\n",
       "      <th></th>\n",
       "      <th>price</th>\n",
       "    </tr>\n",
       "    <tr>\n",
       "      <th>age</th>\n",
       "      <th></th>\n",
       "    </tr>\n",
       "  </thead>\n",
       "  <tbody>\n",
       "    <tr>\n",
       "      <th>18</th>\n",
       "      <td>40.201577</td>\n",
       "    </tr>\n",
       "    <tr>\n",
       "      <th>19</th>\n",
       "      <td>40.767737</td>\n",
       "    </tr>\n",
       "    <tr>\n",
       "      <th>20</th>\n",
       "      <td>40.161177</td>\n",
       "    </tr>\n",
       "    <tr>\n",
       "      <th>21</th>\n",
       "      <td>41.979704</td>\n",
       "    </tr>\n",
       "    <tr>\n",
       "      <th>22</th>\n",
       "      <td>37.380738</td>\n",
       "    </tr>\n",
       "    <tr>\n",
       "      <th>...</th>\n",
       "      <td>...</td>\n",
       "    </tr>\n",
       "    <tr>\n",
       "      <th>89</th>\n",
       "      <td>16.111131</td>\n",
       "    </tr>\n",
       "    <tr>\n",
       "      <th>90</th>\n",
       "      <td>16.216045</td>\n",
       "    </tr>\n",
       "    <tr>\n",
       "      <th>91</th>\n",
       "      <td>16.561471</td>\n",
       "    </tr>\n",
       "    <tr>\n",
       "      <th>92</th>\n",
       "      <td>17.760487</td>\n",
       "    </tr>\n",
       "    <tr>\n",
       "      <th>93</th>\n",
       "      <td>16.029104</td>\n",
       "    </tr>\n",
       "  </tbody>\n",
       "</table>\n",
       "<p>76 rows × 1 columns</p>\n",
       "</div>"
      ],
      "text/plain": [
       "         price\n",
       "age           \n",
       "18   40.201577\n",
       "19   40.767737\n",
       "20   40.161177\n",
       "21   41.979704\n",
       "22   37.380738\n",
       "..         ...\n",
       "89   16.111131\n",
       "90   16.216045\n",
       "91   16.561471\n",
       "92   17.760487\n",
       "93   16.029104\n",
       "\n",
       "[76 rows x 1 columns]"
      ]
     },
     "execution_count": 10,
     "metadata": {},
     "output_type": "execute_result"
    }
   ],
   "source": [
    "pm = dfcopy.copy()\n",
    "pm.drop(['id_prod', 'date', 'session_id', 'client_id', 'sex', 'birth',\n",
    "       'categ', 'hours', 'minutes', 'day', 'month', 'year',\n",
    "       'ages_range', 'prices_range'], axis = 1, inplace = True)\n",
    "pm = pd.pivot_table(pm, values='price', index =\"age\", aggfunc=np.mean)\n",
    "pm"
   ]
  },
  {
   "cell_type": "code",
   "execution_count": 11,
   "id": "87b28907",
   "metadata": {},
   "outputs": [
    {
     "data": {
      "text/plain": [
       "<AxesSubplot:xlabel='age'>"
      ]
     },
     "execution_count": 11,
     "metadata": {},
     "output_type": "execute_result"
    },
    {
     "data": {
      "image/png": "[encoded data removed]",
      "text/plain": [
       "<Figure size 432x288 with 1 Axes>"
      ]
     },
     "metadata": {
      "needs_background": "light"
     },
     "output_type": "display_data"
    }
   ],
   "source": [
    "sns.scatterplot(data=pm)"
   ]
  },
  {
   "cell_type": "markdown",
   "id": "f40c0c03",
   "metadata": {},
   "source": [
    "### L'âge des clients est une variable quantitative."
   ]
  },
  {
   "cell_type": "code",
   "execution_count": 12,
   "id": "02224579",
   "metadata": {},
   "outputs": [
    {
     "data": {
      "text/plain": [
       "<seaborn.axisgrid.FacetGrid at 0x26804a4c130>"
      ]
     },
     "execution_count": 12,
     "metadata": {},
     "output_type": "execute_result"
    },
    {
     "data": {
      "image/png": "[encoded data removed]",
      "text/plain": [
       "<Figure size 360x360 with 1 Axes>"
      ]
     },
     "metadata": {
      "needs_background": "light"
     },
     "output_type": "display_data"
    }
   ],
   "source": [
    "sns.displot(dfcopy.age)"
   ]
  },
  {
   "cell_type": "code",
   "execution_count": 13,
   "id": "3635789c",
   "metadata": {},
   "outputs": [
    {
     "name": "stdout",
     "output_type": "stream",
     "text": [
      "0.5683712380588848 skew > 0 --> More weight in the left tail of the distribution\n",
      "0.4187075733102583 kutosis > 0 --> Leptokurtic (more than normal dist hight)\n"
     ]
    }
   ],
   "source": [
    "from scipy.stats import kurtosis\n",
    "from scipy.stats import skew\n",
    "\n",
    "print(skew(dfcopy.age, bias=False), \"skew > 0 --> More weight in the left tail of the distribution\")\n",
    "print(kurtosis(dfcopy.age, bias=False), \"kutosis > 0 --> Leptokurtic (more than normal dist hight)\")"
   ]
  },
  {
   "cell_type": "markdown",
   "id": "2ec1606a",
   "metadata": {},
   "source": [
    "### Le liens entre le genre d'un clients et les catégories des livres achetés.\n",
    "\n",
    "*Le test choisi est le test de chi2 car il permet de vérifier la corrélation entre 2 variables qualitatives.*"
   ]
  },
  {
   "cell_type": "code",
   "execution_count": 14,
   "id": "51541cbe",
   "metadata": {},
   "outputs": [],
   "source": [
    "from scipy.stats import chi2_contingency "
   ]
  },
  {
   "cell_type": "code",
   "execution_count": 15,
   "id": "afc83fe8",
   "metadata": {},
   "outputs": [
    {
     "data": {
      "text/html": [
       "<div>\n",
       "<style scoped>\n",
       "    .dataframe tbody tr th:only-of-type {\n",
       "        vertical-align: middle;\n",
       "    }\n",
       "\n",
       "    .dataframe tbody tr th {\n",
       "        vertical-align: top;\n",
       "    }\n",
       "\n",
       "    .dataframe thead th {\n",
       "        text-align: right;\n",
       "    }\n",
       "</style>\n",
       "<table border=\"1\" class=\"dataframe\">\n",
       "  <thead>\n",
       "    <tr style=\"text-align: right;\">\n",
       "      <th>categ</th>\n",
       "      <th>0.0</th>\n",
       "      <th>1.0</th>\n",
       "      <th>2.0</th>\n",
       "    </tr>\n",
       "    <tr>\n",
       "      <th>sex</th>\n",
       "      <th></th>\n",
       "      <th></th>\n",
       "      <th></th>\n",
       "    </tr>\n",
       "  </thead>\n",
       "  <tbody>\n",
       "    <tr>\n",
       "      <th>f</th>\n",
       "      <td>206220</td>\n",
       "      <td>114899</td>\n",
       "      <td>17283</td>\n",
       "    </tr>\n",
       "    <tr>\n",
       "      <th>m</th>\n",
       "      <td>209460</td>\n",
       "      <td>112270</td>\n",
       "      <td>19200</td>\n",
       "    </tr>\n",
       "  </tbody>\n",
       "</table>\n",
       "</div>"
      ],
      "text/plain": [
       "categ     0.0     1.0    2.0\n",
       "sex                         \n",
       "f      206220  114899  17283\n",
       "m      209460  112270  19200"
      ]
     },
     "execution_count": 15,
     "metadata": {},
     "output_type": "execute_result"
    }
   ],
   "source": [
    "#create contingency table\n",
    "cont_table = pd.crosstab(index=dfcopy['sex'], columns=dfcopy['categ'])\n",
    "cont_table"
   ]
  },
  {
   "cell_type": "markdown",
   "id": "d5470a6e",
   "metadata": {},
   "source": [
    "*expected = The expected frequencies, based on the marginal sums of the table.*\n",
    "\n",
    "*dof = Degree of Freedom*\n",
    "\n",
    "*p = P-Value*"
   ]
  },
  {
   "cell_type": "code",
   "execution_count": 16,
   "id": "116572ec",
   "metadata": {},
   "outputs": [
    {
     "name": "stdout",
     "output_type": "stream",
     "text": [
      "The chi² value is 147.00253568681114\n",
      "The P-Value is 1.1989607410166063e-32\n",
      "The Degree of Freedom is 2\n",
      "The Expected Values are [[207066.56444861 113161.81769444  18173.61785695]\n",
      " [208613.43555139 114007.18230556  18309.38214305]]\n",
      "P-VALUE\n",
      "Alpha= 0.05 P-Value= 1.1989607410166063e-32\n",
      "Dependent (reject H0)\n"
     ]
    }
   ],
   "source": [
    "chi2, p, dof, ex = chi2_contingency(cont_table, correction=False)\n",
    "print(\"The chi² value is\", chi2)\n",
    "print(\"The P-Value is\", p)\n",
    "print(\"The Degree of Freedom is\", dof)\n",
    "print(\"The Expected Values are\", ex)\n",
    "\n",
    "# P-Value\n",
    "print(\"P-VALUE\")\n",
    "alpha = 0.05\n",
    "print(\"Alpha=\", alpha,  \"P-Value=\", p)\n",
    "if p <= alpha:\n",
    "\tprint('Dependent (reject H0)')\n",
    "else:\n",
    "\tprint('Independent (fail to reject H0)')"
   ]
  },
  {
   "cell_type": "markdown",
   "id": "dca26a56",
   "metadata": {},
   "source": [
    "*Il y a un liens entre le genre d'un clients et les catégories des livres achetés.*"
   ]
  },
  {
   "cell_type": "markdown",
   "id": "dec3a00f",
   "metadata": {},
   "source": [
    "### Le liens entre l'âge des clients et le montant total des achats.\n",
    "\n",
    "*Le test choisie est le Spearman's test car il permet connaitre la corrélation entre 2 variables quantitatives dont la distribution n'est pas normale.*"
   ]
  },
  {
   "cell_type": "code",
   "execution_count": 17,
   "id": "cc358e4d",
   "metadata": {},
   "outputs": [
    {
     "data": {
      "text/html": [
       "<div>\n",
       "<style scoped>\n",
       "    .dataframe tbody tr th:only-of-type {\n",
       "        vertical-align: middle;\n",
       "    }\n",
       "\n",
       "    .dataframe tbody tr th {\n",
       "        vertical-align: top;\n",
       "    }\n",
       "\n",
       "    .dataframe thead th {\n",
       "        text-align: right;\n",
       "    }\n",
       "</style>\n",
       "<table border=\"1\" class=\"dataframe\">\n",
       "  <thead>\n",
       "    <tr style=\"text-align: right;\">\n",
       "      <th></th>\n",
       "      <th>age</th>\n",
       "      <th>price</th>\n",
       "    </tr>\n",
       "  </thead>\n",
       "  <tbody>\n",
       "    <tr>\n",
       "      <th>age</th>\n",
       "      <td>1.000000</td>\n",
       "      <td>-0.054885</td>\n",
       "    </tr>\n",
       "    <tr>\n",
       "      <th>price</th>\n",
       "      <td>-0.054885</td>\n",
       "      <td>1.000000</td>\n",
       "    </tr>\n",
       "  </tbody>\n",
       "</table>\n",
       "</div>"
      ],
      "text/plain": [
       "            age     price\n",
       "age    1.000000 -0.054885\n",
       "price -0.054885  1.000000"
      ]
     },
     "execution_count": 17,
     "metadata": {},
     "output_type": "execute_result"
    }
   ],
   "source": [
    "# +1\tComplete positive correlation\n",
    "# 0\tNo correlation\n",
    "# -1\tComplete negative correlation\n",
    "\n",
    "# What do the terms positive and negative mean? \n",
    "# Positive correlation implies that as one variable increases as the other increases as well. \n",
    "# Inversely, a negative correlation implies that as one variable increases, the other decreases.\n",
    "\n",
    "corr = dfcopy.copy()\n",
    "corr.drop(['id_prod', 'date', 'session_id', 'client_id', 'sex', 'birth',\n",
    "       'categ', 'hours', 'minutes', 'day', 'month', 'year',\n",
    "       'ages_range', 'prices_range'], axis = 1, inplace = True)\n",
    "corr.corr(method=\"spearman\")"
   ]
  },
  {
   "cell_type": "markdown",
   "id": "17c12ce3",
   "metadata": {},
   "source": [
    "*Il n'y a pas réellement de correlation entre l'âge des clients et le montant total des achats.*"
   ]
  },
  {
   "cell_type": "markdown",
   "id": "12e78b4a",
   "metadata": {},
   "source": [
    "### Le liens entre l'âge des clients et la fréquence d'achat.\n",
    "\n",
    "*Le test choisie est le Spearman's test car il permet connaitre la corrélation entre 2 variables quantitatives dont la distribution n'est pas normale.*"
   ]
  },
  {
   "cell_type": "code",
   "execution_count": 18,
   "id": "f3698d9d",
   "metadata": {},
   "outputs": [
    {
     "data": {
      "text/html": [
       "<div>\n",
       "<style scoped>\n",
       "    .dataframe tbody tr th:only-of-type {\n",
       "        vertical-align: middle;\n",
       "    }\n",
       "\n",
       "    .dataframe tbody tr th {\n",
       "        vertical-align: top;\n",
       "    }\n",
       "\n",
       "    .dataframe thead th {\n",
       "        text-align: right;\n",
       "    }\n",
       "</style>\n",
       "<table border=\"1\" class=\"dataframe\">\n",
       "  <thead>\n",
       "    <tr style=\"text-align: right;\">\n",
       "      <th></th>\n",
       "      <th>age</th>\n",
       "      <th>hours</th>\n",
       "      <th>minutes</th>\n",
       "      <th>day</th>\n",
       "      <th>month</th>\n",
       "      <th>year</th>\n",
       "    </tr>\n",
       "  </thead>\n",
       "  <tbody>\n",
       "    <tr>\n",
       "      <th>age</th>\n",
       "      <td>1.000000</td>\n",
       "      <td>0.005996</td>\n",
       "      <td>0.001729</td>\n",
       "      <td>-0.004845</td>\n",
       "      <td>0.002874</td>\n",
       "      <td>0.002716</td>\n",
       "    </tr>\n",
       "    <tr>\n",
       "      <th>hours</th>\n",
       "      <td>0.005996</td>\n",
       "      <td>1.000000</td>\n",
       "      <td>0.000839</td>\n",
       "      <td>0.000372</td>\n",
       "      <td>0.001716</td>\n",
       "      <td>0.000516</td>\n",
       "    </tr>\n",
       "    <tr>\n",
       "      <th>minutes</th>\n",
       "      <td>0.001729</td>\n",
       "      <td>0.000839</td>\n",
       "      <td>1.000000</td>\n",
       "      <td>-0.000678</td>\n",
       "      <td>0.000139</td>\n",
       "      <td>0.000261</td>\n",
       "    </tr>\n",
       "    <tr>\n",
       "      <th>day</th>\n",
       "      <td>-0.004845</td>\n",
       "      <td>0.000372</td>\n",
       "      <td>-0.000678</td>\n",
       "      <td>1.000000</td>\n",
       "      <td>0.017971</td>\n",
       "      <td>-0.017977</td>\n",
       "    </tr>\n",
       "    <tr>\n",
       "      <th>month</th>\n",
       "      <td>0.002874</td>\n",
       "      <td>0.001716</td>\n",
       "      <td>0.000139</td>\n",
       "      <td>0.017971</td>\n",
       "      <td>1.000000</td>\n",
       "      <td>-0.351088</td>\n",
       "    </tr>\n",
       "    <tr>\n",
       "      <th>year</th>\n",
       "      <td>0.002716</td>\n",
       "      <td>0.000516</td>\n",
       "      <td>0.000261</td>\n",
       "      <td>-0.017977</td>\n",
       "      <td>-0.351088</td>\n",
       "      <td>1.000000</td>\n",
       "    </tr>\n",
       "  </tbody>\n",
       "</table>\n",
       "</div>"
      ],
      "text/plain": [
       "              age     hours   minutes       day     month      year\n",
       "age      1.000000  0.005996  0.001729 -0.004845  0.002874  0.002716\n",
       "hours    0.005996  1.000000  0.000839  0.000372  0.001716  0.000516\n",
       "minutes  0.001729  0.000839  1.000000 -0.000678  0.000139  0.000261\n",
       "day     -0.004845  0.000372 -0.000678  1.000000  0.017971 -0.017977\n",
       "month    0.002874  0.001716  0.000139  0.017971  1.000000 -0.351088\n",
       "year     0.002716  0.000516  0.000261 -0.017977 -0.351088  1.000000"
      ]
     },
     "execution_count": 18,
     "metadata": {},
     "output_type": "execute_result"
    }
   ],
   "source": [
    "# +1\tComplete positive correlation\n",
    "# 0\tNo correlation\n",
    "# -1\tComplete negative correlation\n",
    "\n",
    "# What do the terms positive and negative mean? \n",
    "# Positive correlation implies that as one variable increases as the other increases as well. \n",
    "# Inversely, a negative correlation implies that as one variable increases, the other decreases.\n",
    "\n",
    "corr = dfcopy.copy()\n",
    "corr.drop(['id_prod', 'date', 'session_id', 'client_id', 'sex', 'birth', 'price',\n",
    "       'categ'], axis = 1, inplace = True)\n",
    "corr.corr(method=\"spearman\")"
   ]
  },
  {
   "cell_type": "markdown",
   "id": "7c8b438a",
   "metadata": {},
   "source": [
    "*Il n'y a pas de correlation entre l'âge des clients et la fréquence d'achat.*"
   ]
  },
  {
   "cell_type": "markdown",
   "id": "7453fdf2",
   "metadata": {},
   "source": [
    "### Le liens entre l'âge des clients et la taille du panier moyen.\n",
    "\n",
    "*Le test choisie est le Spearman's test car il permet connaitre la corrélation entre 2 variables quantitatives dont la distribution n'est pas normale.*"
   ]
  },
  {
   "cell_type": "code",
   "execution_count": 19,
   "id": "f81c1ba6",
   "metadata": {},
   "outputs": [
    {
     "data": {
      "text/html": [
       "<div>\n",
       "<style scoped>\n",
       "    .dataframe tbody tr th:only-of-type {\n",
       "        vertical-align: middle;\n",
       "    }\n",
       "\n",
       "    .dataframe tbody tr th {\n",
       "        vertical-align: top;\n",
       "    }\n",
       "\n",
       "    .dataframe thead th {\n",
       "        text-align: right;\n",
       "    }\n",
       "</style>\n",
       "<table border=\"1\" class=\"dataframe\">\n",
       "  <thead>\n",
       "    <tr style=\"text-align: right;\">\n",
       "      <th></th>\n",
       "      <th>age</th>\n",
       "      <th>price</th>\n",
       "    </tr>\n",
       "  </thead>\n",
       "  <tbody>\n",
       "    <tr>\n",
       "      <th>age</th>\n",
       "      <td>1.000000</td>\n",
       "      <td>-0.086015</td>\n",
       "    </tr>\n",
       "    <tr>\n",
       "      <th>price</th>\n",
       "      <td>-0.086015</td>\n",
       "      <td>1.000000</td>\n",
       "    </tr>\n",
       "  </tbody>\n",
       "</table>\n",
       "</div>"
      ],
      "text/plain": [
       "            age     price\n",
       "age    1.000000 -0.086015\n",
       "price -0.086015  1.000000"
      ]
     },
     "execution_count": 19,
     "metadata": {},
     "output_type": "execute_result"
    }
   ],
   "source": [
    "pm = dfcopy.copy()\n",
    "pm.drop(['id_prod', 'date', 'session_id', 'client_id', 'sex', 'birth',\n",
    "       'categ', 'hours', 'minutes', 'day', 'month', 'year',\n",
    "       'ages_range', 'prices_range'], axis = 1, inplace = True)\n",
    "pm = pd.pivot_table(pm, values='price', index =\"age\", aggfunc=np.mean)\n",
    "pm.reset_index(inplace = True)\n",
    "pm\n",
    "# +1\tComplete positive correlation\n",
    "# 0\tNo correlation\n",
    "# -1\tComplete negative correlation\n",
    "\n",
    "# What do the terms positive and negative mean? \n",
    "# Positive correlation implies that as one variable increases as the other increases as well. \n",
    "# Inversely, a negative correlation implies that as one variable increases, the other decreases.\n",
    "\n",
    "pm.corr(method=\"spearman\")"
   ]
  },
  {
   "cell_type": "markdown",
   "id": "843eee3f",
   "metadata": {},
   "source": [
    "*Il n'y a pas de correlation entre l'âge des clients et la taille du panier moyen.*"
   ]
  },
  {
   "cell_type": "markdown",
   "id": "46d40050",
   "metadata": {},
   "source": [
    "### Le liens entre l'âge des clients et les catégories des livres achetés.\n",
    "\n",
    "*Le test choisie est le test de ANOVA car il permet de comparer une variable quantitative à une variable qualitatives de plus de 2 groupes.*\n",
    "\n",
    "*La variable quantitative n'a pas une distribution normale.*\n",
    "\n",
    "*ANOVA couplé à Fisher c'est l'analyse de la variance.*"
   ]
  },
  {
   "cell_type": "code",
   "execution_count": 20,
   "id": "d949c3e2",
   "metadata": {},
   "outputs": [
    {
     "data": {
      "text/html": [
       "<div>\n",
       "<style scoped>\n",
       "    .dataframe tbody tr th:only-of-type {\n",
       "        vertical-align: middle;\n",
       "    }\n",
       "\n",
       "    .dataframe tbody tr th {\n",
       "        vertical-align: top;\n",
       "    }\n",
       "\n",
       "    .dataframe thead th {\n",
       "        text-align: right;\n",
       "    }\n",
       "</style>\n",
       "<table border=\"1\" class=\"dataframe\">\n",
       "  <thead>\n",
       "    <tr style=\"text-align: right;\">\n",
       "      <th></th>\n",
       "      <th>id_prod</th>\n",
       "      <th>date</th>\n",
       "      <th>session_id</th>\n",
       "      <th>client_id</th>\n",
       "      <th>sex</th>\n",
       "      <th>birth</th>\n",
       "      <th>age</th>\n",
       "      <th>price</th>\n",
       "      <th>categ</th>\n",
       "      <th>hours</th>\n",
       "      <th>minutes</th>\n",
       "      <th>day</th>\n",
       "      <th>month</th>\n",
       "      <th>year</th>\n",
       "      <th>ages_range</th>\n",
       "      <th>prices_range</th>\n",
       "    </tr>\n",
       "  </thead>\n",
       "  <tbody>\n",
       "    <tr>\n",
       "      <th>0</th>\n",
       "      <td>0_1518</td>\n",
       "      <td>2022-05-20 13:21:29.043970</td>\n",
       "      <td>s_211425</td>\n",
       "      <td>c_103</td>\n",
       "      <td>f</td>\n",
       "      <td>1986</td>\n",
       "      <td>36</td>\n",
       "      <td>4.18</td>\n",
       "      <td>0.0</td>\n",
       "      <td>13</td>\n",
       "      <td>21</td>\n",
       "      <td>20</td>\n",
       "      <td>5</td>\n",
       "      <td>2022</td>\n",
       "      <td>31-40</td>\n",
       "      <td>0-49.99</td>\n",
       "    </tr>\n",
       "    <tr>\n",
       "      <th>1</th>\n",
       "      <td>1_251</td>\n",
       "      <td>2022-02-02 07:55:19.149409</td>\n",
       "      <td>s_158752</td>\n",
       "      <td>c_8534</td>\n",
       "      <td>m</td>\n",
       "      <td>1988</td>\n",
       "      <td>34</td>\n",
       "      <td>15.99</td>\n",
       "      <td>1.0</td>\n",
       "      <td>7</td>\n",
       "      <td>55</td>\n",
       "      <td>2</td>\n",
       "      <td>2</td>\n",
       "      <td>2022</td>\n",
       "      <td>31-40</td>\n",
       "      <td>0-49.99</td>\n",
       "    </tr>\n",
       "    <tr>\n",
       "      <th>2</th>\n",
       "      <td>0_1277</td>\n",
       "      <td>2022-06-18 15:44:33.155329</td>\n",
       "      <td>s_225667</td>\n",
       "      <td>c_6714</td>\n",
       "      <td>f</td>\n",
       "      <td>1968</td>\n",
       "      <td>54</td>\n",
       "      <td>7.99</td>\n",
       "      <td>0.0</td>\n",
       "      <td>15</td>\n",
       "      <td>44</td>\n",
       "      <td>18</td>\n",
       "      <td>6</td>\n",
       "      <td>2022</td>\n",
       "      <td>51-60</td>\n",
       "      <td>0-49.99</td>\n",
       "    </tr>\n",
       "    <tr>\n",
       "      <th>3</th>\n",
       "      <td>2_209</td>\n",
       "      <td>2021-06-24 04:19:29.835891</td>\n",
       "      <td>s_52962</td>\n",
       "      <td>c_6941</td>\n",
       "      <td>m</td>\n",
       "      <td>2000</td>\n",
       "      <td>22</td>\n",
       "      <td>69.99</td>\n",
       "      <td>2.0</td>\n",
       "      <td>4</td>\n",
       "      <td>19</td>\n",
       "      <td>24</td>\n",
       "      <td>6</td>\n",
       "      <td>2021</td>\n",
       "      <td>17-25</td>\n",
       "      <td>50-99.99</td>\n",
       "    </tr>\n",
       "    <tr>\n",
       "      <th>4</th>\n",
       "      <td>0_1509</td>\n",
       "      <td>2023-01-11 08:22:08.194479</td>\n",
       "      <td>s_325227</td>\n",
       "      <td>c_4232</td>\n",
       "      <td>m</td>\n",
       "      <td>1980</td>\n",
       "      <td>42</td>\n",
       "      <td>4.99</td>\n",
       "      <td>0.0</td>\n",
       "      <td>8</td>\n",
       "      <td>22</td>\n",
       "      <td>11</td>\n",
       "      <td>1</td>\n",
       "      <td>2023</td>\n",
       "      <td>41-50</td>\n",
       "      <td>0-49.99</td>\n",
       "    </tr>\n",
       "  </tbody>\n",
       "</table>\n",
       "</div>"
      ],
      "text/plain": [
       "  id_prod                        date session_id client_id sex  birth  age  \\\n",
       "0  0_1518  2022-05-20 13:21:29.043970   s_211425     c_103   f   1986   36   \n",
       "1   1_251  2022-02-02 07:55:19.149409   s_158752    c_8534   m   1988   34   \n",
       "2  0_1277  2022-06-18 15:44:33.155329   s_225667    c_6714   f   1968   54   \n",
       "3   2_209  2021-06-24 04:19:29.835891    s_52962    c_6941   m   2000   22   \n",
       "4  0_1509  2023-01-11 08:22:08.194479   s_325227    c_4232   m   1980   42   \n",
       "\n",
       "   price  categ  hours  minutes  day  month  year ages_range prices_range  \n",
       "0   4.18    0.0     13       21   20      5  2022      31-40      0-49.99  \n",
       "1  15.99    1.0      7       55    2      2  2022      31-40      0-49.99  \n",
       "2   7.99    0.0     15       44   18      6  2022      51-60      0-49.99  \n",
       "3  69.99    2.0      4       19   24      6  2021      17-25     50-99.99  \n",
       "4   4.99    0.0      8       22   11      1  2023      41-50      0-49.99  "
      ]
     },
     "execution_count": 20,
     "metadata": {},
     "output_type": "execute_result"
    }
   ],
   "source": [
    "dfcopy.head()"
   ]
  },
  {
   "cell_type": "code",
   "execution_count": 21,
   "id": "7bd22de8",
   "metadata": {},
   "outputs": [
    {
     "data": {
      "text/plain": [
       "<AxesSubplot:title={'center':'age'}, xlabel='categ'>"
      ]
     },
     "execution_count": 21,
     "metadata": {},
     "output_type": "execute_result"
    },
    {
     "data": {
      "image/png": "[encoded data removed]",
      "text/plain": [
       "<Figure size 432x288 with 1 Axes>"
      ]
     },
     "metadata": {
      "needs_background": "light"
     },
     "output_type": "display_data"
    }
   ],
   "source": [
    "dfcopy.boxplot(\"age\", by=\"categ\")"
   ]
  },
  {
   "cell_type": "code",
   "execution_count": 22,
   "id": "a6bca259",
   "metadata": {},
   "outputs": [
    {
     "data": {
      "text/html": [
       "<div>\n",
       "<style scoped>\n",
       "    .dataframe tbody tr th:only-of-type {\n",
       "        vertical-align: middle;\n",
       "    }\n",
       "\n",
       "    .dataframe tbody tr th {\n",
       "        vertical-align: top;\n",
       "    }\n",
       "\n",
       "    .dataframe thead th {\n",
       "        text-align: right;\n",
       "    }\n",
       "</style>\n",
       "<table border=\"1\" class=\"dataframe\">\n",
       "  <thead>\n",
       "    <tr style=\"text-align: right;\">\n",
       "      <th>categ</th>\n",
       "      <th>0.0</th>\n",
       "      <th>1.0</th>\n",
       "      <th>2.0</th>\n",
       "    </tr>\n",
       "    <tr>\n",
       "      <th>age</th>\n",
       "      <th></th>\n",
       "      <th></th>\n",
       "      <th></th>\n",
       "    </tr>\n",
       "  </thead>\n",
       "  <tbody>\n",
       "    <tr>\n",
       "      <th>18</th>\n",
       "      <td>3418</td>\n",
       "      <td>5719</td>\n",
       "      <td>6012</td>\n",
       "    </tr>\n",
       "    <tr>\n",
       "      <th>19</th>\n",
       "      <td>909</td>\n",
       "      <td>1678</td>\n",
       "      <td>1784</td>\n",
       "    </tr>\n",
       "    <tr>\n",
       "      <th>20</th>\n",
       "      <td>1019</td>\n",
       "      <td>1723</td>\n",
       "      <td>1845</td>\n",
       "    </tr>\n",
       "    <tr>\n",
       "      <th>21</th>\n",
       "      <td>974</td>\n",
       "      <td>1550</td>\n",
       "      <td>1728</td>\n",
       "    </tr>\n",
       "    <tr>\n",
       "      <th>22</th>\n",
       "      <td>1116</td>\n",
       "      <td>1628</td>\n",
       "      <td>1671</td>\n",
       "    </tr>\n",
       "    <tr>\n",
       "      <th>...</th>\n",
       "      <td>...</td>\n",
       "      <td>...</td>\n",
       "      <td>...</td>\n",
       "    </tr>\n",
       "    <tr>\n",
       "      <th>89</th>\n",
       "      <td>143</td>\n",
       "      <td>183</td>\n",
       "      <td>1</td>\n",
       "    </tr>\n",
       "    <tr>\n",
       "      <th>90</th>\n",
       "      <td>132</td>\n",
       "      <td>177</td>\n",
       "      <td>2</td>\n",
       "    </tr>\n",
       "    <tr>\n",
       "      <th>91</th>\n",
       "      <td>77</td>\n",
       "      <td>91</td>\n",
       "      <td>2</td>\n",
       "    </tr>\n",
       "    <tr>\n",
       "      <th>92</th>\n",
       "      <td>75</td>\n",
       "      <td>149</td>\n",
       "      <td>2</td>\n",
       "    </tr>\n",
       "    <tr>\n",
       "      <th>93</th>\n",
       "      <td>78</td>\n",
       "      <td>122</td>\n",
       "      <td>1</td>\n",
       "    </tr>\n",
       "  </tbody>\n",
       "</table>\n",
       "<p>76 rows × 3 columns</p>\n",
       "</div>"
      ],
      "text/plain": [
       "categ   0.0   1.0   2.0\n",
       "age                    \n",
       "18     3418  5719  6012\n",
       "19      909  1678  1784\n",
       "20     1019  1723  1845\n",
       "21      974  1550  1728\n",
       "22     1116  1628  1671\n",
       "..      ...   ...   ...\n",
       "89      143   183     1\n",
       "90      132   177     2\n",
       "91       77    91     2\n",
       "92       75   149     2\n",
       "93       78   122     1\n",
       "\n",
       "[76 rows x 3 columns]"
      ]
     },
     "execution_count": 22,
     "metadata": {},
     "output_type": "execute_result"
    }
   ],
   "source": [
    "anova = pd.crosstab(index=dfcopy['age'], columns=dfcopy['categ'])\n",
    "anova"
   ]
  },
  {
   "cell_type": "code",
   "execution_count": 23,
   "id": "4338f21f",
   "metadata": {},
   "outputs": [
    {
     "name": "stdout",
     "output_type": "stream",
     "text": [
      "25.609647729622683 9.537988688247142e-11\n"
     ]
    }
   ],
   "source": [
    "import scipy.stats as stats\n",
    "# stats f_oneway functions takes the groups as input and returns ANOVA F and p value\n",
    "fvalue, pvalue = stats.f_oneway(anova[0.0], anova[1.0], anova[2.0])\n",
    "print(fvalue, pvalue)"
   ]
  },
  {
   "cell_type": "markdown",
   "id": "479a8afe",
   "metadata": {},
   "source": [
    "*Il y a un liens entre le l'âge des clients et les catégories des livres achetés.*"
   ]
  },
  {
   "cell_type": "code",
   "execution_count": null,
   "id": "6c327e3b",
   "metadata": {},
   "outputs": [],
   "source": []
  }
 ],
 "metadata": {
  "kernelspec": {
   "display_name": "Python 3 (ipykernel)",
   "language": "python",
   "name": "python3"
  },
  "language_info": {
   "codemirror_mode": {
    "name": "ipython",
    "version": 3
   },
   "file_extension": ".py",
   "mimetype": "text/x-python",
   "name": "python",
   "nbconvert_exporter": "python",
   "pygments_lexer": "ipython3",
   "version": "3.9.12"
  },
  "latex_envs": {
   "LaTeX_envs_menu_present": true,
   "autoclose": false,
   "autocomplete": true,
   "bibliofile": "biblio.bib",
   "cite_by": "apalike",
   "current_citInitial": 1,
   "eqLabelWithNumbers": true,
   "eqNumInitial": 1,
   "hotkeys": {
    "equation": "Ctrl-E",
    "itemize": "Ctrl-I"
   },
   "labels_anchors": false,
   "latex_user_defs": false,
   "report_style_numbering": false,
   "user_envs_cfg": false
  }
 },
 "nbformat": 4,
 "nbformat_minor": 5
}
