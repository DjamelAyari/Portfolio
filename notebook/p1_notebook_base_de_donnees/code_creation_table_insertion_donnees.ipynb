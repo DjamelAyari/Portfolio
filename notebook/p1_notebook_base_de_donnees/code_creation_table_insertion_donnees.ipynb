{
 "cells": [
  {
   "cell_type": "markdown",
   "id": "0917fa59",
   "metadata": {},
   "source": [
    "# <center>Code de création des tables et insertion des données</center>"
   ]
  },
  {
   "cell_type": "markdown",
   "id": "ecd655eb",
   "metadata": {},
   "source": [
    "## Creation de la base de données"
   ]
  },
  {
   "cell_type": "raw",
   "id": "0e91ff5c",
   "metadata": {},
   "source": [
    "CREATE DATABASE immobilier;"
   ]
  },
  {
   "cell_type": "markdown",
   "id": "b6b1366c",
   "metadata": {},
   "source": [
    "## Rentrer dans la base de données"
   ]
  },
  {
   "cell_type": "raw",
   "id": "d62d2540",
   "metadata": {},
   "source": [
    "USE immobilier;"
   ]
  },
  {
   "cell_type": "markdown",
   "id": "2fef0e00",
   "metadata": {},
   "source": [
    "## Création de la table \"localite\""
   ]
  },
  {
   "cell_type": "raw",
   "id": "573a4365",
   "metadata": {},
   "source": [
    "CREATE TABLE localite (\n",
    "        id_localite INT NOT NULL AUTO_INCREMENT,\n",
    "        n_voie INT NOT NULL,\n",
    "        indice_repetition VARCHAR(5),\n",
    "        type_de_voie VARCHAR(15) NOT NULL,\n",
    "        voie VARCHAR(50) NOT NULL,\n",
    "        code_postale INT NOT NULL,\n",
    "        commune VARCHAR(50) NOT NULL,\n",
    "        departements INT NOT NULL,\n",
    "        PRIMARY KEY (id_localite, n_voie, type_de_voie, voie, code_postale, commune, departements),\n",
    "        CONSTRAINT unique_localite UNIQUE (n_voie, indice_repetition, type_de_voie, voie, code_postale, commune, departements)\n",
    "        ) ENGINE=INNODB;"
   ]
  },
  {
   "cell_type": "markdown",
   "id": "9b742d2c",
   "metadata": {},
   "source": [
    "## Création de la table \"biens\""
   ]
  },
  {
   "cell_type": "raw",
   "id": "a6eecfb3",
   "metadata": {},
   "source": [
    "CREATE TABLE biens (\n",
    "        id_biens INT NOT NULL AUTO_INCREMENT,\n",
    "        type_local VARCHAR(20) NOT NULL,\n",
    "        surface_reelle_bati DECIMAL(10,2) NOT NULL,\n",
    "        nombre_pieces_principales INT NOT NULL,\n",
    "        surface_carrez DECIMAL(15,2) NOT NULL,\n",
    "        nature_culture VARCHAR(5),\n",
    "        surface_terrain DECIMAL(15,2) NOT NULL,\n",
    "        id_localite INT,\n",
    "        PRIMARY KEY (id_biens, type_local, surface_reelle_bati, nombre_pieces_principales, surface_carrez, surface_terrain, id_localite),\n",
    "        CONSTRAINT unique_biens UNIQUE (type_local, surface_reelle_bati, nombre_pieces_principales, surface_carrez, surface_terrain, id_localite),\n",
    "        FOREIGN KEY (id_localite)\n",
    "            REFERENCES localite(id_localite)\n",
    "        ) ENGINE=INNODB;"
   ]
  },
  {
   "cell_type": "markdown",
   "id": "2213f0da",
   "metadata": {},
   "source": [
    "## Création de la table \"mutation\""
   ]
  },
  {
   "cell_type": "raw",
   "id": "f1dff624",
   "metadata": {},
   "source": [
    "CREATE TABLE mutation (\n",
    "        id_mutation INT NOT NULL AUTO_INCREMENT,\n",
    "        date_mutation DATE NOT NULL,\n",
    "        nature_mutation VARCHAR(50) NOT NULL,\n",
    "        valeur_fonciere DECIMAL(15,2) NOT NULL,\n",
    "        id_biens INT,\n",
    "        PRIMARY KEY (id_mutation, date_mutation, nature_mutation, valeur_fonciere, id_biens),\n",
    "        CONSTRAINT unique_mutation UNIQUE (date_mutation, nature_mutation, valeur_fonciere, id_biens),\n",
    "        FOREIGN KEY (id_biens)\n",
    "            REFERENCES biens(id_biens)\n",
    "        ) ENGINE=INNODB;"
   ]
  },
  {
   "cell_type": "markdown",
   "id": "a2d38055",
   "metadata": {},
   "source": [
    "## Insertion des données de la table \"localite\""
   ]
  },
  {
   "cell_type": "raw",
   "id": "fa1872fe",
   "metadata": {},
   "source": [
    "SOURCE C:/Users/DjamelAyari/OneDrive/DATA SCIENCE/OCR/Data Analyst/Projet 3/SQL/localite.sql;"
   ]
  },
  {
   "cell_type": "markdown",
   "id": "012fac4a",
   "metadata": {},
   "source": [
    "## Insertion des données de la table \"biens\""
   ]
  },
  {
   "cell_type": "raw",
   "id": "2f7828a9",
   "metadata": {},
   "source": [
    "SOURCE C:/Users/DjamelAyari/OneDrive/DATA SCIENCE/OCR/Data Analyst/Projet 3/SQL/biens.sql;"
   ]
  },
  {
   "cell_type": "markdown",
   "id": "01f89498",
   "metadata": {},
   "source": [
    "## Insertion des données de la table \"mutation\""
   ]
  },
  {
   "cell_type": "raw",
   "id": "25487cb4",
   "metadata": {},
   "source": [
    "SOURCE C:/Users/DjamelAyari/OneDrive/DATA SCIENCE/OCR/Data Analyst/Projet 3/SQL/mutation.sql;"
   ]
  }
 ],
 "metadata": {
  "kernelspec": {
   "display_name": "Python 3 (ipykernel)",
   "language": "python",
   "name": "python3"
  },
  "language_info": {
   "codemirror_mode": {
    "name": "ipython",
    "version": 3
   },
   "file_extension": ".py",
   "mimetype": "text/x-python",
   "name": "python",
   "nbconvert_exporter": "python",
   "pygments_lexer": "ipython3",
   "version": "3.9.12"
  },
  "latex_envs": {
   "LaTeX_envs_menu_present": true,
   "autoclose": false,
   "autocomplete": true,
   "bibliofile": "biblio.bib",
   "cite_by": "apalike",
   "current_citInitial": 1,
   "eqLabelWithNumbers": true,
   "eqNumInitial": 1,
   "hotkeys": {
    "equation": "Ctrl-E",
    "itemize": "Ctrl-I"
   },
   "labels_anchors": false,
   "latex_user_defs": false,
   "report_style_numbering": false,
   "user_envs_cfg": false
  }
 },
 "nbformat": 4,
 "nbformat_minor": 5
}
